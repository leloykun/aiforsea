{
 "cells": [
  {
   "cell_type": "markdown",
   "metadata": {},
   "source": [
    "# Booking Demand Prediction"
   ]
  },
  {
   "cell_type": "markdown",
   "metadata": {},
   "source": [
    "The goal is simple: Predict the booking demand for five 15-minute timesteps into the future."
   ]
  },
  {
   "cell_type": "code",
   "execution_count": 1,
   "metadata": {},
   "outputs": [],
   "source": [
    "# Uncomment and run to install the required libraries\n",
    "# !pip3 install pygeohash simdkalman sklearn scipy==1.2 statsmodels pystan fbprophet tensorflow==2.0.0-alpha0 --upgrade"
   ]
  },
  {
   "cell_type": "code",
   "execution_count": 2,
   "metadata": {},
   "outputs": [],
   "source": [
    "import math\n",
    "import datetime\n",
    "import multiprocessing\n",
    "\n",
    "import numpy as np\n",
    "import pandas as pd\n",
    "import pygeohash as gh\n",
    "\n",
    "import tensorflow.keras as tfk\n",
    "\n",
    "import simdkalman\n",
    "from sklearn.linear_model import HuberRegressor\n",
    "\n",
    "import statsmodels.api as sm\n",
    "from statsmodels.tsa.holtwinters import SimpleExpSmoothing\n",
    "\n",
    "from fbprophet import Prophet\n",
    "\n",
    "import matplotlib.pyplot as plt"
   ]
  },
  {
   "cell_type": "markdown",
   "metadata": {},
   "source": [
    "## The data"
   ]
  },
  {
   "cell_type": "markdown",
   "metadata": {},
   "source": [
    "### Load the raw data"
   ]
  },
  {
   "cell_type": "code",
   "execution_count": 3,
   "metadata": {},
   "outputs": [],
   "source": [
    "# uncomment and run to download training.csv from the cloud\n",
    "# !wget \"https://s3-ap-southeast-1.amazonaws.com/grab-aiforsea-dataset/traffic-management.zip\"\n",
    "# !unzip \"traffic-management.zip\"\n",
    "# !mv \"Traffic Management/training.csv\" \"training.csv\"\n",
    "# !rm -r \"Traffic Management\" \"traffic-management.zip\""
   ]
  },
  {
   "cell_type": "code",
   "execution_count": 4,
   "metadata": {},
   "outputs": [],
   "source": [
    "# data_location = 'training.csv'\n",
    "data_location = 'test.csv'    # <- for testing"
   ]
  },
  {
   "cell_type": "code",
   "execution_count": 5,
   "metadata": {},
   "outputs": [
    {
     "data": {
      "text/html": [
       "<div>\n",
       "<style scoped>\n",
       "    .dataframe tbody tr th:only-of-type {\n",
       "        vertical-align: middle;\n",
       "    }\n",
       "\n",
       "    .dataframe tbody tr th {\n",
       "        vertical-align: top;\n",
       "    }\n",
       "\n",
       "    .dataframe thead th {\n",
       "        text-align: right;\n",
       "    }\n",
       "</style>\n",
       "<table border=\"1\" class=\"dataframe\">\n",
       "  <thead>\n",
       "    <tr style=\"text-align: right;\">\n",
       "      <th></th>\n",
       "      <th>geohash6</th>\n",
       "      <th>day</th>\n",
       "      <th>timestamp</th>\n",
       "      <th>demand</th>\n",
       "    </tr>\n",
       "  </thead>\n",
       "  <tbody>\n",
       "    <tr>\n",
       "      <th>0</th>\n",
       "      <td>qp03pn</td>\n",
       "      <td>10</td>\n",
       "      <td>14:30</td>\n",
       "      <td>0.024721</td>\n",
       "    </tr>\n",
       "    <tr>\n",
       "      <th>1</th>\n",
       "      <td>qp09sw</td>\n",
       "      <td>9</td>\n",
       "      <td>6:15</td>\n",
       "      <td>0.102821</td>\n",
       "    </tr>\n",
       "    <tr>\n",
       "      <th>2</th>\n",
       "      <td>qp03tu</td>\n",
       "      <td>1</td>\n",
       "      <td>12:15</td>\n",
       "      <td>0.023843</td>\n",
       "    </tr>\n",
       "    <tr>\n",
       "      <th>3</th>\n",
       "      <td>qp03r2</td>\n",
       "      <td>4</td>\n",
       "      <td>22:15</td>\n",
       "      <td>0.123463</td>\n",
       "    </tr>\n",
       "    <tr>\n",
       "      <th>4</th>\n",
       "      <td>qp03md</td>\n",
       "      <td>14</td>\n",
       "      <td>14:45</td>\n",
       "      <td>0.013998</td>\n",
       "    </tr>\n",
       "  </tbody>\n",
       "</table>\n",
       "</div>"
      ],
      "text/plain": [
       "  geohash6  day timestamp    demand\n",
       "0   qp03pn   10     14:30  0.024721\n",
       "1   qp09sw    9      6:15  0.102821\n",
       "2   qp03tu    1     12:15  0.023843\n",
       "3   qp03r2    4     22:15  0.123463\n",
       "4   qp03md   14     14:45  0.013998"
      ]
     },
     "execution_count": 5,
     "metadata": {},
     "output_type": "execute_result"
    }
   ],
   "source": [
    "df = pd.read_csv(data_location)\n",
    "df.head()"
   ]
  },
  {
   "cell_type": "markdown",
   "metadata": {},
   "source": [
    "### Feature Engineering"
   ]
  },
  {
   "cell_type": "markdown",
   "metadata": {},
   "source": [
    "#### Add datetime features"
   ]
  },
  {
   "cell_type": "code",
   "execution_count": 6,
   "metadata": {},
   "outputs": [],
   "source": [
    "timestamps = df['timestamp'].unique()\n",
    "timestamps_decoded = {}\n",
    "for timestamp in timestamps:\n",
    "    timestamps_decoded[timestamp] = list(map(int, timestamp.split(':')))"
   ]
  },
  {
   "cell_type": "code",
   "execution_count": 7,
   "metadata": {},
   "outputs": [
    {
     "name": "stdout",
     "output_type": "stream",
     "text": [
      "Wall time: 1.59 s\n"
     ]
    }
   ],
   "source": [
    "%%time\n",
    "df['hour']    = df['timestamp'].apply(lambda x : timestamps_decoded[x][0])\n",
    "df['minutes'] = df['timestamp'].apply(lambda x : timestamps_decoded[x][1])"
   ]
  },
  {
   "cell_type": "code",
   "execution_count": 8,
   "metadata": {},
   "outputs": [
    {
     "name": "stdout",
     "output_type": "stream",
     "text": [
      "Wall time: 28.1 s\n"
     ]
    }
   ],
   "source": [
    "%%time\n",
    "df['ds'] = df['day'].astype(str) + \" \" + df['timestamp']\n",
    "df['ds'] = df['ds'].apply(lambda x : datetime.datetime.strptime(x, \"%j %H:%M\"))"
   ]
  },
  {
   "cell_type": "code",
   "execution_count": 9,
   "metadata": {},
   "outputs": [
    {
     "data": {
      "text/html": [
       "<div>\n",
       "<style scoped>\n",
       "    .dataframe tbody tr th:only-of-type {\n",
       "        vertical-align: middle;\n",
       "    }\n",
       "\n",
       "    .dataframe tbody tr th {\n",
       "        vertical-align: top;\n",
       "    }\n",
       "\n",
       "    .dataframe thead th {\n",
       "        text-align: right;\n",
       "    }\n",
       "</style>\n",
       "<table border=\"1\" class=\"dataframe\">\n",
       "  <thead>\n",
       "    <tr style=\"text-align: right;\">\n",
       "      <th></th>\n",
       "      <th>geohash6</th>\n",
       "      <th>day</th>\n",
       "      <th>timestamp</th>\n",
       "      <th>demand</th>\n",
       "      <th>hour</th>\n",
       "      <th>minutes</th>\n",
       "      <th>ds</th>\n",
       "    </tr>\n",
       "  </thead>\n",
       "  <tbody>\n",
       "    <tr>\n",
       "      <th>0</th>\n",
       "      <td>qp03pn</td>\n",
       "      <td>10</td>\n",
       "      <td>14:30</td>\n",
       "      <td>0.024721</td>\n",
       "      <td>14</td>\n",
       "      <td>30</td>\n",
       "      <td>1900-01-10 14:30:00</td>\n",
       "    </tr>\n",
       "    <tr>\n",
       "      <th>1</th>\n",
       "      <td>qp09sw</td>\n",
       "      <td>9</td>\n",
       "      <td>6:15</td>\n",
       "      <td>0.102821</td>\n",
       "      <td>6</td>\n",
       "      <td>15</td>\n",
       "      <td>1900-01-09 06:15:00</td>\n",
       "    </tr>\n",
       "    <tr>\n",
       "      <th>2</th>\n",
       "      <td>qp03tu</td>\n",
       "      <td>1</td>\n",
       "      <td>12:15</td>\n",
       "      <td>0.023843</td>\n",
       "      <td>12</td>\n",
       "      <td>15</td>\n",
       "      <td>1900-01-01 12:15:00</td>\n",
       "    </tr>\n",
       "    <tr>\n",
       "      <th>3</th>\n",
       "      <td>qp03r2</td>\n",
       "      <td>4</td>\n",
       "      <td>22:15</td>\n",
       "      <td>0.123463</td>\n",
       "      <td>22</td>\n",
       "      <td>15</td>\n",
       "      <td>1900-01-04 22:15:00</td>\n",
       "    </tr>\n",
       "    <tr>\n",
       "      <th>4</th>\n",
       "      <td>qp03md</td>\n",
       "      <td>14</td>\n",
       "      <td>14:45</td>\n",
       "      <td>0.013998</td>\n",
       "      <td>14</td>\n",
       "      <td>45</td>\n",
       "      <td>1900-01-14 14:45:00</td>\n",
       "    </tr>\n",
       "  </tbody>\n",
       "</table>\n",
       "</div>"
      ],
      "text/plain": [
       "  geohash6  day timestamp    demand  hour  minutes                  ds\n",
       "0   qp03pn   10     14:30  0.024721    14       30 1900-01-10 14:30:00\n",
       "1   qp09sw    9      6:15  0.102821     6       15 1900-01-09 06:15:00\n",
       "2   qp03tu    1     12:15  0.023843    12       15 1900-01-01 12:15:00\n",
       "3   qp03r2    4     22:15  0.123463    22       15 1900-01-04 22:15:00\n",
       "4   qp03md   14     14:45  0.013998    14       45 1900-01-14 14:45:00"
      ]
     },
     "execution_count": 9,
     "metadata": {},
     "output_type": "execute_result"
    }
   ],
   "source": [
    "df.head()"
   ]
  },
  {
   "cell_type": "markdown",
   "metadata": {},
   "source": [
    "#### Get unique locations"
   ]
  },
  {
   "cell_type": "code",
   "execution_count": 10,
   "metadata": {},
   "outputs": [
    {
     "name": "stdout",
     "output_type": "stream",
     "text": [
      "The dataset has 1300 unique geohashes:\n",
      " ['qp03pn' 'qp09sw' 'qp03tu' ... 'qp09j9' 'qp0917' 'qp09dz']\n"
     ]
    }
   ],
   "source": [
    "locations = df['geohash6'].unique()\n",
    "print(\"The dataset has\", len(locations), \"unique geohashes:\\n\", locations)"
   ]
  },
  {
   "cell_type": "markdown",
   "metadata": {},
   "source": [
    "#### Fill in the missing values"
   ]
  },
  {
   "cell_type": "code",
   "execution_count": 11,
   "metadata": {},
   "outputs": [
    {
     "name": "stdout",
     "output_type": "stream",
     "text": [
      "1900-01-01 00:00:00 --to--> 1900-01-14 23:45:00 with steps: 0:15:00\n"
     ]
    }
   ],
   "source": [
    "min_ds = df['ds'].min()\n",
    "max_ds = df['ds'].max()\n",
    "delta_ds = datetime.timedelta(minutes=15)\n",
    "print(min_ds, '--to-->', max_ds, 'with steps:', delta_ds)"
   ]
  },
  {
   "cell_type": "code",
   "execution_count": 12,
   "metadata": {},
   "outputs": [
    {
     "name": "stdout",
     "output_type": "stream",
     "text": [
      "Wall time: 7.95 s\n"
     ]
    }
   ],
   "source": [
    "%%time\n",
    "present_values = df[['geohash6', 'ds']].values\n",
    "present_values = set(tuple(x) for x in present_values)"
   ]
  },
  {
   "cell_type": "code",
   "execution_count": 13,
   "metadata": {},
   "outputs": [
    {
     "name": "stdout",
     "output_type": "stream",
     "text": [
      "Wall time: 26.1 s\n"
     ]
    }
   ],
   "source": [
    "%%time\n",
    "missing_values = []\n",
    "for location in locations:\n",
    "    cur_time = min_ds\n",
    "    while cur_time <= max_ds:\n",
    "        if not (location, cur_time) in present_values:\n",
    "            x = {'geohash6' : location,\n",
    "                 'day' : cur_time.dayofyear,\n",
    "                 'timestamp' : str(int(cur_time.hour)) + \":\" + str(int(cur_time.minute)),\n",
    "                 'demand' : 0,\n",
    "                 'hour' : cur_time.hour,\n",
    "                 'minutes' : cur_time.minute,\n",
    "                 'ds' : cur_time}\n",
    "            missing_values.append(x)\n",
    "        cur_time += delta_ds"
   ]
  },
  {
   "cell_type": "code",
   "execution_count": 14,
   "metadata": {},
   "outputs": [
    {
     "name": "stdout",
     "output_type": "stream",
     "text": [
      "Wall time: 2.93 s\n"
     ]
    }
   ],
   "source": [
    "%%time\n",
    "df_missing = pd.DataFrame(missing_values)"
   ]
  },
  {
   "cell_type": "code",
   "execution_count": 15,
   "metadata": {},
   "outputs": [
    {
     "data": {
      "text/html": [
       "<div>\n",
       "<style scoped>\n",
       "    .dataframe tbody tr th:only-of-type {\n",
       "        vertical-align: middle;\n",
       "    }\n",
       "\n",
       "    .dataframe tbody tr th {\n",
       "        vertical-align: top;\n",
       "    }\n",
       "\n",
       "    .dataframe thead th {\n",
       "        text-align: right;\n",
       "    }\n",
       "</style>\n",
       "<table border=\"1\" class=\"dataframe\">\n",
       "  <thead>\n",
       "    <tr style=\"text-align: right;\">\n",
       "      <th></th>\n",
       "      <th>geohash6</th>\n",
       "      <th>day</th>\n",
       "      <th>timestamp</th>\n",
       "      <th>demand</th>\n",
       "      <th>hour</th>\n",
       "      <th>minutes</th>\n",
       "      <th>ds</th>\n",
       "    </tr>\n",
       "  </thead>\n",
       "  <tbody>\n",
       "    <tr>\n",
       "      <th>0</th>\n",
       "      <td>qp03pn</td>\n",
       "      <td>10</td>\n",
       "      <td>14:30</td>\n",
       "      <td>0.024721</td>\n",
       "      <td>14</td>\n",
       "      <td>30</td>\n",
       "      <td>1900-01-10 14:30:00</td>\n",
       "    </tr>\n",
       "    <tr>\n",
       "      <th>1</th>\n",
       "      <td>qp09sw</td>\n",
       "      <td>9</td>\n",
       "      <td>6:15</td>\n",
       "      <td>0.102821</td>\n",
       "      <td>6</td>\n",
       "      <td>15</td>\n",
       "      <td>1900-01-09 06:15:00</td>\n",
       "    </tr>\n",
       "    <tr>\n",
       "      <th>2</th>\n",
       "      <td>qp03tu</td>\n",
       "      <td>1</td>\n",
       "      <td>12:15</td>\n",
       "      <td>0.023843</td>\n",
       "      <td>12</td>\n",
       "      <td>15</td>\n",
       "      <td>1900-01-01 12:15:00</td>\n",
       "    </tr>\n",
       "    <tr>\n",
       "      <th>3</th>\n",
       "      <td>qp03r2</td>\n",
       "      <td>4</td>\n",
       "      <td>22:15</td>\n",
       "      <td>0.123463</td>\n",
       "      <td>22</td>\n",
       "      <td>15</td>\n",
       "      <td>1900-01-04 22:15:00</td>\n",
       "    </tr>\n",
       "    <tr>\n",
       "      <th>4</th>\n",
       "      <td>qp03md</td>\n",
       "      <td>14</td>\n",
       "      <td>14:45</td>\n",
       "      <td>0.013998</td>\n",
       "      <td>14</td>\n",
       "      <td>45</td>\n",
       "      <td>1900-01-14 14:45:00</td>\n",
       "    </tr>\n",
       "  </tbody>\n",
       "</table>\n",
       "</div>"
      ],
      "text/plain": [
       "  geohash6  day timestamp    demand  hour  minutes                  ds\n",
       "0   qp03pn   10     14:30  0.024721    14       30 1900-01-10 14:30:00\n",
       "1   qp09sw    9      6:15  0.102821     6       15 1900-01-09 06:15:00\n",
       "2   qp03tu    1     12:15  0.023843    12       15 1900-01-01 12:15:00\n",
       "3   qp03r2    4     22:15  0.123463    22       15 1900-01-04 22:15:00\n",
       "4   qp03md   14     14:45  0.013998    14       45 1900-01-14 14:45:00"
      ]
     },
     "execution_count": 15,
     "metadata": {},
     "output_type": "execute_result"
    }
   ],
   "source": [
    "df = pd.concat([df, df_missing], sort=False)\n",
    "df = df.reset_index().drop('index', axis=1)\n",
    "df.head()"
   ]
  },
  {
   "cell_type": "markdown",
   "metadata": {},
   "source": [
    "#### Decode the geohashes"
   ]
  },
  {
   "cell_type": "code",
   "execution_count": 16,
   "metadata": {},
   "outputs": [],
   "source": [
    "locations_decoded = {}\n",
    "for location in locations:\n",
    "    locations_decoded[location] = gh.decode_exactly(location)"
   ]
  },
  {
   "cell_type": "code",
   "execution_count": 17,
   "metadata": {},
   "outputs": [
    {
     "name": "stdout",
     "output_type": "stream",
     "text": [
      "Wall time: 1.52 s\n"
     ]
    }
   ],
   "source": [
    "%%time\n",
    "df['latitude']  = df['geohash6'].apply(lambda x : locations_decoded[x][0])\n",
    "df['longitude'] = df['geohash6'].apply(lambda x : locations_decoded[x][1])"
   ]
  },
  {
   "cell_type": "code",
   "execution_count": 18,
   "metadata": {},
   "outputs": [
    {
     "data": {
      "text/html": [
       "<div>\n",
       "<style scoped>\n",
       "    .dataframe tbody tr th:only-of-type {\n",
       "        vertical-align: middle;\n",
       "    }\n",
       "\n",
       "    .dataframe tbody tr th {\n",
       "        vertical-align: top;\n",
       "    }\n",
       "\n",
       "    .dataframe thead th {\n",
       "        text-align: right;\n",
       "    }\n",
       "</style>\n",
       "<table border=\"1\" class=\"dataframe\">\n",
       "  <thead>\n",
       "    <tr style=\"text-align: right;\">\n",
       "      <th></th>\n",
       "      <th>geohash6</th>\n",
       "      <th>day</th>\n",
       "      <th>timestamp</th>\n",
       "      <th>demand</th>\n",
       "      <th>hour</th>\n",
       "      <th>minutes</th>\n",
       "      <th>ds</th>\n",
       "      <th>latitude</th>\n",
       "      <th>longitude</th>\n",
       "    </tr>\n",
       "  </thead>\n",
       "  <tbody>\n",
       "    <tr>\n",
       "      <th>0</th>\n",
       "      <td>qp03pn</td>\n",
       "      <td>10</td>\n",
       "      <td>14:30</td>\n",
       "      <td>0.024721</td>\n",
       "      <td>14</td>\n",
       "      <td>30</td>\n",
       "      <td>1900-01-10 14:30:00</td>\n",
       "      <td>-5.413513</td>\n",
       "      <td>90.664673</td>\n",
       "    </tr>\n",
       "    <tr>\n",
       "      <th>1</th>\n",
       "      <td>qp09sw</td>\n",
       "      <td>9</td>\n",
       "      <td>6:15</td>\n",
       "      <td>0.102821</td>\n",
       "      <td>6</td>\n",
       "      <td>15</td>\n",
       "      <td>1900-01-09 06:15:00</td>\n",
       "      <td>-5.325623</td>\n",
       "      <td>90.906372</td>\n",
       "    </tr>\n",
       "    <tr>\n",
       "      <th>2</th>\n",
       "      <td>qp03tu</td>\n",
       "      <td>1</td>\n",
       "      <td>12:15</td>\n",
       "      <td>0.023843</td>\n",
       "      <td>12</td>\n",
       "      <td>15</td>\n",
       "      <td>1900-01-01 12:15:00</td>\n",
       "      <td>-5.336609</td>\n",
       "      <td>90.609741</td>\n",
       "    </tr>\n",
       "    <tr>\n",
       "      <th>3</th>\n",
       "      <td>qp03r2</td>\n",
       "      <td>4</td>\n",
       "      <td>22:15</td>\n",
       "      <td>0.123463</td>\n",
       "      <td>22</td>\n",
       "      <td>15</td>\n",
       "      <td>1900-01-04 22:15:00</td>\n",
       "      <td>-5.402527</td>\n",
       "      <td>90.675659</td>\n",
       "    </tr>\n",
       "    <tr>\n",
       "      <th>4</th>\n",
       "      <td>qp03md</td>\n",
       "      <td>14</td>\n",
       "      <td>14:45</td>\n",
       "      <td>0.013998</td>\n",
       "      <td>14</td>\n",
       "      <td>45</td>\n",
       "      <td>1900-01-14 14:45:00</td>\n",
       "      <td>-5.391541</td>\n",
       "      <td>90.598755</td>\n",
       "    </tr>\n",
       "  </tbody>\n",
       "</table>\n",
       "</div>"
      ],
      "text/plain": [
       "  geohash6  day timestamp    demand  hour  minutes                  ds  \\\n",
       "0   qp03pn   10     14:30  0.024721    14       30 1900-01-10 14:30:00   \n",
       "1   qp09sw    9      6:15  0.102821     6       15 1900-01-09 06:15:00   \n",
       "2   qp03tu    1     12:15  0.023843    12       15 1900-01-01 12:15:00   \n",
       "3   qp03r2    4     22:15  0.123463    22       15 1900-01-04 22:15:00   \n",
       "4   qp03md   14     14:45  0.013998    14       45 1900-01-14 14:45:00   \n",
       "\n",
       "   latitude  longitude  \n",
       "0 -5.413513  90.664673  \n",
       "1 -5.325623  90.906372  \n",
       "2 -5.336609  90.609741  \n",
       "3 -5.402527  90.675659  \n",
       "4 -5.391541  90.598755  "
      ]
     },
     "execution_count": 18,
     "metadata": {},
     "output_type": "execute_result"
    }
   ],
   "source": [
    "df.head()"
   ]
  },
  {
   "cell_type": "markdown",
   "metadata": {},
   "source": [
    "#### Rename 'demand' to 'y' (for fbprophet)"
   ]
  },
  {
   "cell_type": "code",
   "execution_count": 19,
   "metadata": {},
   "outputs": [
    {
     "data": {
      "text/html": [
       "<div>\n",
       "<style scoped>\n",
       "    .dataframe tbody tr th:only-of-type {\n",
       "        vertical-align: middle;\n",
       "    }\n",
       "\n",
       "    .dataframe tbody tr th {\n",
       "        vertical-align: top;\n",
       "    }\n",
       "\n",
       "    .dataframe thead th {\n",
       "        text-align: right;\n",
       "    }\n",
       "</style>\n",
       "<table border=\"1\" class=\"dataframe\">\n",
       "  <thead>\n",
       "    <tr style=\"text-align: right;\">\n",
       "      <th></th>\n",
       "      <th>geohash6</th>\n",
       "      <th>day</th>\n",
       "      <th>timestamp</th>\n",
       "      <th>y</th>\n",
       "      <th>hour</th>\n",
       "      <th>minutes</th>\n",
       "      <th>ds</th>\n",
       "      <th>latitude</th>\n",
       "      <th>longitude</th>\n",
       "    </tr>\n",
       "  </thead>\n",
       "  <tbody>\n",
       "    <tr>\n",
       "      <th>0</th>\n",
       "      <td>qp03pn</td>\n",
       "      <td>10</td>\n",
       "      <td>14:30</td>\n",
       "      <td>0.024721</td>\n",
       "      <td>14</td>\n",
       "      <td>30</td>\n",
       "      <td>1900-01-10 14:30:00</td>\n",
       "      <td>-5.413513</td>\n",
       "      <td>90.664673</td>\n",
       "    </tr>\n",
       "    <tr>\n",
       "      <th>1</th>\n",
       "      <td>qp09sw</td>\n",
       "      <td>9</td>\n",
       "      <td>6:15</td>\n",
       "      <td>0.102821</td>\n",
       "      <td>6</td>\n",
       "      <td>15</td>\n",
       "      <td>1900-01-09 06:15:00</td>\n",
       "      <td>-5.325623</td>\n",
       "      <td>90.906372</td>\n",
       "    </tr>\n",
       "    <tr>\n",
       "      <th>2</th>\n",
       "      <td>qp03tu</td>\n",
       "      <td>1</td>\n",
       "      <td>12:15</td>\n",
       "      <td>0.023843</td>\n",
       "      <td>12</td>\n",
       "      <td>15</td>\n",
       "      <td>1900-01-01 12:15:00</td>\n",
       "      <td>-5.336609</td>\n",
       "      <td>90.609741</td>\n",
       "    </tr>\n",
       "    <tr>\n",
       "      <th>3</th>\n",
       "      <td>qp03r2</td>\n",
       "      <td>4</td>\n",
       "      <td>22:15</td>\n",
       "      <td>0.123463</td>\n",
       "      <td>22</td>\n",
       "      <td>15</td>\n",
       "      <td>1900-01-04 22:15:00</td>\n",
       "      <td>-5.402527</td>\n",
       "      <td>90.675659</td>\n",
       "    </tr>\n",
       "    <tr>\n",
       "      <th>4</th>\n",
       "      <td>qp03md</td>\n",
       "      <td>14</td>\n",
       "      <td>14:45</td>\n",
       "      <td>0.013998</td>\n",
       "      <td>14</td>\n",
       "      <td>45</td>\n",
       "      <td>1900-01-14 14:45:00</td>\n",
       "      <td>-5.391541</td>\n",
       "      <td>90.598755</td>\n",
       "    </tr>\n",
       "  </tbody>\n",
       "</table>\n",
       "</div>"
      ],
      "text/plain": [
       "  geohash6  day timestamp         y  hour  minutes                  ds  \\\n",
       "0   qp03pn   10     14:30  0.024721    14       30 1900-01-10 14:30:00   \n",
       "1   qp09sw    9      6:15  0.102821     6       15 1900-01-09 06:15:00   \n",
       "2   qp03tu    1     12:15  0.023843    12       15 1900-01-01 12:15:00   \n",
       "3   qp03r2    4     22:15  0.123463    22       15 1900-01-04 22:15:00   \n",
       "4   qp03md   14     14:45  0.013998    14       45 1900-01-14 14:45:00   \n",
       "\n",
       "   latitude  longitude  \n",
       "0 -5.413513  90.664673  \n",
       "1 -5.325623  90.906372  \n",
       "2 -5.336609  90.609741  \n",
       "3 -5.402527  90.675659  \n",
       "4 -5.391541  90.598755  "
      ]
     },
     "execution_count": 19,
     "metadata": {},
     "output_type": "execute_result"
    }
   ],
   "source": [
    "df = df.rename(columns={'demand' : 'y'})\n",
    "df.head()"
   ]
  },
  {
   "cell_type": "markdown",
   "metadata": {},
   "source": [
    "#### Sort by time"
   ]
  },
  {
   "cell_type": "code",
   "execution_count": 20,
   "metadata": {},
   "outputs": [
    {
     "name": "stdout",
     "output_type": "stream",
     "text": [
      "Wall time: 2.09 s\n"
     ]
    }
   ],
   "source": [
    "%%time\n",
    "df = df.sort_values(by=['ds']).reset_index().drop('index', axis=1)"
   ]
  },
  {
   "cell_type": "code",
   "execution_count": 21,
   "metadata": {},
   "outputs": [
    {
     "data": {
      "text/html": [
       "<div>\n",
       "<style scoped>\n",
       "    .dataframe tbody tr th:only-of-type {\n",
       "        vertical-align: middle;\n",
       "    }\n",
       "\n",
       "    .dataframe tbody tr th {\n",
       "        vertical-align: top;\n",
       "    }\n",
       "\n",
       "    .dataframe thead th {\n",
       "        text-align: right;\n",
       "    }\n",
       "</style>\n",
       "<table border=\"1\" class=\"dataframe\">\n",
       "  <thead>\n",
       "    <tr style=\"text-align: right;\">\n",
       "      <th></th>\n",
       "      <th>geohash6</th>\n",
       "      <th>day</th>\n",
       "      <th>timestamp</th>\n",
       "      <th>y</th>\n",
       "      <th>hour</th>\n",
       "      <th>minutes</th>\n",
       "      <th>ds</th>\n",
       "      <th>latitude</th>\n",
       "      <th>longitude</th>\n",
       "    </tr>\n",
       "  </thead>\n",
       "  <tbody>\n",
       "    <tr>\n",
       "      <th>0</th>\n",
       "      <td>qp09d7</td>\n",
       "      <td>1</td>\n",
       "      <td>0:0</td>\n",
       "      <td>0.091915</td>\n",
       "      <td>0</td>\n",
       "      <td>0</td>\n",
       "      <td>1900-01-01</td>\n",
       "      <td>-5.342102</td>\n",
       "      <td>90.807495</td>\n",
       "    </tr>\n",
       "    <tr>\n",
       "      <th>1</th>\n",
       "      <td>qp0d5g</td>\n",
       "      <td>1</td>\n",
       "      <td>0:0</td>\n",
       "      <td>0.000000</td>\n",
       "      <td>0</td>\n",
       "      <td>0</td>\n",
       "      <td>1900-01-01</td>\n",
       "      <td>-5.254211</td>\n",
       "      <td>90.873413</td>\n",
       "    </tr>\n",
       "    <tr>\n",
       "      <th>2</th>\n",
       "      <td>qp03pw</td>\n",
       "      <td>1</td>\n",
       "      <td>0:0</td>\n",
       "      <td>0.016879</td>\n",
       "      <td>0</td>\n",
       "      <td>0</td>\n",
       "      <td>1900-01-01</td>\n",
       "      <td>-5.413513</td>\n",
       "      <td>90.686646</td>\n",
       "    </tr>\n",
       "    <tr>\n",
       "      <th>3</th>\n",
       "      <td>qp09jr</td>\n",
       "      <td>1</td>\n",
       "      <td>0:0</td>\n",
       "      <td>0.000000</td>\n",
       "      <td>0</td>\n",
       "      <td>0</td>\n",
       "      <td>1900-01-01</td>\n",
       "      <td>-5.408020</td>\n",
       "      <td>90.939331</td>\n",
       "    </tr>\n",
       "    <tr>\n",
       "      <th>4</th>\n",
       "      <td>qp02z1</td>\n",
       "      <td>1</td>\n",
       "      <td>0:0</td>\n",
       "      <td>0.000000</td>\n",
       "      <td>0</td>\n",
       "      <td>0</td>\n",
       "      <td>1900-01-01</td>\n",
       "      <td>-5.484924</td>\n",
       "      <td>90.664673</td>\n",
       "    </tr>\n",
       "  </tbody>\n",
       "</table>\n",
       "</div>"
      ],
      "text/plain": [
       "  geohash6  day timestamp         y  hour  minutes         ds  latitude  \\\n",
       "0   qp09d7    1       0:0  0.091915     0        0 1900-01-01 -5.342102   \n",
       "1   qp0d5g    1       0:0  0.000000     0        0 1900-01-01 -5.254211   \n",
       "2   qp03pw    1       0:0  0.016879     0        0 1900-01-01 -5.413513   \n",
       "3   qp09jr    1       0:0  0.000000     0        0 1900-01-01 -5.408020   \n",
       "4   qp02z1    1       0:0  0.000000     0        0 1900-01-01 -5.484924   \n",
       "\n",
       "   longitude  \n",
       "0  90.807495  \n",
       "1  90.873413  \n",
       "2  90.686646  \n",
       "3  90.939331  \n",
       "4  90.664673  "
      ]
     },
     "execution_count": 21,
     "metadata": {},
     "output_type": "execute_result"
    }
   ],
   "source": [
    "df.head()"
   ]
  },
  {
   "cell_type": "markdown",
   "metadata": {},
   "source": [
    "### Detect temporal anomalies"
   ]
  },
  {
   "cell_type": "markdown",
   "metadata": {},
   "source": [
    "#### Get location infos"
   ]
  },
  {
   "cell_type": "code",
   "execution_count": 22,
   "metadata": {},
   "outputs": [
    {
     "name": "stdout",
     "output_type": "stream",
     "text": [
      "46 36\n"
     ]
    }
   ],
   "source": [
    "n_lat  = len(df['latitude'].unique())\n",
    "n_long = len(df['longitude'].unique())\n",
    "print(n_lat, n_long)"
   ]
  },
  {
   "cell_type": "code",
   "execution_count": 23,
   "metadata": {},
   "outputs": [
    {
     "name": "stdout",
     "output_type": "stream",
     "text": [
      "-5.48492431640625 90.5877685546875\n"
     ]
    }
   ],
   "source": [
    "lat_min  = df['latitude'].min()\n",
    "long_min = df['longitude'].min()\n",
    "print(lat_min, long_min)"
   ]
  },
  {
   "cell_type": "code",
   "execution_count": 24,
   "metadata": {},
   "outputs": [],
   "source": [
    "lat_sorted  = np.sort(df['latitude'].unique())\n",
    "long_sorted = np.sort(df['longitude'].unique())"
   ]
  },
  {
   "cell_type": "code",
   "execution_count": 25,
   "metadata": {},
   "outputs": [
    {
     "name": "stdout",
     "output_type": "stream",
     "text": [
      "0.0054931640625 0.010986328125\n"
     ]
    }
   ],
   "source": [
    "lat_gap  = (lat_sorted[1:] - lat_sorted[:-1]).min()\n",
    "long_gap = (long_sorted[1:] - long_sorted[:-1]).min()\n",
    "print(lat_gap, long_gap)"
   ]
  },
  {
   "cell_type": "code",
   "execution_count": 26,
   "metadata": {},
   "outputs": [],
   "source": [
    "latitude_i  = ((df['latitude'].values  - lat_min)  / lat_gap).astype(int)\n",
    "longitude_j = ((df['longitude'].values - long_min) / long_gap).astype(int)"
   ]
  },
  {
   "cell_type": "markdown",
   "metadata": {},
   "source": [
    "#### Generate density images"
   ]
  },
  {
   "cell_type": "code",
   "execution_count": 27,
   "metadata": {},
   "outputs": [],
   "source": [
    "timesteps = 4*24*(df['day'].values-1) + 4*df['hour'].values + df['minutes'].values//15\n",
    "demands   = df['y'].values"
   ]
  },
  {
   "cell_type": "code",
   "execution_count": 28,
   "metadata": {},
   "outputs": [
    {
     "name": "stdout",
     "output_type": "stream",
     "text": [
      "Wall time: 12.4 s\n"
     ]
    }
   ],
   "source": [
    "%%time\n",
    "density_images = np.zeros((4*24*61, 48, 40))\n",
    "density_mask   = np.zeros((48, 40))\n",
    "for i in range(len(timesteps)):\n",
    "    t = timesteps[i]\n",
    "    d = demands[i]\n",
    "    x = latitude_i[i]\n",
    "    y = longitude_j[i]\n",
    "    density_images[t][x+1][y+2] = d\n",
    "    density_mask[x+1][y+2] = 1"
   ]
  },
  {
   "cell_type": "markdown",
   "metadata": {},
   "source": [
    "#### Inspect the images"
   ]
  },
  {
   "cell_type": "code",
   "execution_count": 29,
   "metadata": {},
   "outputs": [
    {
     "data": {
      "image/png": "[encoded data removed]",
      "text/plain": [
       "<Figure size 432x288 with 1 Axes>"
      ]
     },
     "metadata": {
      "needs_background": "light"
     },
     "output_type": "display_data"
    }
   ],
   "source": [
    "plt.imshow(density_images[0], vmin=0.0, vmax=1.0, cmap='binary')\n",
    "plt.tight_layout()\n",
    "plt.show()"
   ]
  },
  {
   "cell_type": "code",
   "execution_count": 30,
   "metadata": {},
   "outputs": [
    {
     "data": {
      "image/png": "[encoded data removed]",
      "text/plain": [
       "<Figure size 432x288 with 1 Axes>"
      ]
     },
     "metadata": {
      "needs_background": "light"
     },
     "output_type": "display_data"
    }
   ],
   "source": [
    "plt.imshow(1 - density_mask, vmin=0.0, vmax=1.0, cmap='binary')\n",
    "plt.tight_layout()\n",
    "plt.show()"
   ]
  },
  {
   "cell_type": "markdown",
   "metadata": {},
   "source": [
    "#### Flatten images"
   ]
  },
  {
   "cell_type": "code",
   "execution_count": 31,
   "metadata": {},
   "outputs": [],
   "source": [
    "flat_images = density_images.reshape(density_images.shape[0], -1).astype('float32')\n",
    "flat_mask   = density_mask.reshape(-1).astype('float32')"
   ]
  },
  {
   "cell_type": "markdown",
   "metadata": {},
   "source": [
    "#### Load the autoencoder"
   ]
  },
  {
   "cell_type": "code",
   "execution_count": 32,
   "metadata": {},
   "outputs": [
    {
     "name": "stdout",
     "output_type": "stream",
     "text": [
      "[[ 0.02868951 -1.9072311 ]] [[0.5830229 2.27596  ]]\n"
     ]
    }
   ],
   "source": [
    "train_mu  = np.load('temporal_anomaly_detection/train_mu.npy')\n",
    "train_std = np.load('temporal_anomaly_detection/train_std.npy')\n",
    "print(train_mu, train_std)"
   ]
  },
  {
   "cell_type": "code",
   "execution_count": 33,
   "metadata": {},
   "outputs": [],
   "source": [
    "density_mask_sum = density_mask.sum()\n",
    "    \n",
    "def scaled_loss(inputs, outputs):\n",
    "  outputs *= flat_mask\n",
    "  loss = tfk.metrics.mean_squared_error(inputs, outputs)\n",
    "  return density_mask_sum * loss"
   ]
  },
  {
   "cell_type": "code",
   "execution_count": 34,
   "metadata": {},
   "outputs": [],
   "source": [
    "autoencoder = tfk.models.load_model('temporal_anomaly_detection/autoencoder.h5',\n",
    "                                    custom_objects={'scaled_loss':scaled_loss})"
   ]
  },
  {
   "cell_type": "markdown",
   "metadata": {},
   "source": [
    "#### Measure the mahalanobis distances of the encodings"
   ]
  },
  {
   "cell_type": "code",
   "execution_count": 35,
   "metadata": {},
   "outputs": [],
   "source": [
    "latent_vars = autoencoder.get_layer('encoder')(flat_images).numpy()"
   ]
  },
  {
   "cell_type": "code",
   "execution_count": 36,
   "metadata": {},
   "outputs": [
    {
     "data": {
      "text/plain": [
       "(5856,)"
      ]
     },
     "execution_count": 36,
     "metadata": {},
     "output_type": "execute_result"
    }
   ],
   "source": [
    "mahalanobis_dist = (((latent_vars - train_mu)/train_std)**2).sum(axis=1)**(0.5)\n",
    "mahalanobis_dist.shape"
   ]
  },
  {
   "cell_type": "markdown",
   "metadata": {},
   "source": [
    "#### Find the anomalies"
   ]
  },
  {
   "cell_type": "markdown",
   "metadata": {},
   "source": [
    "The data at time T is said to be anomalous if the mahalanobis distance (a multidimensional analogue of the standard deviation) of the latent encoding of the demand density map is greater than 4."
   ]
  },
  {
   "cell_type": "code",
   "execution_count": 37,
   "metadata": {},
   "outputs": [],
   "source": [
    "df['is_anomaly'] = np.array(list(map(lambda x : mahalanobis_dist[x] > 4.0, timesteps)))"
   ]
  },
  {
   "cell_type": "code",
   "execution_count": 38,
   "metadata": {},
   "outputs": [
    {
     "data": {
      "text/html": [
       "<div>\n",
       "<style scoped>\n",
       "    .dataframe tbody tr th:only-of-type {\n",
       "        vertical-align: middle;\n",
       "    }\n",
       "\n",
       "    .dataframe tbody tr th {\n",
       "        vertical-align: top;\n",
       "    }\n",
       "\n",
       "    .dataframe thead th {\n",
       "        text-align: right;\n",
       "    }\n",
       "</style>\n",
       "<table border=\"1\" class=\"dataframe\">\n",
       "  <thead>\n",
       "    <tr style=\"text-align: right;\">\n",
       "      <th></th>\n",
       "      <th>geohash6</th>\n",
       "      <th>day</th>\n",
       "      <th>timestamp</th>\n",
       "      <th>y</th>\n",
       "      <th>hour</th>\n",
       "      <th>minutes</th>\n",
       "      <th>ds</th>\n",
       "      <th>latitude</th>\n",
       "      <th>longitude</th>\n",
       "      <th>is_anomaly</th>\n",
       "    </tr>\n",
       "  </thead>\n",
       "  <tbody>\n",
       "    <tr>\n",
       "      <th>0</th>\n",
       "      <td>qp09d7</td>\n",
       "      <td>1</td>\n",
       "      <td>0:0</td>\n",
       "      <td>0.091915</td>\n",
       "      <td>0</td>\n",
       "      <td>0</td>\n",
       "      <td>1900-01-01</td>\n",
       "      <td>-5.342102</td>\n",
       "      <td>90.807495</td>\n",
       "      <td>False</td>\n",
       "    </tr>\n",
       "    <tr>\n",
       "      <th>1</th>\n",
       "      <td>qp0d5g</td>\n",
       "      <td>1</td>\n",
       "      <td>0:0</td>\n",
       "      <td>0.000000</td>\n",
       "      <td>0</td>\n",
       "      <td>0</td>\n",
       "      <td>1900-01-01</td>\n",
       "      <td>-5.254211</td>\n",
       "      <td>90.873413</td>\n",
       "      <td>False</td>\n",
       "    </tr>\n",
       "    <tr>\n",
       "      <th>2</th>\n",
       "      <td>qp03pw</td>\n",
       "      <td>1</td>\n",
       "      <td>0:0</td>\n",
       "      <td>0.016879</td>\n",
       "      <td>0</td>\n",
       "      <td>0</td>\n",
       "      <td>1900-01-01</td>\n",
       "      <td>-5.413513</td>\n",
       "      <td>90.686646</td>\n",
       "      <td>False</td>\n",
       "    </tr>\n",
       "    <tr>\n",
       "      <th>3</th>\n",
       "      <td>qp09jr</td>\n",
       "      <td>1</td>\n",
       "      <td>0:0</td>\n",
       "      <td>0.000000</td>\n",
       "      <td>0</td>\n",
       "      <td>0</td>\n",
       "      <td>1900-01-01</td>\n",
       "      <td>-5.408020</td>\n",
       "      <td>90.939331</td>\n",
       "      <td>False</td>\n",
       "    </tr>\n",
       "    <tr>\n",
       "      <th>4</th>\n",
       "      <td>qp02z1</td>\n",
       "      <td>1</td>\n",
       "      <td>0:0</td>\n",
       "      <td>0.000000</td>\n",
       "      <td>0</td>\n",
       "      <td>0</td>\n",
       "      <td>1900-01-01</td>\n",
       "      <td>-5.484924</td>\n",
       "      <td>90.664673</td>\n",
       "      <td>False</td>\n",
       "    </tr>\n",
       "  </tbody>\n",
       "</table>\n",
       "</div>"
      ],
      "text/plain": [
       "  geohash6  day timestamp         y  hour  minutes         ds  latitude  \\\n",
       "0   qp09d7    1       0:0  0.091915     0        0 1900-01-01 -5.342102   \n",
       "1   qp0d5g    1       0:0  0.000000     0        0 1900-01-01 -5.254211   \n",
       "2   qp03pw    1       0:0  0.016879     0        0 1900-01-01 -5.413513   \n",
       "3   qp09jr    1       0:0  0.000000     0        0 1900-01-01 -5.408020   \n",
       "4   qp02z1    1       0:0  0.000000     0        0 1900-01-01 -5.484924   \n",
       "\n",
       "   longitude  is_anomaly  \n",
       "0  90.807495       False  \n",
       "1  90.873413       False  \n",
       "2  90.686646       False  \n",
       "3  90.939331       False  \n",
       "4  90.664673       False  "
      ]
     },
     "execution_count": 38,
     "metadata": {},
     "output_type": "execute_result"
    }
   ],
   "source": [
    "df.head()"
   ]
  },
  {
   "cell_type": "markdown",
   "metadata": {},
   "source": [
    "### Group the data by geohash"
   ]
  },
  {
   "cell_type": "code",
   "execution_count": 39,
   "metadata": {},
   "outputs": [
    {
     "name": "stdout",
     "output_type": "stream",
     "text": [
      "Wall time: 11 s\n"
     ]
    }
   ],
   "source": [
    "%%time\n",
    "\n",
    "# df_cut = df[df['ds'] >= datetime.datetime.strptime(str(61-14), \"%j\")]\n",
    "# df_cut = df_cut.reset_index().drop('index', axis=1)\n",
    "# gb = df_cut.groupby('geohash6')\n",
    "\n",
    "gb = df.groupby('geohash6')\n",
    "location_series = {}\n",
    "for x in gb.groups:\n",
    "    group = gb.get_group(x).reset_index().drop('index', axis=1)\n",
    "    location_series[x] = group"
   ]
  },
  {
   "cell_type": "code",
   "execution_count": 40,
   "metadata": {},
   "outputs": [],
   "source": [
    "data_inputs = [(location, location_series[location]) for location in locations]"
   ]
  },
  {
   "cell_type": "markdown",
   "metadata": {},
   "source": [
    "## The Model"
   ]
  },
  {
   "cell_type": "code",
   "execution_count": 41,
   "metadata": {},
   "outputs": [
    {
     "data": {
      "text/plain": [
       "[Timestamp('1900-01-15 00:00:00'),\n",
       " Timestamp('1900-01-15 00:15:00'),\n",
       " Timestamp('1900-01-15 00:30:00'),\n",
       " Timestamp('1900-01-15 00:45:00'),\n",
       " Timestamp('1900-01-15 01:00:00')]"
      ]
     },
     "execution_count": 41,
     "metadata": {},
     "output_type": "execute_result"
    }
   ],
   "source": [
    "future_ds = [max_ds + i*delta_ds for i in range(1, 5+1)]\n",
    "future_ds"
   ]
  },
  {
   "cell_type": "markdown",
   "metadata": {},
   "source": [
    "### Stage 1 (faster but less accurate)"
   ]
  },
  {
   "cell_type": "markdown",
   "metadata": {},
   "source": [
    "Warning: had problems running the following blocks of code on windows. "
   ]
  },
  {
   "cell_type": "markdown",
   "metadata": {},
   "source": [
    "#### Run kalman filter and the theta forecasters in parallel"
   ]
  },
  {
   "cell_type": "code",
   "execution_count": 42,
   "metadata": {},
   "outputs": [],
   "source": [
    "def stage1_worker(data_input):\n",
    "    location, df_series = data_input\n",
    "    \n",
    "    # create train-test x values\n",
    "    X_train = np.arange(len(df_series)).reshape(-1, 1)\n",
    "    X_test  = (np.arange(5) + len(df_series)).reshape(-1, 1)\n",
    "    \n",
    "    # forecast using data from previous daily cycle\n",
    "    # prev_pred = df_series['y'].values       <- deprecated\n",
    "    \n",
    "    # forecast using the kalman filter\n",
    "    kf = simdkalman.KalmanFilter(\n",
    "      state_transition = np.array([[1,1],[0,1]]),\n",
    "      process_noise = np.diag([0.1, 0.01]),\n",
    "      observation_model = np.array([[1,0]]),\n",
    "      observation_noise = 0.5)\n",
    "    kalman_pred = kf.predict(df_series['y'].values, 5).states.mean[:,0]\n",
    "    \n",
    "    # deseasonalize\n",
    "    decomposition = sm.tsa.seasonal_decompose(df_series['y'] + 1e-9,\n",
    "                                              model='multiplicative',\n",
    "                                              freq=4*24,\n",
    "                                              two_sided=False,\n",
    "                                              extrapolate_trend=1)\n",
    "    df_series['deseasonalized'] = df_series['y'].values / (decomposition.seasonal + 1e-9)\n",
    "    seasonal_test = decomposition.seasonal.values[-4*24:-4*24+5]\n",
    "    \n",
    "    # forecast using theta = 0 (with linear regression)\n",
    "    linreg = HuberRegressor().fit(X_train, df_series['deseasonalized'].values)\n",
    "    theta0_pred = linreg.predict(X_test) * seasonal_test\n",
    "    \n",
    "    # forecast using theta = 2 (with simple exponential smoothing)\n",
    "    y_theta2 = 2*df_series['deseasonalized'].values - linreg.predict(X_train)\n",
    "    ses = SimpleExpSmoothing(y_theta2).fit()\n",
    "    theta2_pred = ses.forecast(5) * seasonal_test\n",
    "    \n",
    "    # get the mean of the forecasts for theta = 0 and theta = 2\n",
    "    theta_pred = (theta0_pred + theta2_pred) / 2.0\n",
    "    \n",
    "    # clip the predictions\n",
    "    kalman_pred = np.clip(kalman_pred, a_min=0.0, a_max=1.0)\n",
    "    theta_pred  = np.clip(theta_pred , a_min=0.0, a_max=1.0)\n",
    "    \n",
    "    # return_dict[location] = {'kalman_pred' : kalman_pred,\n",
    "    #                          'theta_pred' : theta_pred}\n",
    "    return location, kalman_pred, theta_pred"
   ]
  },
  {
   "cell_type": "markdown",
   "metadata": {},
   "source": [
    "The following block takes around 30s on an 16-core machine. We can ignore the divide by zero warnings since they automatically get handled by statsmodels anyway."
   ]
  },
  {
   "cell_type": "code",
   "execution_count": null,
   "metadata": {},
   "outputs": [
    {
     "name": "stdout",
     "output_type": "stream",
     "text": [
      "# of CPUs used: 4\n"
     ]
    }
   ],
   "source": [
    "%%time\n",
    "\n",
    "print(\"# of CPUs used:\", multiprocessing.cpu_count())\n",
    "p = multiprocessing.Pool(processes=multiprocessing.cpu_count())\n",
    "stage1_results = p.map(stage1_worker, data_inputs)\n",
    "p.close()"
   ]
  },
  {
   "cell_type": "markdown",
   "metadata": {},
   "source": [
    "#### Aggregate the results"
   ]
  },
  {
   "cell_type": "code",
   "execution_count": null,
   "metadata": {},
   "outputs": [],
   "source": [
    "stage1_weights = [0.2969419 , 0.67783948]"
   ]
  },
  {
   "cell_type": "code",
   "execution_count": null,
   "metadata": {},
   "outputs": [],
   "source": [
    "# %%time\n",
    "stage1_dfprep = []\n",
    "for result in stage1_results:\n",
    "    location, kalman_pred, theta_pred = result\n",
    "    stage1_pred = stage1_weights[0]*kalman_pred + stage1_weights[1]*theta_pred\n",
    "    for i in range(5):\n",
    "        x = {'geohash6' : location,\n",
    "             'day' : future_ds[i].timetuple().tm_yday,\n",
    "             'timestamp' : str(future_ds[i].hour) + ':' + str(future_ds[i].minute),\n",
    "             'demand' : stage1_pred[i]}\n",
    "        stage1_dfprep.append(x)"
   ]
  },
  {
   "cell_type": "code",
   "execution_count": null,
   "metadata": {},
   "outputs": [],
   "source": [
    "df_stage1_results = pd.DataFrame(stage1_dfprep)\n",
    "df_stage1_results.head()"
   ]
  },
  {
   "cell_type": "markdown",
   "metadata": {},
   "source": [
    "#### Save the results"
   ]
  },
  {
   "cell_type": "code",
   "execution_count": null,
   "metadata": {},
   "outputs": [],
   "source": [
    "df_stage1_results.to_csv(\"results_partial.csv\", index=False)"
   ]
  },
  {
   "cell_type": "markdown",
   "metadata": {},
   "source": [
    "### Stage 2 (more accurate but slower)"
   ]
  },
  {
   "cell_type": "markdown",
   "metadata": {},
   "source": [
    "#### Run FBProphet in parallel"
   ]
  },
  {
   "cell_type": "markdown",
   "metadata": {},
   "source": [
    "Make sure to run stage 1 first"
   ]
  },
  {
   "cell_type": "code",
   "execution_count": 85,
   "metadata": {},
   "outputs": [],
   "source": [
    "def stage2_worker(data_input):\n",
    "    location, df_series = data_input\n",
    "    df_series['y'] += 1e-9\n",
    "    \n",
    "    prophet = Prophet(seasonality_mode='multiplicative',\n",
    "                      weekly_seasonality=True,\n",
    "                      yearly_seasonality=False)\n",
    "    prophet.add_regressor('is_anomaly')\n",
    "    prophet.fit(df_series)\n",
    "    \n",
    "    future = prophet.make_future_dataframe(periods=5, freq='15min', include_history=False)\n",
    "    future['is_anomaly'] = 0\n",
    "    prophet_pred = prophet.predict(future)['yhat'].values\n",
    "    \n",
    "    # clip\n",
    "    prophet_pred  = np.clip(prophet_pred, a_min=0.0, a_max=1.0)\n",
    "    \n",
    "    return location, prophet_pred"
   ]
  },
  {
   "cell_type": "markdown",
   "metadata": {},
   "source": [
    "Takes around 5 mins on a 16-core machine"
   ]
  },
  {
   "cell_type": "code",
   "execution_count": 86,
   "metadata": {},
   "outputs": [
    {
     "name": "stdout",
     "output_type": "stream",
     "text": [
      "CPU times: user 1.71 s, sys: 1.47 s, total: 3.18 s\n",
      "Wall time: 5min 7s\n"
     ]
    }
   ],
   "source": [
    "%%time\n",
    "\n",
    "p = multiprocessing.Pool(processes=multiprocessing.cpu_count())\n",
    "stage2_results = p.map(stage2_worker, data_inputs)\n",
    "p.close()"
   ]
  },
  {
   "cell_type": "markdown",
   "metadata": {},
   "source": [
    "#### Aggregate the results"
   ]
  },
  {
   "cell_type": "code",
   "execution_count": 87,
   "metadata": {},
   "outputs": [],
   "source": [
    "stage2_weights = [0.309658, 0.38132017, 0.29395973]"
   ]
  },
  {
   "cell_type": "code",
   "execution_count": 88,
   "metadata": {},
   "outputs": [],
   "source": [
    "# %%time\n",
    "stage2_preds = {}\n",
    "stage2_dfprep = []\n",
    "for result in stage1_results:\n",
    "    location, kalman_pred, theta_pred = result\n",
    "    stage2_preds[location] = stage2_weights[0]*kalman_pred + stage2_weights[1]*theta_pred\n",
    "for result in stage2_results:\n",
    "    location, prophet_pred = result\n",
    "    stage2_preds[location] += stage2_weights[2]*prophet_pred\n",
    "    for i in range(5):\n",
    "        x = {'geohash6' : location,\n",
    "             'day' : future_ds[i].timetuple().tm_yday,\n",
    "             'timestamp' : str(future_ds[i].hour) + ':' + str(future_ds[i].minute),\n",
    "             'demand' : stage2_preds[location][i]}\n",
    "        stage2_dfprep.append(x)"
   ]
  },
  {
   "cell_type": "code",
   "execution_count": 89,
   "metadata": {},
   "outputs": [
    {
     "data": {
      "text/html": [
       "<div>\n",
       "<style scoped>\n",
       "    .dataframe tbody tr th:only-of-type {\n",
       "        vertical-align: middle;\n",
       "    }\n",
       "\n",
       "    .dataframe tbody tr th {\n",
       "        vertical-align: top;\n",
       "    }\n",
       "\n",
       "    .dataframe thead th {\n",
       "        text-align: right;\n",
       "    }\n",
       "</style>\n",
       "<table border=\"1\" class=\"dataframe\">\n",
       "  <thead>\n",
       "    <tr style=\"text-align: right;\">\n",
       "      <th></th>\n",
       "      <th>day</th>\n",
       "      <th>demand</th>\n",
       "      <th>geohash6</th>\n",
       "      <th>timestamp</th>\n",
       "    </tr>\n",
       "  </thead>\n",
       "  <tbody>\n",
       "    <tr>\n",
       "      <th>0</th>\n",
       "      <td>62</td>\n",
       "      <td>0.084853</td>\n",
       "      <td>qp03wc</td>\n",
       "      <td>0:0</td>\n",
       "    </tr>\n",
       "    <tr>\n",
       "      <th>1</th>\n",
       "      <td>62</td>\n",
       "      <td>0.090412</td>\n",
       "      <td>qp03wc</td>\n",
       "      <td>0:15</td>\n",
       "    </tr>\n",
       "    <tr>\n",
       "      <th>2</th>\n",
       "      <td>62</td>\n",
       "      <td>0.094315</td>\n",
       "      <td>qp03wc</td>\n",
       "      <td>0:30</td>\n",
       "    </tr>\n",
       "    <tr>\n",
       "      <th>3</th>\n",
       "      <td>62</td>\n",
       "      <td>0.097274</td>\n",
       "      <td>qp03wc</td>\n",
       "      <td>0:45</td>\n",
       "    </tr>\n",
       "    <tr>\n",
       "      <th>4</th>\n",
       "      <td>62</td>\n",
       "      <td>0.103081</td>\n",
       "      <td>qp03wc</td>\n",
       "      <td>1:0</td>\n",
       "    </tr>\n",
       "  </tbody>\n",
       "</table>\n",
       "</div>"
      ],
      "text/plain": [
       "   day    demand geohash6 timestamp\n",
       "0   62  0.084853   qp03wc       0:0\n",
       "1   62  0.090412   qp03wc      0:15\n",
       "2   62  0.094315   qp03wc      0:30\n",
       "3   62  0.097274   qp03wc      0:45\n",
       "4   62  0.103081   qp03wc       1:0"
      ]
     },
     "execution_count": 89,
     "metadata": {},
     "output_type": "execute_result"
    }
   ],
   "source": [
    "df_stage2_results = pd.DataFrame(stage2_dfprep)\n",
    "df_stage2_results.head()"
   ]
  },
  {
   "cell_type": "markdown",
   "metadata": {},
   "source": [
    "#### Save the results"
   ]
  },
  {
   "cell_type": "code",
   "execution_count": 90,
   "metadata": {},
   "outputs": [],
   "source": [
    "df_stage2_results.to_csv(\"results_final.csv\", index=False)"
   ]
  },
  {
   "cell_type": "code",
   "execution_count": null,
   "metadata": {},
   "outputs": [],
   "source": []
  }
 ],
 "metadata": {
  "kernelspec": {
   "display_name": "Python 3",
   "language": "python",
   "name": "python3"
  },
  "language_info": {
   "codemirror_mode": {
    "name": "ipython",
    "version": 3
   },
   "file_extension": ".py",
   "mimetype": "text/x-python",
   "name": "python",
   "nbconvert_exporter": "python",
   "pygments_lexer": "ipython3",
   "version": "3.6.8"
  }
 },
 "nbformat": 4,
 "nbformat_minor": 2
}
