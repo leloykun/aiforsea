{
 "cells": [
  {
   "cell_type": "markdown",
   "metadata": {},
   "source": [
    "# EDA (Temporal Anomaly Detection)"
   ]
  },
  {
   "cell_type": "code",
   "execution_count": 2,
   "metadata": {
    "colab": {},
    "colab_type": "code",
    "id": "MdHy_Al6Lb15"
   },
   "outputs": [],
   "source": [
    "import math\n",
    "import datetime\n",
    "import numpy as np\n",
    "import pandas as pd\n",
    "\n",
    "import tensorflow.keras as tfk\n",
    "\n",
    "import seaborn as sns\n",
    "import matplotlib.pyplot as plt\n",
    "from matplotlib import animation\n",
    "sns.set(style=\"whitegrid\")"
   ]
  },
  {
   "cell_type": "markdown",
   "metadata": {
    "colab_type": "text",
    "id": "0Kq4l3lWLb2A"
   },
   "source": [
    "## The Data"
   ]
  },
  {
   "cell_type": "markdown",
   "metadata": {
    "colab_type": "text",
    "id": "52dZUXIxLb2C"
   },
   "source": [
    "### Load the density images"
   ]
  },
  {
   "cell_type": "code",
   "execution_count": 5,
   "metadata": {
    "colab": {
     "base_uri": "https://localhost:8080/",
     "height": 35
    },
    "colab_type": "code",
    "executionInfo": {
     "elapsed": 5794,
     "status": "ok",
     "timestamp": 1559838800993,
     "user": {
      "displayName": "Franz Louis Cesista",
      "photoUrl": "https://lh3.googleusercontent.com/-NquKeLt1770/AAAAAAAAAAI/AAAAAAAAAMo/RHnx0T1cGIk/s64/photo.jpg",
      "userId": "08273419339046628946"
     },
     "user_tz": -480
    },
    "id": "QOxTP6cWLb2E",
    "outputId": "cfca012a-f2fe-40a4-e37b-799365f62a47"
   },
   "outputs": [
    {
     "data": {
      "text/plain": [
       "(5856, 48, 40)"
      ]
     },
     "execution_count": 5,
     "metadata": {},
     "output_type": "execute_result"
    }
   ],
   "source": [
    "images = np.load('density_images.npy')\n",
    "images.shape"
   ]
  },
  {
   "cell_type": "markdown",
   "metadata": {
    "colab_type": "text",
    "id": "RuxKBBfulmW0"
   },
   "source": [
    "### Load the mask"
   ]
  },
  {
   "cell_type": "code",
   "execution_count": 6,
   "metadata": {
    "colab": {
     "base_uri": "https://localhost:8080/",
     "height": 35
    },
    "colab_type": "code",
    "executionInfo": {
     "elapsed": 5760,
     "status": "ok",
     "timestamp": 1559838800994,
     "user": {
      "displayName": "Franz Louis Cesista",
      "photoUrl": "https://lh3.googleusercontent.com/-NquKeLt1770/AAAAAAAAAAI/AAAAAAAAAMo/RHnx0T1cGIk/s64/photo.jpg",
      "userId": "08273419339046628946"
     },
     "user_tz": -480
    },
    "id": "f4Wxd5sQllmH",
    "outputId": "1197dae2-c437-4f2b-caa0-e02f25ef2a8a"
   },
   "outputs": [
    {
     "data": {
      "text/plain": [
       "(48, 40)"
      ]
     },
     "execution_count": 6,
     "metadata": {},
     "output_type": "execute_result"
    }
   ],
   "source": [
    "mask = np.load('density_mask.npy')\n",
    "mask.shape"
   ]
  },
  {
   "cell_type": "markdown",
   "metadata": {
    "colab_type": "text",
    "id": "9ARIS8GJLb2Z"
   },
   "source": [
    "### Extend the images"
   ]
  },
  {
   "cell_type": "code",
   "execution_count": 7,
   "metadata": {
    "colab": {
     "base_uri": "https://localhost:8080/",
     "height": 35
    },
    "colab_type": "code",
    "executionInfo": {
     "elapsed": 5733,
     "status": "ok",
     "timestamp": 1559838800996,
     "user": {
      "displayName": "Franz Louis Cesista",
      "photoUrl": "https://lh3.googleusercontent.com/-NquKeLt1770/AAAAAAAAAAI/AAAAAAAAAMo/RHnx0T1cGIk/s64/photo.jpg",
      "userId": "08273419339046628946"
     },
     "user_tz": -480
    },
    "id": "iA9w9ujpLb2f",
    "outputId": "ae25cc76-dbc7-4aad-ac3f-e6ef291f9e09"
   },
   "outputs": [
    {
     "data": {
      "text/plain": [
       "(1920,)"
      ]
     },
     "execution_count": 7,
     "metadata": {},
     "output_type": "execute_result"
    }
   ],
   "source": [
    "flat_images = images.reshape(images.shape[0], -1).astype('float32')\n",
    "flat_mask   = mask.reshape(-1).astype('float32')\n",
    "flat_mask.shape"
   ]
  },
  {
   "cell_type": "markdown",
   "metadata": {
    "colab_type": "text",
    "id": "vu-EMLB0Lb2o"
   },
   "source": [
    "## The Model"
   ]
  },
  {
   "cell_type": "code",
   "execution_count": 8,
   "metadata": {
    "colab": {},
    "colab_type": "code",
    "id": "eqbg0VbWLb2q"
   },
   "outputs": [],
   "source": [
    "original_dim = flat_images.shape[1]\n",
    "intermediate_dim = 256\n",
    "latent_dim = 2"
   ]
  },
  {
   "cell_type": "markdown",
   "metadata": {
    "colab_type": "text",
    "id": "G41cg_6hLb2u"
   },
   "source": [
    "### Build the model"
   ]
  },
  {
   "cell_type": "markdown",
   "metadata": {
    "colab_type": "text",
    "id": "Pdeu0I0VLb2v"
   },
   "source": [
    "#### Build the encoder"
   ]
  },
  {
   "cell_type": "code",
   "execution_count": 9,
   "metadata": {
    "colab": {},
    "colab_type": "code",
    "id": "iJcCvLAmLb2w"
   },
   "outputs": [],
   "source": [
    "encoder = tfk.Sequential([\n",
    "    tfk.layers.Dense(512, input_shape=(original_dim,), activation='relu'),\n",
    "    tfk.layers.Dense(256, activation='relu'),\n",
    "    tfk.layers.Dense(128, activation='relu'),\n",
    "    tfk.layers.Dense(64, activation='relu'),\n",
    "    tfk.layers.Dense(32, activation='relu'),\n",
    "    tfk.layers.Dense(16, activation='relu'),\n",
    "    tfk.layers.Dense(8, activation='relu'),\n",
    "    tfk.layers.Dense(4, activation='relu'),\n",
    "    tfk.layers.Dense(latent_dim)\n",
    "], name=\"encoder\")"
   ]
  },
  {
   "cell_type": "code",
   "execution_count": 10,
   "metadata": {
    "colab": {
     "base_uri": "https://localhost:8080/",
     "height": 490
    },
    "colab_type": "code",
    "executionInfo": {
     "elapsed": 6845,
     "status": "ok",
     "timestamp": 1559838802132,
     "user": {
      "displayName": "Franz Louis Cesista",
      "photoUrl": "https://lh3.googleusercontent.com/-NquKeLt1770/AAAAAAAAAAI/AAAAAAAAAMo/RHnx0T1cGIk/s64/photo.jpg",
      "userId": "08273419339046628946"
     },
     "user_tz": -480
    },
    "id": "woXgDtBULb20",
    "outputId": "8c2efb67-59ec-41aa-f60a-cf49aa67cbbe"
   },
   "outputs": [
    {
     "name": "stdout",
     "output_type": "stream",
     "text": [
      "Model: \"encoder\"\n",
      "_________________________________________________________________\n",
      "Layer (type)                 Output Shape              Param #   \n",
      "=================================================================\n",
      "dense (Dense)                (None, 512)               983552    \n",
      "_________________________________________________________________\n",
      "dense_1 (Dense)              (None, 256)               131328    \n",
      "_________________________________________________________________\n",
      "dense_2 (Dense)              (None, 128)               32896     \n",
      "_________________________________________________________________\n",
      "dense_3 (Dense)              (None, 64)                8256      \n",
      "_________________________________________________________________\n",
      "dense_4 (Dense)              (None, 32)                2080      \n",
      "_________________________________________________________________\n",
      "dense_5 (Dense)              (None, 16)                528       \n",
      "_________________________________________________________________\n",
      "dense_6 (Dense)              (None, 8)                 136       \n",
      "_________________________________________________________________\n",
      "dense_7 (Dense)              (None, 4)                 36        \n",
      "_________________________________________________________________\n",
      "dense_8 (Dense)              (None, 2)                 10        \n",
      "=================================================================\n",
      "Total params: 1,158,822\n",
      "Trainable params: 1,158,822\n",
      "Non-trainable params: 0\n",
      "_________________________________________________________________\n"
     ]
    }
   ],
   "source": [
    "encoder.summary()"
   ]
  },
  {
   "cell_type": "markdown",
   "metadata": {
    "colab_type": "text",
    "id": "4ELVl-XSLb2_"
   },
   "source": [
    "#### Build the decoder"
   ]
  },
  {
   "cell_type": "code",
   "execution_count": 11,
   "metadata": {
    "colab": {},
    "colab_type": "code",
    "id": "U2zHMfKjLb3A"
   },
   "outputs": [],
   "source": [
    "decoder = tfk.Sequential([\n",
    "    tfk.layers.Dense(8, input_shape=(latent_dim,), activation='relu'),\n",
    "    tfk.layers.Dense(16, activation='relu'),\n",
    "    tfk.layers.Dense(32, activation='relu'),\n",
    "    tfk.layers.Dense(64, activation='relu'),\n",
    "    tfk.layers.Dense(128, activation='relu'),\n",
    "    tfk.layers.Dense(256, activation='relu'),\n",
    "    tfk.layers.Dense(512, activation='relu'),\n",
    "    tfk.layers.Dense(original_dim, activation='sigmoid')\n",
    "], name=\"decoder\")"
   ]
  },
  {
   "cell_type": "code",
   "execution_count": 12,
   "metadata": {
    "colab": {
     "base_uri": "https://localhost:8080/",
     "height": 454
    },
    "colab_type": "code",
    "executionInfo": {
     "elapsed": 6831,
     "status": "ok",
     "timestamp": 1559838802143,
     "user": {
      "displayName": "Franz Louis Cesista",
      "photoUrl": "https://lh3.googleusercontent.com/-NquKeLt1770/AAAAAAAAAAI/AAAAAAAAAMo/RHnx0T1cGIk/s64/photo.jpg",
      "userId": "08273419339046628946"
     },
     "user_tz": -480
    },
    "id": "ZcUsjNyGLb3E",
    "outputId": "4b352ec0-107b-4549-d7ff-55586072270f"
   },
   "outputs": [
    {
     "name": "stdout",
     "output_type": "stream",
     "text": [
      "Model: \"decoder\"\n",
      "_________________________________________________________________\n",
      "Layer (type)                 Output Shape              Param #   \n",
      "=================================================================\n",
      "dense_9 (Dense)              (None, 8)                 24        \n",
      "_________________________________________________________________\n",
      "dense_10 (Dense)             (None, 16)                144       \n",
      "_________________________________________________________________\n",
      "dense_11 (Dense)             (None, 32)                544       \n",
      "_________________________________________________________________\n",
      "dense_12 (Dense)             (None, 64)                2112      \n",
      "_________________________________________________________________\n",
      "dense_13 (Dense)             (None, 128)               8320      \n",
      "_________________________________________________________________\n",
      "dense_14 (Dense)             (None, 256)               33024     \n",
      "_________________________________________________________________\n",
      "dense_15 (Dense)             (None, 512)               131584    \n",
      "_________________________________________________________________\n",
      "dense_16 (Dense)             (None, 1920)              984960    \n",
      "=================================================================\n",
      "Total params: 1,160,712\n",
      "Trainable params: 1,160,712\n",
      "Non-trainable params: 0\n",
      "_________________________________________________________________\n"
     ]
    }
   ],
   "source": [
    "decoder.summary()"
   ]
  },
  {
   "cell_type": "markdown",
   "metadata": {
    "colab_type": "text",
    "id": "zAlHWwX6Lb3J"
   },
   "source": [
    "#### Build the autoencoder"
   ]
  },
  {
   "cell_type": "code",
   "execution_count": 13,
   "metadata": {
    "colab": {},
    "colab_type": "code",
    "id": "8wlJD56HLb3K"
   },
   "outputs": [],
   "source": [
    "autoencoder = tfk.Sequential([\n",
    "    encoder,\n",
    "    decoder\n",
    "], name=\"autoencoder\")"
   ]
  },
  {
   "cell_type": "code",
   "execution_count": 14,
   "metadata": {
    "colab": {
     "base_uri": "https://localhost:8080/",
     "height": 235
    },
    "colab_type": "code",
    "executionInfo": {
     "elapsed": 6803,
     "status": "ok",
     "timestamp": 1559838802150,
     "user": {
      "displayName": "Franz Louis Cesista",
      "photoUrl": "https://lh3.googleusercontent.com/-NquKeLt1770/AAAAAAAAAAI/AAAAAAAAAMo/RHnx0T1cGIk/s64/photo.jpg",
      "userId": "08273419339046628946"
     },
     "user_tz": -480
    },
    "id": "UrBlu1nWLb3O",
    "outputId": "2f988c69-2685-46fa-cfcd-f040cbcfe01b"
   },
   "outputs": [
    {
     "name": "stdout",
     "output_type": "stream",
     "text": [
      "Model: \"autoencoder\"\n",
      "_________________________________________________________________\n",
      "Layer (type)                 Output Shape              Param #   \n",
      "=================================================================\n",
      "encoder (Sequential)         (None, 2)                 1158822   \n",
      "_________________________________________________________________\n",
      "decoder (Sequential)         (None, 1920)              1160712   \n",
      "=================================================================\n",
      "Total params: 2,319,534\n",
      "Trainable params: 2,319,534\n",
      "Non-trainable params: 0\n",
      "_________________________________________________________________\n"
     ]
    }
   ],
   "source": [
    "autoencoder.summary()"
   ]
  },
  {
   "cell_type": "markdown",
   "metadata": {
    "colab_type": "text",
    "id": "0jNqGL-ZLb3V"
   },
   "source": [
    "### Train the model"
   ]
  },
  {
   "cell_type": "code",
   "execution_count": 15,
   "metadata": {
    "colab": {
     "base_uri": "https://localhost:8080/",
     "height": 1054
    },
    "colab_type": "code",
    "executionInfo": {
     "elapsed": 43130,
     "status": "ok",
     "timestamp": 1559838838497,
     "user": {
      "displayName": "Franz Louis Cesista",
      "photoUrl": "https://lh3.googleusercontent.com/-NquKeLt1770/AAAAAAAAAAI/AAAAAAAAAMo/RHnx0T1cGIk/s64/photo.jpg",
      "userId": "08273419339046628946"
     },
     "user_tz": -480
    },
    "id": "_8op4OG-Lb3W",
    "outputId": "6b6c461b-5b0d-43c4-94d4-3e0fdabbefcd"
   },
   "outputs": [
    {
     "name": "stdout",
     "output_type": "stream",
     "text": [
      "Train on 5270 samples, validate on 586 samples\n",
      "Epoch 1/1000\n",
      "5270/5270 [==============================] - 7s 1ms/sample - loss: 21.5745 - val_loss: 5.1391\n",
      "Epoch 2/1000\n",
      "5270/5270 [==============================] - 7s 1ms/sample - loss: 3.7395 - val_loss: 3.1129\n",
      "Epoch 3/1000\n",
      "5270/5270 [==============================] - 8s 1ms/sample - loss: 2.0707 - val_loss: 1.7272\n",
      "Epoch 4/1000\n",
      "5270/5270 [==============================] - 8s 1ms/sample - loss: 1.6945 - val_loss: 1.6790\n",
      "Epoch 5/1000\n",
      "5270/5270 [==============================] - 8s 1ms/sample - loss: 1.6402 - val_loss: 1.7221\n",
      "Epoch 6/1000\n",
      "5270/5270 [==============================] - 7s 1ms/sample - loss: 1.6213 - val_loss: 1.6779\n",
      "Epoch 7/1000\n",
      "5270/5270 [==============================] - 6s 1ms/sample - loss: 1.6045 - val_loss: 1.7119\n",
      "Epoch 8/1000\n",
      "5270/5270 [==============================] - 7s 1ms/sample - loss: 1.5791 - val_loss: 1.6310\n",
      "Epoch 9/1000\n",
      "5270/5270 [==============================] - 7s 1ms/sample - loss: 1.5873 - val_loss: 1.6380\n",
      "Epoch 10/1000\n",
      "5270/5270 [==============================] - 6s 1ms/sample - loss: 1.5599 - val_loss: 1.6046\n",
      "Epoch 11/1000\n",
      "5270/5270 [==============================] - 6s 1ms/sample - loss: 1.5568 - val_loss: 1.6348\n",
      "Epoch 12/1000\n",
      "5270/5270 [==============================] - 7s 1ms/sample - loss: 1.5415 - val_loss: 1.6140\n",
      "Epoch 13/1000\n",
      "5270/5270 [==============================] - 6s 1ms/sample - loss: 1.5529 - val_loss: 1.6197\n",
      "Epoch 14/1000\n",
      "5270/5270 [==============================] - 7s 1ms/sample - loss: 1.5472 - val_loss: 1.5903\n",
      "Epoch 15/1000\n",
      "5270/5270 [==============================] - 8s 1ms/sample - loss: 1.5327 - val_loss: 1.5581\n",
      "Epoch 16/1000\n",
      "5270/5270 [==============================] - 7s 1ms/sample - loss: 1.5442 - val_loss: 1.5945\n",
      "Epoch 17/1000\n",
      "5270/5270 [==============================] - 7s 1ms/sample - loss: 1.5444 - val_loss: 1.6155\n",
      "Epoch 18/1000\n",
      "5270/5270 [==============================] - 7s 1ms/sample - loss: 1.5407 - val_loss: 1.5741\n",
      "Epoch 19/1000\n",
      "5270/5270 [==============================] - 7s 1ms/sample - loss: 1.5459 - val_loss: 1.5878\n",
      "Epoch 20/1000\n",
      "5270/5270 [==============================] - 7s 1ms/sample - loss: 1.5323 - val_loss: 1.5838\n",
      "Epoch 21/1000\n",
      "5270/5270 [==============================] - 7s 1ms/sample - loss: 1.5006 - val_loss: 1.5376\n",
      "Epoch 22/1000\n",
      "5270/5270 [==============================] - 6s 1ms/sample - loss: 1.3781 - val_loss: 1.3256\n",
      "Epoch 23/1000\n",
      "5270/5270 [==============================] - 6s 1ms/sample - loss: 1.2623 - val_loss: 1.2921\n",
      "Epoch 24/1000\n",
      "5270/5270 [==============================] - 6s 1ms/sample - loss: 1.2015 - val_loss: 1.2667\n",
      "Epoch 25/1000\n",
      "5270/5270 [==============================] - 7s 1ms/sample - loss: 1.1738 - val_loss: 1.2843\n",
      "Epoch 26/1000\n",
      "5270/5270 [==============================] - 7s 1ms/sample - loss: 1.1238 - val_loss: 1.2145\n",
      "Epoch 27/1000\n",
      "5270/5270 [==============================] - 6s 1ms/sample - loss: 1.1004 - val_loss: 1.2443\n",
      "Epoch 28/1000\n",
      "5270/5270 [==============================] - 7s 1ms/sample - loss: 1.0678 - val_loss: 1.2843\n",
      "Epoch 29/1000\n",
      "5270/5270 [==============================] - 6s 1ms/sample - loss: 1.0600 - val_loss: 1.2105\n",
      "Epoch 30/1000\n",
      "5270/5270 [==============================] - 8s 1ms/sample - loss: 1.0300 - val_loss: 1.1806\n",
      "Epoch 31/1000\n",
      "5270/5270 [==============================] - 6s 1ms/sample - loss: 1.0211 - val_loss: 1.1859\n",
      "Epoch 32/1000\n",
      "5270/5270 [==============================] - 6s 1ms/sample - loss: 1.0139 - val_loss: 1.2160\n",
      "Epoch 33/1000\n",
      "5270/5270 [==============================] - 6s 1ms/sample - loss: 0.9983 - val_loss: 1.1972\n",
      "Epoch 34/1000\n",
      "5270/5270 [==============================] - 6s 1ms/sample - loss: 1.0030 - val_loss: 1.2115\n",
      "Epoch 35/1000\n",
      "5270/5270 [==============================] - 6s 1ms/sample - loss: 0.9826 - val_loss: 1.1905\n",
      "Epoch 36/1000\n",
      "5270/5270 [==============================] - 6s 1ms/sample - loss: 0.9922 - val_loss: 1.1815\n",
      "Epoch 37/1000\n",
      "5270/5270 [==============================] - 6s 1ms/sample - loss: 0.9815 - val_loss: 1.1589\n",
      "Epoch 38/1000\n",
      "5270/5270 [==============================] - 6s 1ms/sample - loss: 0.9727 - val_loss: 1.1750\n",
      "Epoch 39/1000\n",
      "5270/5270 [==============================] - 8s 2ms/sample - loss: 0.9660 - val_loss: 1.1545\n",
      "Epoch 40/1000\n",
      "5270/5270 [==============================] - 8s 1ms/sample - loss: 0.9513 - val_loss: 1.1737\n",
      "Epoch 41/1000\n",
      "5270/5270 [==============================] - 8s 1ms/sample - loss: 0.9493 - val_loss: 1.1613\n",
      "Epoch 42/1000\n",
      "5270/5270 [==============================] - 8s 1ms/sample - loss: 0.9768 - val_loss: 1.1276\n",
      "Epoch 43/1000\n",
      "5270/5270 [==============================] - 9s 2ms/sample - loss: 0.9601 - val_loss: 1.1474\n",
      "Epoch 44/1000\n",
      "5270/5270 [==============================] - 8s 2ms/sample - loss: 0.9672 - val_loss: 1.1649\n",
      "Epoch 45/1000\n",
      "5270/5270 [==============================] - 10s 2ms/sample - loss: 0.9414 - val_loss: 1.2072\n",
      "Epoch 46/1000\n",
      "5270/5270 [==============================] - 9s 2ms/sample - loss: 0.9498 - val_loss: 1.2483\n",
      "Epoch 47/1000\n",
      "5270/5270 [==============================] - 9s 2ms/sample - loss: 0.9506 - val_loss: 1.1679\n",
      "Epoch 48/1000\n",
      "5270/5270 [==============================] - 9s 2ms/sample - loss: 0.9400 - val_loss: 1.1935\n",
      "Epoch 49/1000\n",
      "5270/5270 [==============================] - 8s 1ms/sample - loss: 0.9351 - val_loss: 1.1637\n",
      "Epoch 50/1000\n",
      "5270/5270 [==============================] - 7s 1ms/sample - loss: 0.9196 - val_loss: 1.1847\n",
      "Epoch 51/1000\n",
      "5270/5270 [==============================] - 7s 1ms/sample - loss: 0.9580 - val_loss: 1.1821\n",
      "Epoch 52/1000\n",
      "5270/5270 [==============================] - 7s 1ms/sample - loss: 0.9204 - val_loss: 1.1620\n"
     ]
    }
   ],
   "source": [
    "class PrintDot(tfk.callbacks.Callback):\n",
    "  def on_epoch_end(self, epoch, logs):\n",
    "    if epoch % 100 == 0:\n",
    "      print('')\n",
    "    print('.', end='')\n",
    "\n",
    "mask_sum = mask.sum()\n",
    "    \n",
    "def scaled_loss(inputs, outputs):\n",
    "  outputs *= flat_mask\n",
    "  loss = tfk.metrics.mean_squared_error(inputs, outputs)\n",
    "  return mask_sum * loss\n",
    "\n",
    "early_stop = tfk.callbacks.EarlyStopping(monitor='val_loss', patience=10)\n",
    "\n",
    "autoencoder.compile(optimizer='adam', loss=scaled_loss)\n",
    "history = autoencoder.fit(x=flat_images,\n",
    "                          y=flat_images,\n",
    "                          epochs=1000, batch_size=32,\n",
    "                          validation_split=0.1, verbose=1,\n",
    "                          callbacks=[early_stop]) # PrintDot(), "
   ]
  },
  {
   "cell_type": "code",
   "execution_count": 16,
   "metadata": {
    "colab": {
     "base_uri": "https://localhost:8080/",
     "height": 293
    },
    "colab_type": "code",
    "executionInfo": {
     "elapsed": 43715,
     "status": "ok",
     "timestamp": 1559838839104,
     "user": {
      "displayName": "Franz Louis Cesista",
      "photoUrl": "https://lh3.googleusercontent.com/-NquKeLt1770/AAAAAAAAAAI/AAAAAAAAAMo/RHnx0T1cGIk/s64/photo.jpg",
      "userId": "08273419339046628946"
     },
     "user_tz": -480
    },
    "id": "3SKdJba6XuIG",
    "outputId": "54c42c18-bd1f-4715-c2a3-fb12e04ac9ce"
   },
   "outputs": [
    {
     "data": {
      "text/plain": [
       "<matplotlib.axes._subplots.AxesSubplot at 0x2e3875ee668>"
      ]
     },
     "execution_count": 16,
     "metadata": {},
     "output_type": "execute_result"
    },
    {
     "data": {
      "image/png": "[encoded data removed]",
      "text/plain": [
       "<Figure size 432x288 with 1 Axes>"
      ]
     },
     "metadata": {
      "needs_background": "light"
     },
     "output_type": "display_data"
    }
   ],
   "source": [
    "pd.DataFrame(history.history).plot()"
   ]
  },
  {
   "cell_type": "markdown",
   "metadata": {
    "colab_type": "text",
    "id": "ybvTSTXTNgmf"
   },
   "source": [
    "### Test the model"
   ]
  },
  {
   "cell_type": "code",
   "execution_count": 17,
   "metadata": {
    "colab": {
     "base_uri": "https://localhost:8080/",
     "height": 35
    },
    "colab_type": "code",
    "executionInfo": {
     "elapsed": 44161,
     "status": "ok",
     "timestamp": 1559838839570,
     "user": {
      "displayName": "Franz Louis Cesista",
      "photoUrl": "https://lh3.googleusercontent.com/-NquKeLt1770/AAAAAAAAAAI/AAAAAAAAAMo/RHnx0T1cGIk/s64/photo.jpg",
      "userId": "08273419339046628946"
     },
     "user_tz": -480
    },
    "id": "UuFaVRox4MiB",
    "outputId": "5620c6c3-f6b4-400f-9566-e8a435253b7d"
   },
   "outputs": [
    {
     "data": {
      "text/plain": [
       "0.07798811"
      ]
     },
     "execution_count": 17,
     "metadata": {},
     "output_type": "execute_result"
    }
   ],
   "source": [
    "y_pred = autoencoder.predict(flat_images)\n",
    "tfk.metrics.mean_squared_error(flat_images, y_pred).numpy().mean()"
   ]
  },
  {
   "cell_type": "code",
   "execution_count": 18,
   "metadata": {
    "colab": {
     "base_uri": "https://localhost:8080/",
     "height": 54
    },
    "colab_type": "code",
    "executionInfo": {
     "elapsed": 44131,
     "status": "ok",
     "timestamp": 1559838839573,
     "user": {
      "displayName": "Franz Louis Cesista",
      "photoUrl": "https://lh3.googleusercontent.com/-NquKeLt1770/AAAAAAAAAAI/AAAAAAAAAMo/RHnx0T1cGIk/s64/photo.jpg",
      "userId": "08273419339046628946"
     },
     "user_tz": -480
    },
    "id": "peS2RM4JNie9",
    "outputId": "b9f25196-2376-4261-f0ff-1a299f694293"
   },
   "outputs": [
    {
     "name": "stdout",
     "output_type": "stream",
     "text": [
      "5856/5856 [==============================] - 4s 660us/sample - loss: 0.9478\n"
     ]
    },
    {
     "data": {
      "text/plain": [
       "0.9478113012887089"
      ]
     },
     "execution_count": 18,
     "metadata": {},
     "output_type": "execute_result"
    }
   ],
   "source": [
    "autoencoder.evaluate(flat_images, flat_images)"
   ]
  },
  {
   "cell_type": "markdown",
   "metadata": {},
   "source": [
    "### Save model"
   ]
  },
  {
   "cell_type": "code",
   "execution_count": 22,
   "metadata": {},
   "outputs": [],
   "source": [
    "autoencoder.save('temporal_anomaly_detection/autoencoder.h5')"
   ]
  },
  {
   "cell_type": "code",
   "execution_count": 26,
   "metadata": {},
   "outputs": [],
   "source": [
    "autoencoder_ = tfk.models.load_model('temporal_anomaly_detection/autoencoder.h5',\n",
    "                                     custom_objects={'scaled_loss':scaled_loss})"
   ]
  },
  {
   "cell_type": "markdown",
   "metadata": {
    "colab_type": "text",
    "id": "T3NpeesRMgaE"
   },
   "source": [
    "### Latent space visualizations"
   ]
  },
  {
   "cell_type": "code",
   "execution_count": 33,
   "metadata": {
    "colab": {},
    "colab_type": "code",
    "id": "kwq8IClHLb3b"
   },
   "outputs": [],
   "source": [
    "latent_vars = autoencoder.get_layer('encoder')(flat_images).numpy()"
   ]
  },
  {
   "cell_type": "code",
   "execution_count": 34,
   "metadata": {
    "colab": {
     "base_uri": "https://localhost:8080/",
     "height": 275
    },
    "colab_type": "code",
    "executionInfo": {
     "elapsed": 44744,
     "status": "ok",
     "timestamp": 1559838840205,
     "user": {
      "displayName": "Franz Louis Cesista",
      "photoUrl": "https://lh3.googleusercontent.com/-NquKeLt1770/AAAAAAAAAAI/AAAAAAAAAMo/RHnx0T1cGIk/s64/photo.jpg",
      "userId": "08273419339046628946"
     },
     "user_tz": -480
    },
    "id": "v7sG37_OMkyT",
    "outputId": "a1a63c8c-3905-4cb9-e521-9a03d43014d6"
   },
   "outputs": [
    {
     "data": {
      "image/png": "[encoded data removed]",
      "text/plain": [
       "<Figure size 432x288 with 1 Axes>"
      ]
     },
     "metadata": {
      "needs_background": "light"
     },
     "output_type": "display_data"
    }
   ],
   "source": [
    "points = plt.scatter(latent_vars[:, 0], latent_vars[:, 1], alpha=0.5, linewidth=0)\n",
    "plt.show()"
   ]
  },
  {
   "cell_type": "code",
   "execution_count": 35,
   "metadata": {
    "colab": {
     "base_uri": "https://localhost:8080/",
     "height": 293
    },
    "colab_type": "code",
    "executionInfo": {
     "elapsed": 44722,
     "status": "ok",
     "timestamp": 1559838840208,
     "user": {
      "displayName": "Franz Louis Cesista",
      "photoUrl": "https://lh3.googleusercontent.com/-NquKeLt1770/AAAAAAAAAAI/AAAAAAAAAMo/RHnx0T1cGIk/s64/photo.jpg",
      "userId": "08273419339046628946"
     },
     "user_tz": -480
    },
    "id": "1fKrkoWSGBzO",
    "outputId": "7c797e8b-7828-4a22-9a70-684468c304d8"
   },
   "outputs": [
    {
     "data": {
      "text/plain": [
       "[<matplotlib.lines.Line2D at 0x2e392579c50>]"
      ]
     },
     "execution_count": 35,
     "metadata": {},
     "output_type": "execute_result"
    },
    {
     "data": {
      "image/png": "[encoded data removed]",
      "text/plain": [
       "<Figure size 432x288 with 1 Axes>"
      ]
     },
     "metadata": {
      "needs_background": "light"
     },
     "output_type": "display_data"
    }
   ],
   "source": [
    "plt.plot(latent_vars[:4*36, 0], latent_vars[:4*36, 1], '-o')"
   ]
  },
  {
   "cell_type": "markdown",
   "metadata": {},
   "source": [
    "## Calculate Mahalanobis Distances"
   ]
  },
  {
   "cell_type": "code",
   "execution_count": 38,
   "metadata": {},
   "outputs": [
    {
     "name": "stdout",
     "output_type": "stream",
     "text": [
      "[[ 0.02868951 -1.9072311 ]]\n"
     ]
    }
   ],
   "source": [
    "train_mu = latent_vars.mean(axis=0)\n",
    "train_mu = train_mu.reshape(1, -1)\n",
    "print(train_mu)"
   ]
  },
  {
   "cell_type": "code",
   "execution_count": 41,
   "metadata": {},
   "outputs": [
    {
     "name": "stdout",
     "output_type": "stream",
     "text": [
      "[[0.5830229 2.27596  ]]\n"
     ]
    }
   ],
   "source": [
    "train_std = latent_vars.std(axis=0)\n",
    "train_std = train_std.reshape(1, -1)\n",
    "print(train_std)"
   ]
  },
  {
   "cell_type": "code",
   "execution_count": 42,
   "metadata": {},
   "outputs": [
    {
     "data": {
      "text/plain": [
       "(5856,)"
      ]
     },
     "execution_count": 42,
     "metadata": {},
     "output_type": "execute_result"
    }
   ],
   "source": [
    "mahalanobis_dist = (((latent_vars - train_mu)/train_std)**2).sum(axis=1)**(0.5)\n",
    "mahalanobis_dist.shape"
   ]
  },
  {
   "cell_type": "markdown",
   "metadata": {},
   "source": [
    "### Save the data"
   ]
  },
  {
   "cell_type": "code",
   "execution_count": 59,
   "metadata": {},
   "outputs": [],
   "source": [
    "np.save('temporal_anomaly_detection/mahalanobis_dist.npy', mahalanobis_dist)"
   ]
  },
  {
   "cell_type": "code",
   "execution_count": 50,
   "metadata": {},
   "outputs": [],
   "source": [
    "np.save('temporal_anomaly_detection/train_mu.npy', train_mu)"
   ]
  },
  {
   "cell_type": "code",
   "execution_count": 51,
   "metadata": {},
   "outputs": [],
   "source": [
    "np.save('temporal_anomaly_detection/train_std.npy', train_std)"
   ]
  },
  {
   "cell_type": "markdown",
   "metadata": {},
   "source": [
    "### Inspect"
   ]
  },
  {
   "cell_type": "code",
   "execution_count": 60,
   "metadata": {},
   "outputs": [
    {
     "data": {
      "text/plain": [
       "[<matplotlib.lines.Line2D at 0x2e387825f28>]"
      ]
     },
     "execution_count": 60,
     "metadata": {},
     "output_type": "execute_result"
    },
    {
     "data": {
      "image/png": "[encoded data removed]",
      "text/plain": [
       "<Figure size 432x288 with 1 Axes>"
      ]
     },
     "metadata": {
      "needs_background": "light"
     },
     "output_type": "display_data"
    }
   ],
   "source": [
    "plt.plot(mahalanobis_dist[:2000])"
   ]
  },
  {
   "cell_type": "code",
   "execution_count": 53,
   "metadata": {},
   "outputs": [
    {
     "data": {
      "text/plain": [
       "(array([4778., 1057.,    9.,    0.,    0.,    0.,    0.,    0.,    0.,\n",
       "          12.]),\n",
       " array([ 0.08191028,  1.686772  ,  3.2916336 ,  4.8964953 ,  6.501357  ,\n",
       "         8.106219  ,  9.711081  , 11.315943  , 12.920804  , 14.525666  ,\n",
       "        16.130527  ], dtype=float32),\n",
       " <a list of 10 Patch objects>)"
      ]
     },
     "execution_count": 53,
     "metadata": {},
     "output_type": "execute_result"
    },
    {
     "data": {
      "image/png": "[encoded data removed]",
      "text/plain": [
       "<Figure size 432x288 with 1 Axes>"
      ]
     },
     "metadata": {
      "needs_background": "light"
     },
     "output_type": "display_data"
    }
   ],
   "source": [
    "plt.hist(mahalanobis_dist)"
   ]
  },
  {
   "cell_type": "code",
   "execution_count": 43,
   "metadata": {},
   "outputs": [
    {
     "name": "stdout",
     "output_type": "stream",
     "text": [
      "16.130527\n",
      "(array([1670], dtype=int64),)\n"
     ]
    }
   ],
   "source": [
    "print(mahalanobis_dist.max())\n",
    "print(np.where(mahalanobis_dist == mahalanobis_dist.max()))"
   ]
  },
  {
   "cell_type": "code",
   "execution_count": 44,
   "metadata": {},
   "outputs": [
    {
     "name": "stdout",
     "output_type": "stream",
     "text": [
      "0.08191028\n",
      "(array([3906], dtype=int64),)\n"
     ]
    }
   ],
   "source": [
    "print(mahalanobis_dist.min())\n",
    "print(np.where(mahalanobis_dist == mahalanobis_dist.min()))"
   ]
  },
  {
   "cell_type": "code",
   "execution_count": 46,
   "metadata": {},
   "outputs": [
    {
     "data": {
      "text/plain": [
       "<matplotlib.image.AxesImage at 0x2e392661278>"
      ]
     },
     "execution_count": 46,
     "metadata": {},
     "output_type": "execute_result"
    },
    {
     "data": {
      "image/png": "[encoded data removed]",
      "text/plain": [
       "<Figure size 432x288 with 1 Axes>"
      ]
     },
     "metadata": {
      "needs_background": "light"
     },
     "output_type": "display_data"
    }
   ],
   "source": [
    "plt.imshow(images[1670])"
   ]
  },
  {
   "cell_type": "code",
   "execution_count": 48,
   "metadata": {},
   "outputs": [
    {
     "data": {
      "text/plain": [
       "<matplotlib.image.AxesImage at 0x2e392705898>"
      ]
     },
     "execution_count": 48,
     "metadata": {},
     "output_type": "execute_result"
    },
    {
     "data": {
      "image/png": "[encoded data removed]",
      "text/plain": [
       "<Figure size 432x288 with 1 Axes>"
      ]
     },
     "metadata": {
      "needs_background": "light"
     },
     "output_type": "display_data"
    }
   ],
   "source": [
    "plt.imshow(images[3906])"
   ]
  },
  {
   "cell_type": "code",
   "execution_count": 56,
   "metadata": {},
   "outputs": [
    {
     "data": {
      "text/plain": [
       "<matplotlib.image.AxesImage at 0x2e3928586d8>"
      ]
     },
     "execution_count": 56,
     "metadata": {},
     "output_type": "execute_result"
    },
    {
     "data": {
      "image/png": "[encoded data removed]",
      "text/plain": [
       "<Figure size 432x288 with 1 Axes>"
      ]
     },
     "metadata": {
      "needs_background": "light"
     },
     "output_type": "display_data"
    }
   ],
   "source": [
    "x_sampled = autoencoder.get_layer('decoder')(train_mu)\n",
    "x_sampled = np.asarray(x_sampled)[0] * flat_mask\n",
    "plt.imshow(x_sampled.reshape(48, 40))"
   ]
  },
  {
   "cell_type": "code",
   "execution_count": null,
   "metadata": {
    "colab": {},
    "colab_type": "code",
    "id": "XYF503yFWtCT"
   },
   "outputs": [],
   "source": []
  }
 ],
 "metadata": {
  "accelerator": "GPU",
  "colab": {
   "collapsed_sections": [],
   "name": "2.6 - Check for Outliers Autoencoder.ipynb",
   "provenance": [],
   "version": "0.3.2"
  },
  "kernelspec": {
   "display_name": "Python [conda env:py36]",
   "language": "python",
   "name": "conda-env-py36-py"
  },
  "language_info": {
   "codemirror_mode": {
    "name": "ipython",
    "version": 3
   },
   "file_extension": ".py",
   "mimetype": "text/x-python",
   "name": "python",
   "nbconvert_exporter": "python",
   "pygments_lexer": "ipython3",
   "version": "3.6.8"
  }
 },
 "nbformat": 4,
 "nbformat_minor": 2
}
