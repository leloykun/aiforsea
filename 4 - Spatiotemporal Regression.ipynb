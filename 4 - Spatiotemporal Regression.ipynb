{
 "cells": [
  {
   "cell_type": "markdown",
   "metadata": {},
   "source": [
    "# Spatiotemporal Regression"
   ]
  },
  {
   "cell_type": "code",
   "execution_count": null,
   "metadata": {
    "colab": {},
    "colab_type": "code",
    "id": "7fDtK1p7evZT"
   },
   "outputs": [],
   "source": [
    "%%capture\n",
    "!pip3 install pygeohash tensorflow==2.0.0-alpha0 tpot"
   ]
  },
  {
   "cell_type": "code",
   "execution_count": 19,
   "metadata": {
    "colab": {},
    "colab_type": "code",
    "id": "wl-nNX21_b98"
   },
   "outputs": [],
   "source": [
    "import math\n",
    "import datetime\n",
    "\n",
    "import numpy as np\n",
    "import pandas as pd\n",
    "import pygeohash as gh\n",
    "from fbprophet import Prophet\n",
    "from fbprophet.diagnostics import cross_validation, performance_metrics\n",
    "from fbprophet.plot import plot_cross_validation_metric\n",
    "\n",
    "import scipy.fftpack\n",
    "\n",
    "from sklearn.linear_model import LinearRegression, Ridge, Lasso, ElasticNet\n",
    "from sklearn.linear_model import BayesianRidge, ARDRegression\n",
    "from sklearn.pipeline import Pipeline, FeatureUnion\n",
    "from sklearn.compose import ColumnTransformer\n",
    "from sklearn.preprocessing import PolynomialFeatures, StandardScaler, Normalizer\n",
    "from sklearn.decomposition import PCA\n",
    "from sklearn.metrics import mean_squared_error\n",
    "\n",
    "from sklearn.tree import export_graphviz\n",
    "from sklearn.ensemble import RandomForestRegressor\n",
    "\n",
    "from xgboost import XGBRegressor\n",
    "from xgboost import plot_tree\n",
    "import xgboost\n",
    "\n",
    "from tpot import TPOTRegressor\n",
    "\n",
    "import tensorflow.keras as tfk\n",
    "\n",
    "from sklearn.externals.six import StringIO  \n",
    "from IPython.display import Image  \n",
    "import pydotplus\n",
    "\n",
    "import _pickle as cPickle\n",
    "\n",
    "import seaborn as sns\n",
    "import matplotlib.pyplot as plt\n",
    "from matplotlib import animation\n",
    "sns.set(style=\"whitegrid\")"
   ]
  },
  {
   "cell_type": "markdown",
   "metadata": {
    "colab_type": "text",
    "id": "rMMIolKw_b-E"
   },
   "source": [
    "## The data"
   ]
  },
  {
   "cell_type": "markdown",
   "metadata": {
    "colab_type": "text",
    "id": "fbQwPH_s_b-F"
   },
   "source": [
    "### Load the preprocessed data"
   ]
  },
  {
   "cell_type": "code",
   "execution_count": 3,
   "metadata": {
    "colab": {
     "base_uri": "https://localhost:8080/",
     "height": 34
    },
    "colab_type": "code",
    "executionInfo": {
     "elapsed": 11920,
     "status": "ok",
     "timestamp": 1559366995405,
     "user": {
      "displayName": "Franz Louis Cesista",
      "photoUrl": "https://lh3.googleusercontent.com/-NquKeLt1770/AAAAAAAAAAI/AAAAAAAAAMo/RHnx0T1cGIk/s64/photo.jpg",
      "userId": "08273419339046628946"
     },
     "user_tz": -480
    },
    "id": "INzRLvHtfXMX",
    "outputId": "bcfe3b6f-2613-49f0-9e81-b0af385f2909"
   },
   "outputs": [
    {
     "name": "stdout",
     "output_type": "stream",
     "text": [
      "Drive already mounted at /content/gdrive; to attempt to forcibly remount, call drive.mount(\"/content/gdrive\", force_remount=True).\n"
     ]
    }
   ],
   "source": [
    "from google.colab import drive\n",
    "drive.mount('/content/gdrive')"
   ]
  },
  {
   "cell_type": "code",
   "execution_count": 4,
   "metadata": {
    "colab": {
     "base_uri": "https://localhost:8080/",
     "height": 34
    },
    "colab_type": "code",
    "executionInfo": {
     "elapsed": 2577,
     "status": "ok",
     "timestamp": 1559367029578,
     "user": {
      "displayName": "Franz Louis Cesista",
      "photoUrl": "https://lh3.googleusercontent.com/-NquKeLt1770/AAAAAAAAAAI/AAAAAAAAAMo/RHnx0T1cGIk/s64/photo.jpg",
      "userId": "08273419339046628946"
     },
     "user_tz": -480
    },
    "id": "G3hWSfLpcRto",
    "outputId": "7ec1ba62-e177-4a02-879a-7eeae8316729"
   },
   "outputs": [
    {
     "name": "stdout",
     "output_type": "stream",
     "text": [
      "/content/gdrive/My Drive/Colab Notebooks/aiforsea\n"
     ]
    }
   ],
   "source": [
    "cd '/content/gdrive/My Drive/Colab Notebooks/aiforsea'"
   ]
  },
  {
   "cell_type": "code",
   "execution_count": 2,
   "metadata": {
    "colab": {
     "base_uri": "https://localhost:8080/",
     "height": 204
    },
    "colab_type": "code",
    "executionInfo": {
     "elapsed": 11960,
     "status": "ok",
     "timestamp": 1559367039706,
     "user": {
      "displayName": "Franz Louis Cesista",
      "photoUrl": "https://lh3.googleusercontent.com/-NquKeLt1770/AAAAAAAAAAI/AAAAAAAAAMo/RHnx0T1cGIk/s64/photo.jpg",
      "userId": "08273419339046628946"
     },
     "user_tz": -480
    },
    "id": "yce--IXleiEN",
    "outputId": "2289da1d-4338-4d03-a03f-2dea65372228"
   },
   "outputs": [
    {
     "data": {
      "text/html": [
       "<div>\n",
       "<style scoped>\n",
       "    .dataframe tbody tr th:only-of-type {\n",
       "        vertical-align: middle;\n",
       "    }\n",
       "\n",
       "    .dataframe tbody tr th {\n",
       "        vertical-align: top;\n",
       "    }\n",
       "\n",
       "    .dataframe thead th {\n",
       "        text-align: right;\n",
       "    }\n",
       "</style>\n",
       "<table border=\"1\" class=\"dataframe\">\n",
       "  <thead>\n",
       "    <tr style=\"text-align: right;\">\n",
       "      <th></th>\n",
       "      <th>geohash6</th>\n",
       "      <th>day</th>\n",
       "      <th>demand</th>\n",
       "      <th>in_raw</th>\n",
       "      <th>weekday</th>\n",
       "      <th>hour</th>\n",
       "      <th>minutes</th>\n",
       "      <th>ds</th>\n",
       "      <th>latitude</th>\n",
       "      <th>longitude</th>\n",
       "    </tr>\n",
       "  </thead>\n",
       "  <tbody>\n",
       "    <tr>\n",
       "      <th>0</th>\n",
       "      <td>qp02yc</td>\n",
       "      <td>1</td>\n",
       "      <td>0.0</td>\n",
       "      <td>False</td>\n",
       "      <td>1</td>\n",
       "      <td>0</td>\n",
       "      <td>0</td>\n",
       "      <td>1900-01-01 00:00:00</td>\n",
       "      <td>-5.484924</td>\n",
       "      <td>90.653687</td>\n",
       "    </tr>\n",
       "    <tr>\n",
       "      <th>1</th>\n",
       "      <td>qp02z1</td>\n",
       "      <td>1</td>\n",
       "      <td>0.0</td>\n",
       "      <td>False</td>\n",
       "      <td>1</td>\n",
       "      <td>0</td>\n",
       "      <td>0</td>\n",
       "      <td>1900-01-01 00:00:00</td>\n",
       "      <td>-5.484924</td>\n",
       "      <td>90.664673</td>\n",
       "    </tr>\n",
       "    <tr>\n",
       "      <th>2</th>\n",
       "      <td>qp02z3</td>\n",
       "      <td>1</td>\n",
       "      <td>0.0</td>\n",
       "      <td>False</td>\n",
       "      <td>1</td>\n",
       "      <td>0</td>\n",
       "      <td>0</td>\n",
       "      <td>1900-01-01 00:00:00</td>\n",
       "      <td>-5.484924</td>\n",
       "      <td>90.675659</td>\n",
       "    </tr>\n",
       "    <tr>\n",
       "      <th>3</th>\n",
       "      <td>qp02z9</td>\n",
       "      <td>1</td>\n",
       "      <td>0.0</td>\n",
       "      <td>False</td>\n",
       "      <td>1</td>\n",
       "      <td>0</td>\n",
       "      <td>0</td>\n",
       "      <td>1900-01-01 00:00:00</td>\n",
       "      <td>-5.484924</td>\n",
       "      <td>90.686646</td>\n",
       "    </tr>\n",
       "    <tr>\n",
       "      <th>4</th>\n",
       "      <td>qp02zc</td>\n",
       "      <td>1</td>\n",
       "      <td>0.0</td>\n",
       "      <td>False</td>\n",
       "      <td>1</td>\n",
       "      <td>0</td>\n",
       "      <td>0</td>\n",
       "      <td>1900-01-01 00:00:00</td>\n",
       "      <td>-5.484924</td>\n",
       "      <td>90.697632</td>\n",
       "    </tr>\n",
       "  </tbody>\n",
       "</table>\n",
       "</div>"
      ],
      "text/plain": [
       "  geohash6  day  demand  in_raw  weekday  hour  minutes                   ds  \\\n",
       "0   qp02yc    1     0.0   False        1     0        0  1900-01-01 00:00:00   \n",
       "1   qp02z1    1     0.0   False        1     0        0  1900-01-01 00:00:00   \n",
       "2   qp02z3    1     0.0   False        1     0        0  1900-01-01 00:00:00   \n",
       "3   qp02z9    1     0.0   False        1     0        0  1900-01-01 00:00:00   \n",
       "4   qp02zc    1     0.0   False        1     0        0  1900-01-01 00:00:00   \n",
       "\n",
       "   latitude  longitude  \n",
       "0 -5.484924  90.653687  \n",
       "1 -5.484924  90.664673  \n",
       "2 -5.484924  90.675659  \n",
       "3 -5.484924  90.686646  \n",
       "4 -5.484924  90.697632  "
      ]
     },
     "execution_count": 2,
     "metadata": {},
     "output_type": "execute_result"
    }
   ],
   "source": [
    "df = pd.read_csv('full_data.csv')\n",
    "df.head()"
   ]
  },
  {
   "cell_type": "markdown",
   "metadata": {
    "colab_type": "text",
    "id": "_jC-0pEg_b-m"
   },
   "source": [
    "### Circular embedding"
   ]
  },
  {
   "cell_type": "code",
   "execution_count": 3,
   "metadata": {
    "colab": {
     "base_uri": "https://localhost:8080/",
     "height": 51
    },
    "colab_type": "code",
    "executionInfo": {
     "elapsed": 7656,
     "status": "ok",
     "timestamp": 1559367041844,
     "user": {
      "displayName": "Franz Louis Cesista",
      "photoUrl": "https://lh3.googleusercontent.com/-NquKeLt1770/AAAAAAAAAAI/AAAAAAAAAMo/RHnx0T1cGIk/s64/photo.jpg",
      "userId": "08273419339046628946"
     },
     "user_tz": -480
    },
    "id": "FrITJ1HL_b-o",
    "outputId": "7b3ae2a1-f715-42fa-d33d-92d1049d2594"
   },
   "outputs": [
    {
     "name": "stdout",
     "output_type": "stream",
     "text": [
      "Wall time: 2.1 s\n"
     ]
    }
   ],
   "source": [
    "%%time\n",
    "df['weekday_sin'] = np.sin(2*np.pi*df['weekday'].values/7)\n",
    "df['weekday_cos'] = np.cos(2*np.pi*df['weekday'].values/7)\n",
    "\n",
    "df['hour_sin']    = np.sin(2*np.pi*df['hour'].values/24)\n",
    "df['hour_cos']    = np.cos(2*np.pi*df['hour'].values/24)\n",
    "\n",
    "df['minutes_sin'] = np.sin(2*np.pi*df['minutes'].values/60)\n",
    "df['minutes_cos'] = np.cos(2*np.pi*df['minutes'].values/60)"
   ]
  },
  {
   "cell_type": "code",
   "execution_count": 4,
   "metadata": {
    "colab": {
     "base_uri": "https://localhost:8080/",
     "height": 394
    },
    "colab_type": "code",
    "executionInfo": {
     "elapsed": 7129,
     "status": "ok",
     "timestamp": 1559367041846,
     "user": {
      "displayName": "Franz Louis Cesista",
      "photoUrl": "https://lh3.googleusercontent.com/-NquKeLt1770/AAAAAAAAAAI/AAAAAAAAAMo/RHnx0T1cGIk/s64/photo.jpg",
      "userId": "08273419339046628946"
     },
     "user_tz": -480
    },
    "id": "b22sq-pr_b-r",
    "outputId": "b89f7dc6-01e0-4edd-e8dc-75a6bd26c0fc"
   },
   "outputs": [
    {
     "data": {
      "text/html": [
       "<div>\n",
       "<style scoped>\n",
       "    .dataframe tbody tr th:only-of-type {\n",
       "        vertical-align: middle;\n",
       "    }\n",
       "\n",
       "    .dataframe tbody tr th {\n",
       "        vertical-align: top;\n",
       "    }\n",
       "\n",
       "    .dataframe thead th {\n",
       "        text-align: right;\n",
       "    }\n",
       "</style>\n",
       "<table border=\"1\" class=\"dataframe\">\n",
       "  <thead>\n",
       "    <tr style=\"text-align: right;\">\n",
       "      <th></th>\n",
       "      <th>geohash6</th>\n",
       "      <th>day</th>\n",
       "      <th>demand</th>\n",
       "      <th>in_raw</th>\n",
       "      <th>weekday</th>\n",
       "      <th>hour</th>\n",
       "      <th>minutes</th>\n",
       "      <th>ds</th>\n",
       "      <th>latitude</th>\n",
       "      <th>longitude</th>\n",
       "      <th>weekday_sin</th>\n",
       "      <th>weekday_cos</th>\n",
       "      <th>hour_sin</th>\n",
       "      <th>hour_cos</th>\n",
       "      <th>minutes_sin</th>\n",
       "      <th>minutes_cos</th>\n",
       "    </tr>\n",
       "  </thead>\n",
       "  <tbody>\n",
       "    <tr>\n",
       "      <th>0</th>\n",
       "      <td>qp02yc</td>\n",
       "      <td>1</td>\n",
       "      <td>0.0</td>\n",
       "      <td>False</td>\n",
       "      <td>1</td>\n",
       "      <td>0</td>\n",
       "      <td>0</td>\n",
       "      <td>1900-01-01 00:00:00</td>\n",
       "      <td>-5.484924</td>\n",
       "      <td>90.653687</td>\n",
       "      <td>0.781831</td>\n",
       "      <td>0.62349</td>\n",
       "      <td>0.0</td>\n",
       "      <td>1.0</td>\n",
       "      <td>0.0</td>\n",
       "      <td>1.0</td>\n",
       "    </tr>\n",
       "    <tr>\n",
       "      <th>1</th>\n",
       "      <td>qp02z1</td>\n",
       "      <td>1</td>\n",
       "      <td>0.0</td>\n",
       "      <td>False</td>\n",
       "      <td>1</td>\n",
       "      <td>0</td>\n",
       "      <td>0</td>\n",
       "      <td>1900-01-01 00:00:00</td>\n",
       "      <td>-5.484924</td>\n",
       "      <td>90.664673</td>\n",
       "      <td>0.781831</td>\n",
       "      <td>0.62349</td>\n",
       "      <td>0.0</td>\n",
       "      <td>1.0</td>\n",
       "      <td>0.0</td>\n",
       "      <td>1.0</td>\n",
       "    </tr>\n",
       "    <tr>\n",
       "      <th>2</th>\n",
       "      <td>qp02z3</td>\n",
       "      <td>1</td>\n",
       "      <td>0.0</td>\n",
       "      <td>False</td>\n",
       "      <td>1</td>\n",
       "      <td>0</td>\n",
       "      <td>0</td>\n",
       "      <td>1900-01-01 00:00:00</td>\n",
       "      <td>-5.484924</td>\n",
       "      <td>90.675659</td>\n",
       "      <td>0.781831</td>\n",
       "      <td>0.62349</td>\n",
       "      <td>0.0</td>\n",
       "      <td>1.0</td>\n",
       "      <td>0.0</td>\n",
       "      <td>1.0</td>\n",
       "    </tr>\n",
       "    <tr>\n",
       "      <th>3</th>\n",
       "      <td>qp02z9</td>\n",
       "      <td>1</td>\n",
       "      <td>0.0</td>\n",
       "      <td>False</td>\n",
       "      <td>1</td>\n",
       "      <td>0</td>\n",
       "      <td>0</td>\n",
       "      <td>1900-01-01 00:00:00</td>\n",
       "      <td>-5.484924</td>\n",
       "      <td>90.686646</td>\n",
       "      <td>0.781831</td>\n",
       "      <td>0.62349</td>\n",
       "      <td>0.0</td>\n",
       "      <td>1.0</td>\n",
       "      <td>0.0</td>\n",
       "      <td>1.0</td>\n",
       "    </tr>\n",
       "    <tr>\n",
       "      <th>4</th>\n",
       "      <td>qp02zc</td>\n",
       "      <td>1</td>\n",
       "      <td>0.0</td>\n",
       "      <td>False</td>\n",
       "      <td>1</td>\n",
       "      <td>0</td>\n",
       "      <td>0</td>\n",
       "      <td>1900-01-01 00:00:00</td>\n",
       "      <td>-5.484924</td>\n",
       "      <td>90.697632</td>\n",
       "      <td>0.781831</td>\n",
       "      <td>0.62349</td>\n",
       "      <td>0.0</td>\n",
       "      <td>1.0</td>\n",
       "      <td>0.0</td>\n",
       "      <td>1.0</td>\n",
       "    </tr>\n",
       "  </tbody>\n",
       "</table>\n",
       "</div>"
      ],
      "text/plain": [
       "  geohash6  day  demand  in_raw  weekday  hour  minutes                   ds  \\\n",
       "0   qp02yc    1     0.0   False        1     0        0  1900-01-01 00:00:00   \n",
       "1   qp02z1    1     0.0   False        1     0        0  1900-01-01 00:00:00   \n",
       "2   qp02z3    1     0.0   False        1     0        0  1900-01-01 00:00:00   \n",
       "3   qp02z9    1     0.0   False        1     0        0  1900-01-01 00:00:00   \n",
       "4   qp02zc    1     0.0   False        1     0        0  1900-01-01 00:00:00   \n",
       "\n",
       "   latitude  longitude  weekday_sin  weekday_cos  hour_sin  hour_cos  \\\n",
       "0 -5.484924  90.653687     0.781831      0.62349       0.0       1.0   \n",
       "1 -5.484924  90.664673     0.781831      0.62349       0.0       1.0   \n",
       "2 -5.484924  90.675659     0.781831      0.62349       0.0       1.0   \n",
       "3 -5.484924  90.686646     0.781831      0.62349       0.0       1.0   \n",
       "4 -5.484924  90.697632     0.781831      0.62349       0.0       1.0   \n",
       "\n",
       "   minutes_sin  minutes_cos  \n",
       "0          0.0          1.0  \n",
       "1          0.0          1.0  \n",
       "2          0.0          1.0  \n",
       "3          0.0          1.0  \n",
       "4          0.0          1.0  "
      ]
     },
     "execution_count": 4,
     "metadata": {},
     "output_type": "execute_result"
    }
   ],
   "source": [
    "df.head()"
   ]
  },
  {
   "cell_type": "markdown",
   "metadata": {
    "colab_type": "text",
    "id": "hHgxz9Hy_b_Q"
   },
   "source": [
    "### Collect information for each location"
   ]
  },
  {
   "cell_type": "code",
   "execution_count": 5,
   "metadata": {
    "colab": {
     "base_uri": "https://localhost:8080/",
     "height": 34
    },
    "colab_type": "code",
    "executionInfo": {
     "elapsed": 6189,
     "status": "ok",
     "timestamp": 1559367042321,
     "user": {
      "displayName": "Franz Louis Cesista",
      "photoUrl": "https://lh3.googleusercontent.com/-NquKeLt1770/AAAAAAAAAAI/AAAAAAAAAMo/RHnx0T1cGIk/s64/photo.jpg",
      "userId": "08273419339046628946"
     },
     "user_tz": -480
    },
    "id": "bXFfPhsD_b_R",
    "outputId": "4815faf0-bb10-4fbe-b0d7-76dfe3c29415",
    "scrolled": true
   },
   "outputs": [
    {
     "name": "stdout",
     "output_type": "stream",
     "text": [
      "1329 ['qp02yc' 'qp02z1' 'qp02z3' ... 'qp0djw' 'qp0djy' 'qp0dnn']\n"
     ]
    }
   ],
   "source": [
    "locations = df['geohash6'].unique()\n",
    "print(len(locations), locations)"
   ]
  },
  {
   "cell_type": "code",
   "execution_count": 6,
   "metadata": {
    "colab": {},
    "colab_type": "code",
    "id": "Ynu8KePA_b_W"
   },
   "outputs": [],
   "source": [
    "df_locinfo = pd.DataFrame()"
   ]
  },
  {
   "cell_type": "code",
   "execution_count": 7,
   "metadata": {
    "colab": {
     "base_uri": "https://localhost:8080/",
     "height": 235
    },
    "colab_type": "code",
    "executionInfo": {
     "elapsed": 8350,
     "status": "ok",
     "timestamp": 1559367045021,
     "user": {
      "displayName": "Franz Louis Cesista",
      "photoUrl": "https://lh3.googleusercontent.com/-NquKeLt1770/AAAAAAAAAAI/AAAAAAAAAMo/RHnx0T1cGIk/s64/photo.jpg",
      "userId": "08273419339046628946"
     },
     "user_tz": -480
    },
    "id": "nKHDW829_b_Z",
    "outputId": "aebd46a4-fa04-49fd-8aaf-81e11afadfd0"
   },
   "outputs": [
    {
     "data": {
      "text/html": [
       "<div>\n",
       "<style scoped>\n",
       "    .dataframe tbody tr th:only-of-type {\n",
       "        vertical-align: middle;\n",
       "    }\n",
       "\n",
       "    .dataframe tbody tr th {\n",
       "        vertical-align: top;\n",
       "    }\n",
       "\n",
       "    .dataframe thead th {\n",
       "        text-align: right;\n",
       "    }\n",
       "</style>\n",
       "<table border=\"1\" class=\"dataframe\">\n",
       "  <thead>\n",
       "    <tr style=\"text-align: right;\">\n",
       "      <th></th>\n",
       "      <th>median</th>\n",
       "      <th>mean</th>\n",
       "      <th>count</th>\n",
       "    </tr>\n",
       "    <tr>\n",
       "      <th>geohash6</th>\n",
       "      <th></th>\n",
       "      <th></th>\n",
       "      <th></th>\n",
       "    </tr>\n",
       "  </thead>\n",
       "  <tbody>\n",
       "    <tr>\n",
       "      <th>qp03yb</th>\n",
       "      <td>0.777774</td>\n",
       "      <td>0.694499</td>\n",
       "      <td>5856</td>\n",
       "    </tr>\n",
       "    <tr>\n",
       "      <th>qp03xw</th>\n",
       "      <td>0.972542</td>\n",
       "      <td>0.745806</td>\n",
       "      <td>5856</td>\n",
       "    </tr>\n",
       "    <tr>\n",
       "      <th>qp03xx</th>\n",
       "      <td>1.000000</td>\n",
       "      <td>0.751653</td>\n",
       "      <td>5856</td>\n",
       "    </tr>\n",
       "    <tr>\n",
       "      <th>qp09e5</th>\n",
       "      <td>1.000000</td>\n",
       "      <td>0.759626</td>\n",
       "      <td>5856</td>\n",
       "    </tr>\n",
       "    <tr>\n",
       "      <th>qp09d9</th>\n",
       "      <td>1.000000</td>\n",
       "      <td>0.867371</td>\n",
       "      <td>5856</td>\n",
       "    </tr>\n",
       "  </tbody>\n",
       "</table>\n",
       "</div>"
      ],
      "text/plain": [
       "            median      mean  count\n",
       "geohash6                           \n",
       "qp03yb    0.777774  0.694499   5856\n",
       "qp03xw    0.972542  0.745806   5856\n",
       "qp03xx    1.000000  0.751653   5856\n",
       "qp09e5    1.000000  0.759626   5856\n",
       "qp09d9    1.000000  0.867371   5856"
      ]
     },
     "execution_count": 7,
     "metadata": {},
     "output_type": "execute_result"
    }
   ],
   "source": [
    "df_locinfo['median'] = df.groupby(['geohash6'])['demand'].median()\n",
    "df_locinfo['mean'] = df.groupby(['geohash6'])['demand'].mean()\n",
    "df_locinfo['count'] = df.groupby(['geohash6'])['demand'].count()\n",
    "\n",
    "df_locinfo = df_locinfo.sort_values(by=['mean', 'median'])\n",
    "df_locinfo.tail()"
   ]
  },
  {
   "cell_type": "markdown",
   "metadata": {
    "colab_type": "text",
    "id": "ez372ca__b_d"
   },
   "source": [
    "### Detrend the data"
   ]
  },
  {
   "cell_type": "code",
   "execution_count": 8,
   "metadata": {
    "colab": {},
    "colab_type": "code",
    "id": "TPpzob_3_b_i"
   },
   "outputs": [],
   "source": [
    "# median_demand = df['demand'].median()\n",
    "# mean_demand = df['demand'].mean()\n",
    "# \n",
    "# print(\"Median demand:\", median_demand)\n",
    "# print(\"Mean demand:\", mean_demand)"
   ]
  },
  {
   "cell_type": "markdown",
   "metadata": {
    "colab_type": "text",
    "id": "idC-ztMl_b_q"
   },
   "source": [
    "#### Detrend by mean demand"
   ]
  },
  {
   "cell_type": "code",
   "execution_count": 9,
   "metadata": {
    "colab": {},
    "colab_type": "code",
    "id": "YHgJOS7c_b_r"
   },
   "outputs": [],
   "source": [
    "# df['demand_detrended'] = df.apply(lambda x : x.demand - df_locmedian[x.geohash6], axis=1)\n",
    "# df.head()"
   ]
  },
  {
   "cell_type": "markdown",
   "metadata": {
    "colab_type": "text",
    "id": "gJkKzB_E_b_v"
   },
   "source": [
    "### Train-test split"
   ]
  },
  {
   "cell_type": "code",
   "execution_count": 10,
   "metadata": {
    "colab": {
     "base_uri": "https://localhost:8080/",
     "height": 34
    },
    "colab_type": "code",
    "executionInfo": {
     "elapsed": 4295,
     "status": "ok",
     "timestamp": 1559367045030,
     "user": {
      "displayName": "Franz Louis Cesista",
      "photoUrl": "https://lh3.googleusercontent.com/-NquKeLt1770/AAAAAAAAAAI/AAAAAAAAAMo/RHnx0T1cGIk/s64/photo.jpg",
      "userId": "08273419339046628946"
     },
     "user_tz": -480
    },
    "id": "YvmHnirQda5p",
    "outputId": "70ef7c26-5ae9-432e-de78-f684e1057a3a"
   },
   "outputs": [
    {
     "data": {
      "text/plain": [
       "7782624"
      ]
     },
     "execution_count": 10,
     "metadata": {},
     "output_type": "execute_result"
    }
   ],
   "source": [
    "# df = df[df['in_raw']]\n",
    "len(df)"
   ]
  },
  {
   "cell_type": "code",
   "execution_count": 11,
   "metadata": {
    "colab": {},
    "colab_type": "code",
    "id": "WLJ_r1-C_b_x"
   },
   "outputs": [],
   "source": [
    "X_data = df[['latitude', 'longitude',\n",
    "             'day', 'hour', 'minutes',\n",
    "             'weekday_sin', 'weekday_cos',\n",
    "             'hour_sin', 'hour_cos',\n",
    "             'minutes_sin', 'minutes_cos']]\n",
    "# y_data = df['demand_detrended']\n",
    "y_data = df['demand']"
   ]
  },
  {
   "cell_type": "code",
   "execution_count": 12,
   "metadata": {
    "colab": {
     "base_uri": "https://localhost:8080/",
     "height": 204
    },
    "colab_type": "code",
    "executionInfo": {
     "elapsed": 3267,
     "status": "ok",
     "timestamp": 1559367045034,
     "user": {
      "displayName": "Franz Louis Cesista",
      "photoUrl": "https://lh3.googleusercontent.com/-NquKeLt1770/AAAAAAAAAAI/AAAAAAAAAMo/RHnx0T1cGIk/s64/photo.jpg",
      "userId": "08273419339046628946"
     },
     "user_tz": -480
    },
    "id": "-IFjIDuV_b_0",
    "outputId": "1f19513b-5337-4dc3-9229-85ab45130086"
   },
   "outputs": [
    {
     "data": {
      "text/html": [
       "<div>\n",
       "<style scoped>\n",
       "    .dataframe tbody tr th:only-of-type {\n",
       "        vertical-align: middle;\n",
       "    }\n",
       "\n",
       "    .dataframe tbody tr th {\n",
       "        vertical-align: top;\n",
       "    }\n",
       "\n",
       "    .dataframe thead th {\n",
       "        text-align: right;\n",
       "    }\n",
       "</style>\n",
       "<table border=\"1\" class=\"dataframe\">\n",
       "  <thead>\n",
       "    <tr style=\"text-align: right;\">\n",
       "      <th></th>\n",
       "      <th>latitude</th>\n",
       "      <th>longitude</th>\n",
       "      <th>day</th>\n",
       "      <th>hour</th>\n",
       "      <th>minutes</th>\n",
       "      <th>weekday_sin</th>\n",
       "      <th>weekday_cos</th>\n",
       "      <th>hour_sin</th>\n",
       "      <th>hour_cos</th>\n",
       "      <th>minutes_sin</th>\n",
       "      <th>minutes_cos</th>\n",
       "    </tr>\n",
       "  </thead>\n",
       "  <tbody>\n",
       "    <tr>\n",
       "      <th>7782619</th>\n",
       "      <td>-5.237732</td>\n",
       "      <td>90.928345</td>\n",
       "      <td>61</td>\n",
       "      <td>23</td>\n",
       "      <td>45</td>\n",
       "      <td>-0.974928</td>\n",
       "      <td>-0.222521</td>\n",
       "      <td>-0.258819</td>\n",
       "      <td>0.965926</td>\n",
       "      <td>-1.0</td>\n",
       "      <td>-1.836970e-16</td>\n",
       "    </tr>\n",
       "    <tr>\n",
       "      <th>7782620</th>\n",
       "      <td>-5.237732</td>\n",
       "      <td>90.939331</td>\n",
       "      <td>61</td>\n",
       "      <td>23</td>\n",
       "      <td>45</td>\n",
       "      <td>-0.974928</td>\n",
       "      <td>-0.222521</td>\n",
       "      <td>-0.258819</td>\n",
       "      <td>0.965926</td>\n",
       "      <td>-1.0</td>\n",
       "      <td>-1.836970e-16</td>\n",
       "    </tr>\n",
       "    <tr>\n",
       "      <th>7782621</th>\n",
       "      <td>-5.237732</td>\n",
       "      <td>90.950317</td>\n",
       "      <td>61</td>\n",
       "      <td>23</td>\n",
       "      <td>45</td>\n",
       "      <td>-0.974928</td>\n",
       "      <td>-0.222521</td>\n",
       "      <td>-0.258819</td>\n",
       "      <td>0.965926</td>\n",
       "      <td>-1.0</td>\n",
       "      <td>-1.836970e-16</td>\n",
       "    </tr>\n",
       "    <tr>\n",
       "      <th>7782622</th>\n",
       "      <td>-5.237732</td>\n",
       "      <td>90.961304</td>\n",
       "      <td>61</td>\n",
       "      <td>23</td>\n",
       "      <td>45</td>\n",
       "      <td>-0.974928</td>\n",
       "      <td>-0.222521</td>\n",
       "      <td>-0.258819</td>\n",
       "      <td>0.965926</td>\n",
       "      <td>-1.0</td>\n",
       "      <td>-1.836970e-16</td>\n",
       "    </tr>\n",
       "    <tr>\n",
       "      <th>7782623</th>\n",
       "      <td>-5.237732</td>\n",
       "      <td>90.972290</td>\n",
       "      <td>61</td>\n",
       "      <td>23</td>\n",
       "      <td>45</td>\n",
       "      <td>-0.974928</td>\n",
       "      <td>-0.222521</td>\n",
       "      <td>-0.258819</td>\n",
       "      <td>0.965926</td>\n",
       "      <td>-1.0</td>\n",
       "      <td>-1.836970e-16</td>\n",
       "    </tr>\n",
       "  </tbody>\n",
       "</table>\n",
       "</div>"
      ],
      "text/plain": [
       "         latitude  longitude  day  hour  minutes  weekday_sin  weekday_cos  \\\n",
       "7782619 -5.237732  90.928345   61    23       45    -0.974928    -0.222521   \n",
       "7782620 -5.237732  90.939331   61    23       45    -0.974928    -0.222521   \n",
       "7782621 -5.237732  90.950317   61    23       45    -0.974928    -0.222521   \n",
       "7782622 -5.237732  90.961304   61    23       45    -0.974928    -0.222521   \n",
       "7782623 -5.237732  90.972290   61    23       45    -0.974928    -0.222521   \n",
       "\n",
       "         hour_sin  hour_cos  minutes_sin   minutes_cos  \n",
       "7782619 -0.258819  0.965926         -1.0 -1.836970e-16  \n",
       "7782620 -0.258819  0.965926         -1.0 -1.836970e-16  \n",
       "7782621 -0.258819  0.965926         -1.0 -1.836970e-16  \n",
       "7782622 -0.258819  0.965926         -1.0 -1.836970e-16  \n",
       "7782623 -0.258819  0.965926         -1.0 -1.836970e-16  "
      ]
     },
     "execution_count": 12,
     "metadata": {},
     "output_type": "execute_result"
    }
   ],
   "source": [
    "X_data.tail()"
   ]
  },
  {
   "cell_type": "code",
   "execution_count": 13,
   "metadata": {
    "colab": {
     "base_uri": "https://localhost:8080/",
     "height": 119
    },
    "colab_type": "code",
    "executionInfo": {
     "elapsed": 3484,
     "status": "ok",
     "timestamp": 1559367045600,
     "user": {
      "displayName": "Franz Louis Cesista",
      "photoUrl": "https://lh3.googleusercontent.com/-NquKeLt1770/AAAAAAAAAAI/AAAAAAAAAMo/RHnx0T1cGIk/s64/photo.jpg",
      "userId": "08273419339046628946"
     },
     "user_tz": -480
    },
    "id": "_m3XQDIe_b_6",
    "outputId": "392afc3a-3431-408f-e993-7248fd579c98"
   },
   "outputs": [
    {
     "data": {
      "text/plain": [
       "7782619    0.0\n",
       "7782620    0.0\n",
       "7782621    0.0\n",
       "7782622    0.0\n",
       "7782623    0.0\n",
       "Name: demand, dtype: float64"
      ]
     },
     "execution_count": 13,
     "metadata": {},
     "output_type": "execute_result"
    }
   ],
   "source": [
    "y_data.tail()"
   ]
  },
  {
   "cell_type": "code",
   "execution_count": 28,
   "metadata": {
    "colab": {},
    "colab_type": "code",
    "id": "rQiTOifzeiFV"
   },
   "outputs": [],
   "source": [
    "test_index = (X_data['day'] == 61) & ((X_data['hour'] == 23) | ((X_data['hour'] == 22) & (X_data['minutes'] == 45)))\n",
    "train_index = (~test_index) & (X_data['day'] >= 61-14)"
   ]
  },
  {
   "cell_type": "code",
   "execution_count": 29,
   "metadata": {
    "colab": {},
    "colab_type": "code",
    "id": "Z_r9GOAk_b_-"
   },
   "outputs": [],
   "source": [
    "X_train, X_test = X_data[train_index], X_data[test_index]\n",
    "y_train, y_test = y_data[train_index], y_data[test_index]"
   ]
  },
  {
   "cell_type": "code",
   "execution_count": 30,
   "metadata": {
    "colab": {},
    "colab_type": "code",
    "id": "HWlLxh2reiFf"
   },
   "outputs": [],
   "source": [
    "X_train = X_train.drop(['hour', 'minutes'], axis=1)\n",
    "X_test  = X_test.drop(['hour', 'minutes'], axis=1)"
   ]
  },
  {
   "cell_type": "markdown",
   "metadata": {
    "colab_type": "text",
    "id": "3ASENZv5_cAB"
   },
   "source": [
    "## Polynomial Regression"
   ]
  },
  {
   "cell_type": "code",
   "execution_count": 17,
   "metadata": {
    "colab": {},
    "colab_type": "code",
    "id": "RetKvAzr_cAD"
   },
   "outputs": [],
   "source": [
    "class ColumnExtractor(object):\n",
    "    def __init__(self, columns=None):\n",
    "        self.columns = columns\n",
    "\n",
    "    def fit(self, X, y=None):\n",
    "        return self\n",
    "\n",
    "    def transform(self, X):\n",
    "        X_cols = X[self.columns]\n",
    "        return X_cols"
   ]
  },
  {
   "cell_type": "markdown",
   "metadata": {
    "colab_type": "text",
    "id": "DySzkUjfeiFs"
   },
   "source": [
    "### Train polynomial regressors"
   ]
  },
  {
   "cell_type": "markdown",
   "metadata": {
    "colab_type": "text",
    "id": "m2hWJw4idhRt"
   },
   "source": [
    "Loss with full data:\n",
    "- degree 1 polynomial regression loss: 0.048594363494371254\n",
    "- degree 2 polynomial regression loss: 0.04912314854368942\n",
    "- degree 3 polynomial regression loss: 0.0495815584173599\n",
    "\n",
    "Loss with partial data:\n",
    "- degree 1 polynomial regression loss: 0.0665519070143781\n",
    "- degree 2 polynomial regression loss: 0.06692959565100215\n",
    "- degree 3 polynomial regression loss: 0.06690783480405857"
   ]
  },
  {
   "cell_type": "code",
   "execution_count": 18,
   "metadata": {
    "colab": {
     "base_uri": "https://localhost:8080/",
     "height": 68
    },
    "colab_type": "code",
    "executionInfo": {
     "elapsed": 6047,
     "status": "ok",
     "timestamp": 1559367667019,
     "user": {
      "displayName": "Franz Louis Cesista",
      "photoUrl": "https://lh3.googleusercontent.com/-NquKeLt1770/AAAAAAAAAAI/AAAAAAAAAMo/RHnx0T1cGIk/s64/photo.jpg",
      "userId": "08273419339046628946"
     },
     "user_tz": -480
    },
    "id": "UgKwPT7__cAG",
    "outputId": "573320b4-5e7f-4a12-a961-871cb0ef15cb"
   },
   "outputs": [
    {
     "name": "stdout",
     "output_type": "stream",
     "text": [
      "degree 1 polynomial regression loss: 0.048594363494371254\n",
      "degree 2 polynomial regression loss: 0.04912314854368942\n",
      "degree 3 polynomial regression loss: 0.0495815584173599\n"
     ]
    }
   ],
   "source": [
    "poly_regressors = [None]\n",
    "for deg in range(1, 3+1):\n",
    "  poly_reg = Pipeline([\n",
    "    ('features', FeatureUnion([\n",
    "        ('spatial', Pipeline([\n",
    "            ('extract', ColumnExtractor(columns=['latitude', 'longitude'])),\n",
    "            ('poly', PolynomialFeatures(degree=deg))\n",
    "        ])),\n",
    "        ('temporal', ColumnExtractor(columns=['day',\n",
    "                                             'weekday_sin', 'weekday_cos',\n",
    "                                             'hour_sin', 'hour_cos',\n",
    "                                             'minutes_sin', 'minutes_cos']))\n",
    "    ])),\n",
    "    ('std_scaler', StandardScaler()),\n",
    "    ('lr', Ridge())\n",
    "  ])\n",
    "  poly_reg = poly_reg.fit(X_train, y_train)\n",
    "  poly_regressors.append(poly_reg)\n",
    "  \n",
    "  y_pred = poly_reg.predict(X_test)\n",
    "  print(\"degree\", deg, \"polynomial regression loss:\", math.sqrt(mean_squared_error(y_test, y_pred)))"
   ]
  },
  {
   "cell_type": "markdown",
   "metadata": {},
   "source": [
    "### Save the model"
   ]
  },
  {
   "cell_type": "code",
   "execution_count": 32,
   "metadata": {},
   "outputs": [],
   "source": [
    "with open('models/geotemporal/poly_regressors.pkl', 'wb') as fid:\n",
    "    cPickle.dump(poly_regressors, fid)"
   ]
  },
  {
   "cell_type": "markdown",
   "metadata": {
    "colab_type": "text",
    "id": "RW0P48BdeiFx"
   },
   "source": [
    "### Features of 1st degree polynomial"
   ]
  },
  {
   "cell_type": "code",
   "execution_count": 23,
   "metadata": {
    "colab": {},
    "colab_type": "code",
    "id": "jSf1kbLAeiFy",
    "outputId": "2d1efa48-6d76-4c33-b741-30fc4a83b4dc"
   },
   "outputs": [
    {
     "data": {
      "text/plain": [
       "['1',\n",
       " 'lat',\n",
       " 'long',\n",
       " 'day',\n",
       " 'weekday_sin',\n",
       " 'weekday_cos',\n",
       " 'hour_sin',\n",
       " 'hour_cos',\n",
       " 'minutes_sin',\n",
       " 'minutes_cos']"
      ]
     },
     "execution_count": 23,
     "metadata": {},
     "output_type": "execute_result"
    }
   ],
   "source": [
    "poly_features = poly_regressors[1]['features'].transformer_list[0][1]['poly'].get_feature_names(['lat', 'long'])\n",
    "poly_features += ['day', 'weekday_sin', 'weekday_cos', 'hour_sin', 'hour_cos', 'minutes_sin', 'minutes_cos']\n",
    "poly_features"
   ]
  },
  {
   "cell_type": "code",
   "execution_count": 24,
   "metadata": {
    "colab": {},
    "colab_type": "code",
    "id": "ASqnpBs0eiF3",
    "outputId": "7449f6b7-7992-4b3e-d905-ddaae4cf8b5f"
   },
   "outputs": [
    {
     "data": {
      "text/plain": [
       "<matplotlib.axes._subplots.AxesSubplot at 0x16c9fa121d0>"
      ]
     },
     "execution_count": 24,
     "metadata": {},
     "output_type": "execute_result"
    },
    {
     "data": {
      "image/png": "[encoded data removed]",
      "text/plain": [
       "<Figure size 288x576 with 1 Axes>"
      ]
     },
     "metadata": {},
     "output_type": "display_data"
    }
   ],
   "source": [
    "df_coefs = pd.DataFrame(np.expand_dims(poly_regressors[1]['lr'].coef_, axis=0),\n",
    "                        columns=poly_features).T\n",
    "df_coefs.sort_values(by=0).plot.barh(figsize=(4, 8))"
   ]
  },
  {
   "cell_type": "markdown",
   "metadata": {
    "colab_type": "text",
    "id": "qZrvavkWeiF7"
   },
   "source": [
    "### Features of 3rd degree polynomial"
   ]
  },
  {
   "cell_type": "code",
   "execution_count": 25,
   "metadata": {
    "colab": {
     "base_uri": "https://localhost:8080/",
     "height": 306
    },
    "colab_type": "code",
    "executionInfo": {
     "elapsed": 1358,
     "status": "ok",
     "timestamp": 1559367846475,
     "user": {
      "displayName": "Franz Louis Cesista",
      "photoUrl": "https://lh3.googleusercontent.com/-NquKeLt1770/AAAAAAAAAAI/AAAAAAAAAMo/RHnx0T1cGIk/s64/photo.jpg",
      "userId": "08273419339046628946"
     },
     "user_tz": -480
    },
    "id": "RCGvUc8d_cAL",
    "outputId": "fe7a0997-8388-4bf0-8587-1566294c845b"
   },
   "outputs": [
    {
     "data": {
      "text/plain": [
       "['1',\n",
       " 'lat',\n",
       " 'long',\n",
       " 'lat^2',\n",
       " 'lat long',\n",
       " 'long^2',\n",
       " 'lat^3',\n",
       " 'lat^2 long',\n",
       " 'lat long^2',\n",
       " 'long^3',\n",
       " 'day',\n",
       " 'weekday_sin',\n",
       " 'weekday_cos',\n",
       " 'hour_sin',\n",
       " 'hour_cos',\n",
       " 'minutes_sin',\n",
       " 'minutes_cos']"
      ]
     },
     "execution_count": 25,
     "metadata": {},
     "output_type": "execute_result"
    }
   ],
   "source": [
    "poly_features = poly_regressors[3]['features'].transformer_list[0][1]['poly'].get_feature_names(['lat', 'long'])\n",
    "poly_features += ['day', 'weekday_sin', 'weekday_cos', 'hour_sin', 'hour_cos', 'minutes_sin', 'minutes_cos']\n",
    "poly_features"
   ]
  },
  {
   "cell_type": "code",
   "execution_count": 26,
   "metadata": {
    "colab": {
     "base_uri": "https://localhost:8080/",
     "height": 508
    },
    "colab_type": "code",
    "executionInfo": {
     "elapsed": 1312,
     "status": "ok",
     "timestamp": 1559367847141,
     "user": {
      "displayName": "Franz Louis Cesista",
      "photoUrl": "https://lh3.googleusercontent.com/-NquKeLt1770/AAAAAAAAAAI/AAAAAAAAAMo/RHnx0T1cGIk/s64/photo.jpg",
      "userId": "08273419339046628946"
     },
     "user_tz": -480
    },
    "id": "tt3_VCkY_cAT",
    "outputId": "23151af4-fe64-4d90-dd4e-2a24b308d666"
   },
   "outputs": [
    {
     "data": {
      "text/plain": [
       "<matplotlib.axes._subplots.AxesSubplot at 0x16c9fa0b550>"
      ]
     },
     "execution_count": 26,
     "metadata": {},
     "output_type": "execute_result"
    },
    {
     "data": {
      "image/png": "[encoded data removed]",
      "text/plain": [
       "<Figure size 288x576 with 1 Axes>"
      ]
     },
     "metadata": {},
     "output_type": "display_data"
    }
   ],
   "source": [
    "df_coefs = pd.DataFrame(np.expand_dims(poly_regressors[3]['lr'].coef_, axis=0),\n",
    "                        columns=poly_features).T\n",
    "df_coefs.sort_values(by=0).plot.barh(figsize=(4, 8))"
   ]
  },
  {
   "cell_type": "markdown",
   "metadata": {
    "colab_type": "text",
    "id": "gxrFkfv0_cAX"
   },
   "source": [
    "## Random Forest"
   ]
  },
  {
   "cell_type": "markdown",
   "metadata": {
    "colab_type": "text",
    "id": "umNSn9r-eKOb"
   },
   "source": [
    "Loss with full data: 0.09902381906309178\n",
    "\n",
    "Loss with partial data: 0.09902381906309177\n",
    "\n",
    "Loss with parital data and dropped 'day' column: 0.09902381906309199"
   ]
  },
  {
   "cell_type": "code",
   "execution_count": 31,
   "metadata": {
    "colab": {},
    "colab_type": "code",
    "id": "tbVExEMQf2Dg"
   },
   "outputs": [],
   "source": [
    "X_train = X_train.drop('day', axis=1)\n",
    "X_test  = X_test.drop('day', axis=1)"
   ]
  },
  {
   "cell_type": "markdown",
   "metadata": {},
   "source": [
    "### Train random forest model"
   ]
  },
  {
   "cell_type": "code",
   "execution_count": 34,
   "metadata": {
    "colab": {
     "base_uri": "https://localhost:8080/",
     "height": 187
    },
    "colab_type": "code",
    "executionInfo": {
     "elapsed": 21096,
     "status": "ok",
     "timestamp": 1559366751592,
     "user": {
      "displayName": "Franz Louis Cesista",
      "photoUrl": "https://lh3.googleusercontent.com/-NquKeLt1770/AAAAAAAAAAI/AAAAAAAAAMo/RHnx0T1cGIk/s64/photo.jpg",
      "userId": "08273419339046628946"
     },
     "user_tz": -480
    },
    "id": "lArZ2RrU_cAY",
    "outputId": "0e5212c9-7cdc-4050-ed9e-f8ccc2e41812"
   },
   "outputs": [
    {
     "name": "stderr",
     "output_type": "stream",
     "text": [
      "[Parallel(n_jobs=-1)]: Using backend ThreadingBackend with 4 concurrent workers.\n",
      "[Parallel(n_jobs=-1)]: Done  42 tasks      | elapsed:   31.3s\n",
      "[Parallel(n_jobs=-1)]: Done  50 out of  50 | elapsed:   36.1s finished\n"
     ]
    },
    {
     "data": {
      "text/plain": [
       "RandomForestRegressor(bootstrap=True, criterion='mse', max_depth=3,\n",
       "                      max_features='auto', max_leaf_nodes=None,\n",
       "                      min_impurity_decrease=0.0, min_impurity_split=None,\n",
       "                      min_samples_leaf=1, min_samples_split=2,\n",
       "                      min_weight_fraction_leaf=0.0, n_estimators=50, n_jobs=-1,\n",
       "                      oob_score=False, random_state=0, verbose=1,\n",
       "                      warm_start=True)"
      ]
     },
     "execution_count": 34,
     "metadata": {},
     "output_type": "execute_result"
    }
   ],
   "source": [
    "rfc = RandomForestRegressor(n_estimators=50, max_depth=3, n_jobs=-1,\n",
    "                            random_state=0, warm_start=True, verbose=1)\n",
    "rfc.fit(X_train, y_train)"
   ]
  },
  {
   "cell_type": "code",
   "execution_count": 35,
   "metadata": {
    "colab": {
     "base_uri": "https://localhost:8080/",
     "height": 85
    },
    "colab_type": "code",
    "executionInfo": {
     "elapsed": 19916,
     "status": "ok",
     "timestamp": 1559366752601,
     "user": {
      "displayName": "Franz Louis Cesista",
      "photoUrl": "https://lh3.googleusercontent.com/-NquKeLt1770/AAAAAAAAAAI/AAAAAAAAAMo/RHnx0T1cGIk/s64/photo.jpg",
      "userId": "08273419339046628946"
     },
     "user_tz": -480
    },
    "id": "LTBpOWa-_cAo",
    "outputId": "5fccfb32-5f38-4594-9c55-dc5790192433"
   },
   "outputs": [
    {
     "name": "stderr",
     "output_type": "stream",
     "text": [
      "[Parallel(n_jobs=4)]: Using backend ThreadingBackend with 4 concurrent workers.\n",
      "[Parallel(n_jobs=4)]: Done  42 tasks      | elapsed:    0.0s\n",
      "[Parallel(n_jobs=4)]: Done  50 out of  50 | elapsed:    0.0s finished\n"
     ]
    },
    {
     "name": "stdout",
     "output_type": "stream",
     "text": [
      "Random Forest loss: 0.07614693023190335\n"
     ]
    }
   ],
   "source": [
    "y_pred = rfc.predict(X_test)\n",
    "print(\"Random Forest loss:\", math.sqrt(mean_squared_error(y_test, y_pred)))"
   ]
  },
  {
   "cell_type": "markdown",
   "metadata": {},
   "source": [
    "### Save the model"
   ]
  },
  {
   "cell_type": "code",
   "execution_count": 36,
   "metadata": {},
   "outputs": [],
   "source": [
    "with open('models/geotemporal/random_forest.pkl', 'wb') as fid:\n",
    "    cPickle.dump(rfc, fid)"
   ]
  },
  {
   "cell_type": "markdown",
   "metadata": {},
   "source": [
    "### Inspect the first tree"
   ]
  },
  {
   "cell_type": "code",
   "execution_count": 37,
   "metadata": {
    "colab": {
     "base_uri": "https://localhost:8080/",
     "height": 492
    },
    "colab_type": "code",
    "executionInfo": {
     "elapsed": 21456,
     "status": "ok",
     "timestamp": 1559366752595,
     "user": {
      "displayName": "Franz Louis Cesista",
      "photoUrl": "https://lh3.googleusercontent.com/-NquKeLt1770/AAAAAAAAAAI/AAAAAAAAAMo/RHnx0T1cGIk/s64/photo.jpg",
      "userId": "08273419339046628946"
     },
     "user_tz": -480
    },
    "id": "ULpyupZ2_cAg",
    "outputId": "ed71a158-8360-485c-b84a-e2093fc4b36d"
   },
   "outputs": [
    {
     "data": {
      "image/png": "[encoded data removed]",
      "text/plain": [
       "<IPython.core.display.Image object>"
      ]
     },
     "execution_count": 37,
     "metadata": {},
     "output_type": "execute_result"
    }
   ],
   "source": [
    "dot_data = StringIO()\n",
    "export_graphviz(rfc.estimators_[0], out_file=dot_data,  \n",
    "                filled=True, rounded=True,\n",
    "                special_characters=True, \n",
    "                feature_names=X_train.columns,\n",
    "                max_depth=2)\n",
    "graph = pydotplus.graph_from_dot_data(dot_data.getvalue())  \n",
    "Image(graph.create_png())"
   ]
  },
  {
   "cell_type": "markdown",
   "metadata": {
    "colab_type": "text",
    "id": "ULxFNg7r_cAu"
   },
   "source": [
    "## XGBoost"
   ]
  },
  {
   "cell_type": "markdown",
   "metadata": {
    "colab_type": "text",
    "id": "1tj2LiCSfVcK"
   },
   "source": [
    "Loss with partial data: 0.07101681478370973\n",
    "\n",
    "Loss with full data: 0.07101681478370973\n",
    "\n",
    "Loss with partial data and dropped 'day' column: 0.06948751120370361"
   ]
  },
  {
   "cell_type": "code",
   "execution_count": 38,
   "metadata": {
    "colab": {
     "base_uri": "https://localhost:8080/",
     "height": 221
    },
    "colab_type": "code",
    "executionInfo": {
     "elapsed": 29885,
     "status": "ok",
     "timestamp": 1559366835783,
     "user": {
      "displayName": "Franz Louis Cesista",
      "photoUrl": "https://lh3.googleusercontent.com/-NquKeLt1770/AAAAAAAAAAI/AAAAAAAAAMo/RHnx0T1cGIk/s64/photo.jpg",
      "userId": "08273419339046628946"
     },
     "user_tz": -480
    },
    "id": "TriHXxwr_cAv",
    "outputId": "b578752d-cf35-4690-dd7c-3159aefde59a"
   },
   "outputs": [
    {
     "name": "stderr",
     "output_type": "stream",
     "text": [
      "C:\\Users\\admin\\.conda\\envs\\py36\\lib\\site-packages\\xgboost\\core.py:587: FutureWarning: Series.base is deprecated and will be removed in a future version\n",
      "  if getattr(data, 'base', None) is not None and \\\n"
     ]
    },
    {
     "name": "stdout",
     "output_type": "stream",
     "text": [
      "[01:09:53] WARNING: C:/Jenkins/workspace/xgboost-win64_release_0.90/src/objective/regression_obj.cu:152: reg:linear is now deprecated in favor of reg:squarederror.\n"
     ]
    },
    {
     "data": {
      "text/plain": [
       "XGBRegressor(base_score=0.5, booster='gbtree', colsample_bylevel=1,\n",
       "             colsample_bynode=1, colsample_bytree=1, eval_metric='rmse',\n",
       "             gamma=0, importance_type='gain', learning_rate=0.1,\n",
       "             max_delta_step=0, max_depth=3, min_child_weight=1, missing=None,\n",
       "             n_estimators=100, n_jobs=-1, nthread=None, objective='reg:linear',\n",
       "             random_state=0, reg_alpha=0, reg_lambda=1, scale_pos_weight=1,\n",
       "             seed=None, silent=None, subsample=1, verbosity=1)"
      ]
     },
     "execution_count": 38,
     "metadata": {},
     "output_type": "execute_result"
    }
   ],
   "source": [
    "xgb = XGBRegressor(random_state=0, n_jobs=-1, eval_metric='rmse')\n",
    "xgb.fit(X_train, y_train)"
   ]
  },
  {
   "cell_type": "code",
   "execution_count": 39,
   "metadata": {
    "colab": {
     "base_uri": "https://localhost:8080/",
     "height": 34
    },
    "colab_type": "code",
    "executionInfo": {
     "elapsed": 29412,
     "status": "ok",
     "timestamp": 1559366835785,
     "user": {
      "displayName": "Franz Louis Cesista",
      "photoUrl": "https://lh3.googleusercontent.com/-NquKeLt1770/AAAAAAAAAAI/AAAAAAAAAMo/RHnx0T1cGIk/s64/photo.jpg",
      "userId": "08273419339046628946"
     },
     "user_tz": -480
    },
    "id": "10P3nWx-_cA5",
    "outputId": "d21be5d4-7b82-41e2-af15-63a7329b1691"
   },
   "outputs": [
    {
     "name": "stdout",
     "output_type": "stream",
     "text": [
      "XGBoost loss: 0.04855022108270493\n"
     ]
    }
   ],
   "source": [
    "y_pred = xgb.predict(X_test)\n",
    "print(\"XGBoost loss:\", math.sqrt(mean_squared_error(y_test, y_pred)))"
   ]
  },
  {
   "cell_type": "markdown",
   "metadata": {},
   "source": [
    "### Save the model"
   ]
  },
  {
   "cell_type": "code",
   "execution_count": 41,
   "metadata": {},
   "outputs": [],
   "source": [
    "with open('models/geotemporal/xgboost.pkl', 'wb') as fid:\n",
    "    cPickle.dump(xgb, fid)"
   ]
  },
  {
   "cell_type": "markdown",
   "metadata": {
    "colab_type": "text",
    "id": "nKNNGOwQepSF"
   },
   "source": [
    "## Plain Neural Network"
   ]
  },
  {
   "cell_type": "code",
   "execution_count": null,
   "metadata": {
    "colab": {},
    "colab_type": "code",
    "id": "zJABwdsweiG3"
   },
   "outputs": [],
   "source": [
    "X_train_means = X_train.mean()\n",
    "X_train_maxs  = X_train.max()\n",
    "X_train_mins  = X_train.min()"
   ]
  },
  {
   "cell_type": "code",
   "execution_count": null,
   "metadata": {
    "colab": {},
    "colab_type": "code",
    "id": "LpViEUMTeiG6"
   },
   "outputs": [],
   "source": [
    "X_train_normed = (X_train - X_train_means) / (X_train_maxs - X_train_mins)\n",
    "X_test_normed = (X_test - X_train_means) / (X_train_maxs - X_train_mins)"
   ]
  },
  {
   "cell_type": "code",
   "execution_count": null,
   "metadata": {
    "colab": {},
    "colab_type": "code",
    "id": "uJbVmqV5eiG8"
   },
   "outputs": [],
   "source": [
    "def build_model():\n",
    "    model = tfk.Sequential([\n",
    "        tfk.layers.Input((9,)),\n",
    "        tfk.layers.Dense(32, activation='relu'),\n",
    "        tfk.layers.Dense(16, activation='relu'),\n",
    "        tfk.layers.Dense(8, activation='relu'),\n",
    "        tfk.layers.Dense(1)\n",
    "    ], name='nn_spatiotemporal')\n",
    "\n",
    "    model.compile(loss='mean_squared_error',\n",
    "                  optimizer='adam',\n",
    "                  metrics=['mean_absolute_error'])\n",
    "\n",
    "    return model"
   ]
  },
  {
   "cell_type": "code",
   "execution_count": null,
   "metadata": {
    "colab": {},
    "colab_type": "code",
    "id": "JRqplcP3eiG_"
   },
   "outputs": [],
   "source": [
    "model = build_model()"
   ]
  },
  {
   "cell_type": "code",
   "execution_count": 30,
   "metadata": {
    "colab": {
     "base_uri": "https://localhost:8080/",
     "height": 289
    },
    "colab_type": "code",
    "executionInfo": {
     "elapsed": 540,
     "status": "ok",
     "timestamp": 1559333155072,
     "user": {
      "displayName": "Franz Louis Cesista",
      "photoUrl": "https://lh3.googleusercontent.com/-NquKeLt1770/AAAAAAAAAAI/AAAAAAAAAMo/RHnx0T1cGIk/s64/photo.jpg",
      "userId": "08273419339046628946"
     },
     "user_tz": -480
    },
    "id": "_2FeH9NzeiHC",
    "outputId": "81469180-4750-4765-e14f-57c55b80a57c"
   },
   "outputs": [
    {
     "name": "stdout",
     "output_type": "stream",
     "text": [
      "Model: \"nn_spatiotemporal\"\n",
      "_________________________________________________________________\n",
      "Layer (type)                 Output Shape              Param #   \n",
      "=================================================================\n",
      "dense (Dense)                (None, 32)                320       \n",
      "_________________________________________________________________\n",
      "dense_1 (Dense)              (None, 16)                528       \n",
      "_________________________________________________________________\n",
      "dense_2 (Dense)              (None, 8)                 136       \n",
      "_________________________________________________________________\n",
      "dense_3 (Dense)              (None, 1)                 9         \n",
      "=================================================================\n",
      "Total params: 993\n",
      "Trainable params: 993\n",
      "Non-trainable params: 0\n",
      "_________________________________________________________________\n"
     ]
    }
   ],
   "source": [
    "model.summary()"
   ]
  },
  {
   "cell_type": "code",
   "execution_count": 36,
   "metadata": {
    "colab": {
     "base_uri": "https://localhost:8080/",
     "height": 887
    },
    "colab_type": "code",
    "executionInfo": {
     "elapsed": 876014,
     "status": "error",
     "timestamp": 1559334869135,
     "user": {
      "displayName": "Franz Louis Cesista",
      "photoUrl": "https://lh3.googleusercontent.com/-NquKeLt1770/AAAAAAAAAAI/AAAAAAAAAMo/RHnx0T1cGIk/s64/photo.jpg",
      "userId": "08273419339046628946"
     },
     "user_tz": -480
    },
    "id": "_I-GAAREeiHK",
    "outputId": "e018255d-591f-42b3-ebab-3801f40fb97a"
   },
   "outputs": [
    {
     "name": "stdout",
     "output_type": "stream",
     "text": [
      "Train on 1525692 samples, validate on 381423 samples\n",
      "Epoch 1/1000\n",
      "1525692/1525692 [==============================] - 62s 41us/sample - loss: 0.0054 - mean_absolute_error: 0.0424 - val_loss: 0.0064 - val_mean_absolute_error: 0.0464\n",
      "Epoch 2/1000\n",
      "1525692/1525692 [==============================] - 64s 42us/sample - loss: 0.0053 - mean_absolute_error: 0.0422 - val_loss: 0.0060 - val_mean_absolute_error: 0.0441\n",
      "Epoch 3/1000\n",
      "1525692/1525692 [==============================] - 62s 40us/sample - loss: 0.0053 - mean_absolute_error: 0.0422 - val_loss: 0.0058 - val_mean_absolute_error: 0.0447\n",
      "Epoch 4/1000\n",
      "1525692/1525692 [==============================] - 61s 40us/sample - loss: 0.0053 - mean_absolute_error: 0.0422 - val_loss: 0.0061 - val_mean_absolute_error: 0.0448\n",
      "Epoch 5/1000\n",
      "1525692/1525692 [==============================] - 61s 40us/sample - loss: 0.0052 - mean_absolute_error: 0.0420 - val_loss: 0.0059 - val_mean_absolute_error: 0.0437\n",
      "Epoch 6/1000\n",
      "1525692/1525692 [==============================] - 61s 40us/sample - loss: 0.0052 - mean_absolute_error: 0.0418 - val_loss: 0.0059 - val_mean_absolute_error: 0.0436\n",
      "Epoch 7/1000\n",
      "1525692/1525692 [==============================] - 61s 40us/sample - loss: 0.0052 - mean_absolute_error: 0.0417 - val_loss: 0.0058 - val_mean_absolute_error: 0.0444\n",
      "Epoch 8/1000\n",
      "1525692/1525692 [==============================] - 61s 40us/sample - loss: 0.0051 - mean_absolute_error: 0.0416 - val_loss: 0.0061 - val_mean_absolute_error: 0.0454\n",
      "Epoch 9/1000\n",
      "1525692/1525692 [==============================] - 60s 39us/sample - loss: 0.0051 - mean_absolute_error: 0.0415 - val_loss: 0.0063 - val_mean_absolute_error: 0.0450\n",
      "Epoch 10/1000\n",
      "1525692/1525692 [==============================] - 61s 40us/sample - loss: 0.0051 - mean_absolute_error: 0.0414 - val_loss: 0.0057 - val_mean_absolute_error: 0.0446\n",
      "Epoch 11/1000\n",
      "1525692/1525692 [==============================] - 61s 40us/sample - loss: 0.0051 - mean_absolute_error: 0.0414 - val_loss: 0.0060 - val_mean_absolute_error: 0.0432\n",
      "Epoch 12/1000\n",
      "1525692/1525692 [==============================] - 58s 38us/sample - loss: 0.0051 - mean_absolute_error: 0.0413 - val_loss: 0.0059 - val_mean_absolute_error: 0.0471\n",
      "Epoch 13/1000\n",
      "1525692/1525692 [==============================] - 59s 39us/sample - loss: 0.0050 - mean_absolute_error: 0.0412 - val_loss: 0.0061 - val_mean_absolute_error: 0.0450\n",
      "Epoch 14/1000\n",
      "1525692/1525692 [==============================] - 58s 38us/sample - loss: 0.0050 - mean_absolute_error: 0.0410 - val_loss: 0.0057 - val_mean_absolute_error: 0.0466\n",
      "Epoch 15/1000\n",
      " 814464/1525692 [===============>..............] - ETA: 22s - loss: 0.0049 - mean_absolute_error: 0.0409"
     ]
    },
    {
     "ename": "KeyboardInterrupt",
     "evalue": "ignored",
     "output_type": "error",
     "traceback": [
      "\u001b[0;31m---------------------------------------------------------------------------\u001b[0m",
      "\u001b[0;31mKeyboardInterrupt\u001b[0m                         Traceback (most recent call last)",
      "\u001b[0;32m<ipython-input-36-6c007d287178>\u001b[0m in \u001b[0;36m<module>\u001b[0;34m()\u001b[0m\n\u001b[1;32m     10\u001b[0m   \u001b[0mX_train_normed\u001b[0m\u001b[0;34m,\u001b[0m \u001b[0my_train\u001b[0m\u001b[0;34m,\u001b[0m\u001b[0;34m\u001b[0m\u001b[0;34m\u001b[0m\u001b[0m\n\u001b[1;32m     11\u001b[0m   \u001b[0mepochs\u001b[0m\u001b[0;34m=\u001b[0m\u001b[0;36m1000\u001b[0m\u001b[0;34m,\u001b[0m \u001b[0mvalidation_split\u001b[0m\u001b[0;34m=\u001b[0m\u001b[0;36m0.2\u001b[0m\u001b[0;34m,\u001b[0m \u001b[0mverbose\u001b[0m\u001b[0;34m=\u001b[0m\u001b[0;36m1\u001b[0m\u001b[0;34m,\u001b[0m\u001b[0;34m\u001b[0m\u001b[0;34m\u001b[0m\u001b[0m\n\u001b[0;32m---> 12\u001b[0;31m   callbacks=[early_stop])  # PrintDot()\n\u001b[0m",
      "\u001b[0;32m/usr/local/lib/python3.6/dist-packages/tensorflow/python/keras/engine/training.py\u001b[0m in \u001b[0;36mfit\u001b[0;34m(self, x, y, batch_size, epochs, verbose, callbacks, validation_split, validation_data, shuffle, class_weight, sample_weight, initial_epoch, steps_per_epoch, validation_steps, validation_freq, max_queue_size, workers, use_multiprocessing, **kwargs)\u001b[0m\n\u001b[1;32m    871\u001b[0m           \u001b[0mvalidation_steps\u001b[0m\u001b[0;34m=\u001b[0m\u001b[0mvalidation_steps\u001b[0m\u001b[0;34m,\u001b[0m\u001b[0;34m\u001b[0m\u001b[0;34m\u001b[0m\u001b[0m\n\u001b[1;32m    872\u001b[0m           \u001b[0mvalidation_freq\u001b[0m\u001b[0;34m=\u001b[0m\u001b[0mvalidation_freq\u001b[0m\u001b[0;34m,\u001b[0m\u001b[0;34m\u001b[0m\u001b[0;34m\u001b[0m\u001b[0m\n\u001b[0;32m--> 873\u001b[0;31m           steps_name='steps_per_epoch')\n\u001b[0m\u001b[1;32m    874\u001b[0m \u001b[0;34m\u001b[0m\u001b[0m\n\u001b[1;32m    875\u001b[0m   def evaluate(self,\n",
      "\u001b[0;32m/usr/local/lib/python3.6/dist-packages/tensorflow/python/keras/engine/training_arrays.py\u001b[0m in \u001b[0;36mmodel_iteration\u001b[0;34m(model, inputs, targets, sample_weights, batch_size, epochs, verbose, callbacks, val_inputs, val_targets, val_sample_weights, shuffle, initial_epoch, steps_per_epoch, validation_steps, validation_freq, mode, validation_in_fit, prepared_feed_values_from_dataset, steps_name, **kwargs)\u001b[0m\n\u001b[1;32m    350\u001b[0m \u001b[0;34m\u001b[0m\u001b[0m\n\u001b[1;32m    351\u001b[0m         \u001b[0;31m# Get outputs.\u001b[0m\u001b[0;34m\u001b[0m\u001b[0;34m\u001b[0m\u001b[0;34m\u001b[0m\u001b[0m\n\u001b[0;32m--> 352\u001b[0;31m         \u001b[0mbatch_outs\u001b[0m \u001b[0;34m=\u001b[0m \u001b[0mf\u001b[0m\u001b[0;34m(\u001b[0m\u001b[0mins_batch\u001b[0m\u001b[0;34m)\u001b[0m\u001b[0;34m\u001b[0m\u001b[0;34m\u001b[0m\u001b[0m\n\u001b[0m\u001b[1;32m    353\u001b[0m         \u001b[0;32mif\u001b[0m \u001b[0;32mnot\u001b[0m \u001b[0misinstance\u001b[0m\u001b[0;34m(\u001b[0m\u001b[0mbatch_outs\u001b[0m\u001b[0;34m,\u001b[0m \u001b[0mlist\u001b[0m\u001b[0;34m)\u001b[0m\u001b[0;34m:\u001b[0m\u001b[0;34m\u001b[0m\u001b[0;34m\u001b[0m\u001b[0m\n\u001b[1;32m    354\u001b[0m           \u001b[0mbatch_outs\u001b[0m \u001b[0;34m=\u001b[0m \u001b[0;34m[\u001b[0m\u001b[0mbatch_outs\u001b[0m\u001b[0;34m]\u001b[0m\u001b[0;34m\u001b[0m\u001b[0;34m\u001b[0m\u001b[0m\n",
      "\u001b[0;32m/usr/local/lib/python3.6/dist-packages/tensorflow/python/keras/backend.py\u001b[0m in \u001b[0;36m__call__\u001b[0;34m(self, inputs)\u001b[0m\n\u001b[1;32m   3215\u001b[0m         \u001b[0mvalue\u001b[0m \u001b[0;34m=\u001b[0m \u001b[0mmath_ops\u001b[0m\u001b[0;34m.\u001b[0m\u001b[0mcast\u001b[0m\u001b[0;34m(\u001b[0m\u001b[0mvalue\u001b[0m\u001b[0;34m,\u001b[0m \u001b[0mtensor\u001b[0m\u001b[0;34m.\u001b[0m\u001b[0mdtype\u001b[0m\u001b[0;34m)\u001b[0m\u001b[0;34m\u001b[0m\u001b[0;34m\u001b[0m\u001b[0m\n\u001b[1;32m   3216\u001b[0m       \u001b[0mconverted_inputs\u001b[0m\u001b[0;34m.\u001b[0m\u001b[0mappend\u001b[0m\u001b[0;34m(\u001b[0m\u001b[0mvalue\u001b[0m\u001b[0;34m)\u001b[0m\u001b[0;34m\u001b[0m\u001b[0;34m\u001b[0m\u001b[0m\n\u001b[0;32m-> 3217\u001b[0;31m     \u001b[0moutputs\u001b[0m \u001b[0;34m=\u001b[0m \u001b[0mself\u001b[0m\u001b[0;34m.\u001b[0m\u001b[0m_graph_fn\u001b[0m\u001b[0;34m(\u001b[0m\u001b[0;34m*\u001b[0m\u001b[0mconverted_inputs\u001b[0m\u001b[0;34m)\u001b[0m\u001b[0;34m\u001b[0m\u001b[0;34m\u001b[0m\u001b[0m\n\u001b[0m\u001b[1;32m   3218\u001b[0m     return nest.pack_sequence_as(self._outputs_structure,\n\u001b[1;32m   3219\u001b[0m                                  [x.numpy() for x in outputs])\n",
      "\u001b[0;32m/usr/local/lib/python3.6/dist-packages/tensorflow/python/eager/function.py\u001b[0m in \u001b[0;36m__call__\u001b[0;34m(self, *args, **kwargs)\u001b[0m\n\u001b[1;32m    556\u001b[0m       raise TypeError(\"Keyword arguments {} unknown. Expected {}.\".format(\n\u001b[1;32m    557\u001b[0m           list(kwargs.keys()), list(self._arg_keywords)))\n\u001b[0;32m--> 558\u001b[0;31m     \u001b[0;32mreturn\u001b[0m \u001b[0mself\u001b[0m\u001b[0;34m.\u001b[0m\u001b[0m_call_flat\u001b[0m\u001b[0;34m(\u001b[0m\u001b[0margs\u001b[0m\u001b[0;34m)\u001b[0m\u001b[0;34m\u001b[0m\u001b[0;34m\u001b[0m\u001b[0m\n\u001b[0m\u001b[1;32m    559\u001b[0m \u001b[0;34m\u001b[0m\u001b[0m\n\u001b[1;32m    560\u001b[0m   \u001b[0;32mdef\u001b[0m \u001b[0m_filtered_call\u001b[0m\u001b[0;34m(\u001b[0m\u001b[0mself\u001b[0m\u001b[0;34m,\u001b[0m \u001b[0margs\u001b[0m\u001b[0;34m,\u001b[0m \u001b[0mkwargs\u001b[0m\u001b[0;34m)\u001b[0m\u001b[0;34m:\u001b[0m\u001b[0;34m\u001b[0m\u001b[0;34m\u001b[0m\u001b[0m\n",
      "\u001b[0;32m/usr/local/lib/python3.6/dist-packages/tensorflow/python/eager/function.py\u001b[0m in \u001b[0;36m_call_flat\u001b[0;34m(self, args)\u001b[0m\n\u001b[1;32m    625\u001b[0m     \u001b[0;31m# Only need to override the gradient in graph mode and when we have outputs.\u001b[0m\u001b[0;34m\u001b[0m\u001b[0;34m\u001b[0m\u001b[0;34m\u001b[0m\u001b[0m\n\u001b[1;32m    626\u001b[0m     \u001b[0;32mif\u001b[0m \u001b[0mcontext\u001b[0m\u001b[0;34m.\u001b[0m\u001b[0mexecuting_eagerly\u001b[0m\u001b[0;34m(\u001b[0m\u001b[0;34m)\u001b[0m \u001b[0;32mor\u001b[0m \u001b[0;32mnot\u001b[0m \u001b[0mself\u001b[0m\u001b[0;34m.\u001b[0m\u001b[0moutputs\u001b[0m\u001b[0;34m:\u001b[0m\u001b[0;34m\u001b[0m\u001b[0;34m\u001b[0m\u001b[0m\n\u001b[0;32m--> 627\u001b[0;31m       \u001b[0moutputs\u001b[0m \u001b[0;34m=\u001b[0m \u001b[0mself\u001b[0m\u001b[0;34m.\u001b[0m\u001b[0m_inference_function\u001b[0m\u001b[0;34m.\u001b[0m\u001b[0mcall\u001b[0m\u001b[0;34m(\u001b[0m\u001b[0mctx\u001b[0m\u001b[0;34m,\u001b[0m \u001b[0margs\u001b[0m\u001b[0;34m)\u001b[0m\u001b[0;34m\u001b[0m\u001b[0;34m\u001b[0m\u001b[0m\n\u001b[0m\u001b[1;32m    628\u001b[0m     \u001b[0;32melse\u001b[0m\u001b[0;34m:\u001b[0m\u001b[0;34m\u001b[0m\u001b[0;34m\u001b[0m\u001b[0m\n\u001b[1;32m    629\u001b[0m       \u001b[0mself\u001b[0m\u001b[0;34m.\u001b[0m\u001b[0m_register_gradient\u001b[0m\u001b[0;34m(\u001b[0m\u001b[0;34m)\u001b[0m\u001b[0;34m\u001b[0m\u001b[0;34m\u001b[0m\u001b[0m\n",
      "\u001b[0;32m/usr/local/lib/python3.6/dist-packages/tensorflow/python/eager/function.py\u001b[0m in \u001b[0;36mcall\u001b[0;34m(self, ctx, args)\u001b[0m\n\u001b[1;32m    413\u001b[0m             attrs=(\"executor_type\", executor_type,\n\u001b[1;32m    414\u001b[0m                    \"config_proto\", config),\n\u001b[0;32m--> 415\u001b[0;31m             ctx=ctx)\n\u001b[0m\u001b[1;32m    416\u001b[0m       \u001b[0;31m# Replace empty list with None\u001b[0m\u001b[0;34m\u001b[0m\u001b[0;34m\u001b[0m\u001b[0;34m\u001b[0m\u001b[0m\n\u001b[1;32m    417\u001b[0m       \u001b[0moutputs\u001b[0m \u001b[0;34m=\u001b[0m \u001b[0moutputs\u001b[0m \u001b[0;32mor\u001b[0m \u001b[0;32mNone\u001b[0m\u001b[0;34m\u001b[0m\u001b[0;34m\u001b[0m\u001b[0m\n",
      "\u001b[0;32m/usr/local/lib/python3.6/dist-packages/tensorflow/python/eager/execute.py\u001b[0m in \u001b[0;36mquick_execute\u001b[0;34m(op_name, num_outputs, inputs, attrs, ctx, name)\u001b[0m\n\u001b[1;32m     58\u001b[0m     tensors = pywrap_tensorflow.TFE_Py_Execute(ctx._handle, device_name,\n\u001b[1;32m     59\u001b[0m                                                \u001b[0mop_name\u001b[0m\u001b[0;34m,\u001b[0m \u001b[0minputs\u001b[0m\u001b[0;34m,\u001b[0m \u001b[0mattrs\u001b[0m\u001b[0;34m,\u001b[0m\u001b[0;34m\u001b[0m\u001b[0;34m\u001b[0m\u001b[0m\n\u001b[0;32m---> 60\u001b[0;31m                                                num_outputs)\n\u001b[0m\u001b[1;32m     61\u001b[0m   \u001b[0;32mexcept\u001b[0m \u001b[0mcore\u001b[0m\u001b[0;34m.\u001b[0m\u001b[0m_NotOkStatusException\u001b[0m \u001b[0;32mas\u001b[0m \u001b[0me\u001b[0m\u001b[0;34m:\u001b[0m\u001b[0;34m\u001b[0m\u001b[0;34m\u001b[0m\u001b[0m\n\u001b[1;32m     62\u001b[0m     \u001b[0;32mif\u001b[0m \u001b[0mname\u001b[0m \u001b[0;32mis\u001b[0m \u001b[0;32mnot\u001b[0m \u001b[0;32mNone\u001b[0m\u001b[0;34m:\u001b[0m\u001b[0;34m\u001b[0m\u001b[0;34m\u001b[0m\u001b[0m\n",
      "\u001b[0;31mKeyboardInterrupt\u001b[0m: "
     ]
    }
   ],
   "source": [
    "class PrintDot(tfk.callbacks.Callback):\n",
    "  def on_epoch_end(self, epoch, logs):\n",
    "    if epoch % 10 == 0:\n",
    "      print('')\n",
    "    print('.', end='')\n",
    "\n",
    "early_stop = tfk.callbacks.EarlyStopping(monitor='val_loss', patience=5)\n",
    "\n",
    "history = model.fit(\n",
    "  X_train_normed, y_train,\n",
    "  epochs=100, validation_split=0.2, verbose=1,\n",
    "  callbacks=[early_stop])  # PrintDot()"
   ]
  },
  {
   "cell_type": "code",
   "execution_count": 41,
   "metadata": {
    "colab": {
     "base_uri": "https://localhost:8080/",
     "height": 34
    },
    "colab_type": "code",
    "executionInfo": {
     "elapsed": 659,
     "status": "ok",
     "timestamp": 1559335007324,
     "user": {
      "displayName": "Franz Louis Cesista",
      "photoUrl": "https://lh3.googleusercontent.com/-NquKeLt1770/AAAAAAAAAAI/AAAAAAAAAMo/RHnx0T1cGIk/s64/photo.jpg",
      "userId": "08273419339046628946"
     },
     "user_tz": -480
    },
    "id": "XRG5bAyFeiHO",
    "outputId": "b8ee2667-4439-48f7-8b40-c7a466199edc"
   },
   "outputs": [
    {
     "name": "stdout",
     "output_type": "stream",
     "text": [
      "Testing set Root Mean Squared Error: 0.049747\n"
     ]
    }
   ],
   "source": [
    "loss, mae = model.evaluate(X_test_normed, y_test, verbose=0)\n",
    "\n",
    "print(\"Testing set Root Mean Squared Error: {:f}\".format(math.sqrt(loss)))"
   ]
  },
  {
   "cell_type": "code",
   "execution_count": null,
   "metadata": {
    "colab": {},
    "colab_type": "code",
    "id": "XGh2yHjtmh33"
   },
   "outputs": [],
   "source": []
  }
 ],
 "metadata": {
  "accelerator": "GPU",
  "colab": {
   "name": "4 - Spatiotemporal Regression.ipynb",
   "provenance": [],
   "version": "0.3.2"
  },
  "kernelspec": {
   "display_name": "Python [conda env:py36]",
   "language": "python",
   "name": "conda-env-py36-py"
  },
  "language_info": {
   "codemirror_mode": {
    "name": "ipython",
    "version": 3
   },
   "file_extension": ".py",
   "mimetype": "text/x-python",
   "name": "python",
   "nbconvert_exporter": "python",
   "pygments_lexer": "ipython3",
   "version": "3.6.8"
  }
 },
 "nbformat": 4,
 "nbformat_minor": 2
}
