{
 "cells": [
  {
   "cell_type": "markdown",
   "metadata": {},
   "source": [
    "# Tests with the Kalman Filter"
   ]
  },
  {
   "cell_type": "code",
   "execution_count": null,
   "metadata": {
    "colab": {},
    "colab_type": "code",
    "id": "3FlF68SyoCXy"
   },
   "outputs": [],
   "source": [
    "import math\n",
    "import datetime\n",
    "\n",
    "import numpy as np\n",
    "import pandas as pd\n",
    "\n",
    "import simdkalman\n",
    "import statsmodels.api as sm\n",
    "from sklearn.metrics import mean_squared_error\n",
    "\n",
    "import seaborn as sns\n",
    "import matplotlib.pyplot as plt\n",
    "from matplotlib import animation\n",
    "sns.set(style=\"whitegrid\")"
   ]
  },
  {
   "cell_type": "markdown",
   "metadata": {
    "colab_type": "text",
    "id": "9Mnnx2rURUxu"
   },
   "source": [
    "## The Data"
   ]
  },
  {
   "cell_type": "markdown",
   "metadata": {
    "colab_type": "text",
    "id": "NNiKTC-NRWO5"
   },
   "source": [
    "Load the preprocessed data"
   ]
  },
  {
   "cell_type": "code",
   "execution_count": 5,
   "metadata": {
    "colab": {
     "base_uri": "https://localhost:8080/",
     "height": 34
    },
    "colab_type": "code",
    "executionInfo": {
     "elapsed": 788,
     "status": "ok",
     "timestamp": 1560191381580,
     "user": {
      "displayName": "Franz Louis Cesista",
      "photoUrl": "https://lh3.googleusercontent.com/-NquKeLt1770/AAAAAAAAAAI/AAAAAAAAAMo/RHnx0T1cGIk/s64/photo.jpg",
      "userId": "08273419339046628946"
     },
     "user_tz": -480
    },
    "id": "Ra89js2ZQ0D-",
    "outputId": "4a1961c8-a7ab-44e4-cc85-6bcb8be4ebab"
   },
   "outputs": [
    {
     "name": "stdout",
     "output_type": "stream",
     "text": [
      "Drive already mounted at /content/gdrive; to attempt to forcibly remount, call drive.mount(\"/content/gdrive\", force_remount=True).\n"
     ]
    }
   ],
   "source": [
    "from google.colab import drive\n",
    "drive.mount('/content/gdrive')"
   ]
  },
  {
   "cell_type": "code",
   "execution_count": 6,
   "metadata": {
    "colab": {
     "base_uri": "https://localhost:8080/",
     "height": 34
    },
    "colab_type": "code",
    "executionInfo": {
     "elapsed": 876,
     "status": "ok",
     "timestamp": 1560191383912,
     "user": {
      "displayName": "Franz Louis Cesista",
      "photoUrl": "https://lh3.googleusercontent.com/-NquKeLt1770/AAAAAAAAAAI/AAAAAAAAAMo/RHnx0T1cGIk/s64/photo.jpg",
      "userId": "08273419339046628946"
     },
     "user_tz": -480
    },
    "id": "xwYgMSETRYZT",
    "outputId": "0f135dce-066a-4135-ffc3-c7f39b4d27d2"
   },
   "outputs": [
    {
     "name": "stdout",
     "output_type": "stream",
     "text": [
      "/content/gdrive/My Drive/Colab Notebooks/aiforsea\n"
     ]
    }
   ],
   "source": [
    "cd '/content/gdrive/My Drive/Colab Notebooks/aiforsea'"
   ]
  },
  {
   "cell_type": "code",
   "execution_count": 7,
   "metadata": {
    "colab": {
     "base_uri": "https://localhost:8080/",
     "height": 204
    },
    "colab_type": "code",
    "executionInfo": {
     "elapsed": 13377,
     "status": "ok",
     "timestamp": 1560191397928,
     "user": {
      "displayName": "Franz Louis Cesista",
      "photoUrl": "https://lh3.googleusercontent.com/-NquKeLt1770/AAAAAAAAAAI/AAAAAAAAAMo/RHnx0T1cGIk/s64/photo.jpg",
      "userId": "08273419339046628946"
     },
     "user_tz": -480
    },
    "id": "UNjXqe3BReP1",
    "outputId": "4837a9ef-938c-4b96-c5c5-0f6dc53f74ba"
   },
   "outputs": [
    {
     "data": {
      "text/html": [
       "<div>\n",
       "<style scoped>\n",
       "    .dataframe tbody tr th:only-of-type {\n",
       "        vertical-align: middle;\n",
       "    }\n",
       "\n",
       "    .dataframe tbody tr th {\n",
       "        vertical-align: top;\n",
       "    }\n",
       "\n",
       "    .dataframe thead th {\n",
       "        text-align: right;\n",
       "    }\n",
       "</style>\n",
       "<table border=\"1\" class=\"dataframe\">\n",
       "  <thead>\n",
       "    <tr style=\"text-align: right;\">\n",
       "      <th></th>\n",
       "      <th>geohash6</th>\n",
       "      <th>day</th>\n",
       "      <th>demand</th>\n",
       "      <th>in_raw</th>\n",
       "      <th>weekday</th>\n",
       "      <th>hour</th>\n",
       "      <th>minutes</th>\n",
       "      <th>ds</th>\n",
       "      <th>latitude</th>\n",
       "      <th>longitude</th>\n",
       "    </tr>\n",
       "  </thead>\n",
       "  <tbody>\n",
       "    <tr>\n",
       "      <th>0</th>\n",
       "      <td>qp02yc</td>\n",
       "      <td>1</td>\n",
       "      <td>0.0</td>\n",
       "      <td>False</td>\n",
       "      <td>1</td>\n",
       "      <td>0</td>\n",
       "      <td>0</td>\n",
       "      <td>1900-01-01 00:00:00</td>\n",
       "      <td>-5.484924</td>\n",
       "      <td>90.653687</td>\n",
       "    </tr>\n",
       "    <tr>\n",
       "      <th>1</th>\n",
       "      <td>qp02z1</td>\n",
       "      <td>1</td>\n",
       "      <td>0.0</td>\n",
       "      <td>False</td>\n",
       "      <td>1</td>\n",
       "      <td>0</td>\n",
       "      <td>0</td>\n",
       "      <td>1900-01-01 00:00:00</td>\n",
       "      <td>-5.484924</td>\n",
       "      <td>90.664673</td>\n",
       "    </tr>\n",
       "    <tr>\n",
       "      <th>2</th>\n",
       "      <td>qp02z3</td>\n",
       "      <td>1</td>\n",
       "      <td>0.0</td>\n",
       "      <td>False</td>\n",
       "      <td>1</td>\n",
       "      <td>0</td>\n",
       "      <td>0</td>\n",
       "      <td>1900-01-01 00:00:00</td>\n",
       "      <td>-5.484924</td>\n",
       "      <td>90.675659</td>\n",
       "    </tr>\n",
       "    <tr>\n",
       "      <th>3</th>\n",
       "      <td>qp02z9</td>\n",
       "      <td>1</td>\n",
       "      <td>0.0</td>\n",
       "      <td>False</td>\n",
       "      <td>1</td>\n",
       "      <td>0</td>\n",
       "      <td>0</td>\n",
       "      <td>1900-01-01 00:00:00</td>\n",
       "      <td>-5.484924</td>\n",
       "      <td>90.686646</td>\n",
       "    </tr>\n",
       "    <tr>\n",
       "      <th>4</th>\n",
       "      <td>qp02zc</td>\n",
       "      <td>1</td>\n",
       "      <td>0.0</td>\n",
       "      <td>False</td>\n",
       "      <td>1</td>\n",
       "      <td>0</td>\n",
       "      <td>0</td>\n",
       "      <td>1900-01-01 00:00:00</td>\n",
       "      <td>-5.484924</td>\n",
       "      <td>90.697632</td>\n",
       "    </tr>\n",
       "  </tbody>\n",
       "</table>\n",
       "</div>"
      ],
      "text/plain": [
       "  geohash6  day  demand  ...                   ds  latitude  longitude\n",
       "0   qp02yc    1     0.0  ...  1900-01-01 00:00:00 -5.484924  90.653687\n",
       "1   qp02z1    1     0.0  ...  1900-01-01 00:00:00 -5.484924  90.664673\n",
       "2   qp02z3    1     0.0  ...  1900-01-01 00:00:00 -5.484924  90.675659\n",
       "3   qp02z9    1     0.0  ...  1900-01-01 00:00:00 -5.484924  90.686646\n",
       "4   qp02zc    1     0.0  ...  1900-01-01 00:00:00 -5.484924  90.697632\n",
       "\n",
       "[5 rows x 10 columns]"
      ]
     },
     "execution_count": 7,
     "metadata": {
      "tags": []
     },
     "output_type": "execute_result"
    }
   ],
   "source": [
    "df = pd.read_csv('full_data.csv')\n",
    "df.head()"
   ]
  },
  {
   "cell_type": "markdown",
   "metadata": {
    "colab_type": "text",
    "id": "3sAPce7nzl3O"
   },
   "source": [
    "### Collect info for each location"
   ]
  },
  {
   "cell_type": "code",
   "execution_count": 8,
   "metadata": {
    "colab": {
     "base_uri": "https://localhost:8080/",
     "height": 34
    },
    "colab_type": "code",
    "executionInfo": {
     "elapsed": 10094,
     "status": "ok",
     "timestamp": 1560191398256,
     "user": {
      "displayName": "Franz Louis Cesista",
      "photoUrl": "https://lh3.googleusercontent.com/-NquKeLt1770/AAAAAAAAAAI/AAAAAAAAAMo/RHnx0T1cGIk/s64/photo.jpg",
      "userId": "08273419339046628946"
     },
     "user_tz": -480
    },
    "id": "pTGenbdLzpOG",
    "outputId": "d9b3d5d7-1b7c-4b0f-98fa-0705b7acf629"
   },
   "outputs": [
    {
     "name": "stdout",
     "output_type": "stream",
     "text": [
      "1329 ['qp02yc' 'qp02z1' 'qp02z3' ... 'qp0djw' 'qp0djy' 'qp0dnn']\n"
     ]
    }
   ],
   "source": [
    "locations = df['geohash6'].unique()\n",
    "print(len(locations), locations)"
   ]
  },
  {
   "cell_type": "markdown",
   "metadata": {
    "colab_type": "text",
    "id": "8hYixEOaoVnZ"
   },
   "source": [
    "## The Kalman Filter"
   ]
  },
  {
   "cell_type": "code",
   "execution_count": null,
   "metadata": {
    "colab": {},
    "colab_type": "code",
    "id": "dt2svEVaoRc2"
   },
   "outputs": [],
   "source": [
    "train_start = pd.to_datetime('1900-01-18 00:00:00')\n",
    "train_stepdelta = datetime.timedelta(days=1, hours=1, minutes=15)\n",
    "train_horizon = datetime.timedelta(days=14)\n",
    "location = 'qp09d2'"
   ]
  },
  {
   "cell_type": "code",
   "execution_count": 77,
   "metadata": {
    "colab": {
     "base_uri": "https://localhost:8080/",
     "height": 291
    },
    "colab_type": "code",
    "executionInfo": {
     "elapsed": 1653,
     "status": "ok",
     "timestamp": 1560193259992,
     "user": {
      "displayName": "Franz Louis Cesista",
      "photoUrl": "https://lh3.googleusercontent.com/-NquKeLt1770/AAAAAAAAAAI/AAAAAAAAAMo/RHnx0T1cGIk/s64/photo.jpg",
      "userId": "08273419339046628946"
     },
     "user_tz": -480
    },
    "id": "9NT_TseeodHB",
    "outputId": "7e0dd749-c26a-406a-af06-ec548a715f3a"
   },
   "outputs": [
    {
     "data": {
      "text/plain": [
       "[<matplotlib.lines.Line2D at 0x7fbbf1c4b7f0>]"
      ]
     },
     "execution_count": 77,
     "metadata": {
      "tags": []
     },
     "output_type": "execute_result"
    },
    {
     "data": {
      "image/png": "[encoded data removed]",
      "text/plain": [
       "<Figure size 432x288 with 1 Axes>"
      ]
     },
     "metadata": {
      "tags": []
     },
     "output_type": "display_data"
    }
   ],
   "source": [
    "df_loc = df[(df['geohash6'] == location)].reset_index().drop('index', axis=1)\n",
    "df_loc = df_loc.rename(columns={'demand' : 'y'}).drop(['geohash6', 'in_raw',\n",
    "                                                     'weekday', 'hour', 'minutes',\n",
    "                                                     'latitude', 'longitude'], axis=1)\n",
    "plt.plot(df_loc['y'])"
   ]
  },
  {
   "cell_type": "code",
   "execution_count": null,
   "metadata": {
    "colab": {},
    "colab_type": "code",
    "id": "k3xqMy69oebC"
   },
   "outputs": [],
   "source": [
    "kalman0_mse_sum = 0\n",
    "kalman1_mse_sum = 0"
   ]
  },
  {
   "cell_type": "code",
   "execution_count": 79,
   "metadata": {
    "colab": {
     "base_uri": "https://localhost:8080/",
     "height": 1411
    },
    "colab_type": "code",
    "executionInfo": {
     "elapsed": 66223,
     "status": "ok",
     "timestamp": 1560193324987,
     "user": {
      "displayName": "Franz Louis Cesista",
      "photoUrl": "https://lh3.googleusercontent.com/-NquKeLt1770/AAAAAAAAAAI/AAAAAAAAAMo/RHnx0T1cGIk/s64/photo.jpg",
      "userId": "08273419339046628946"
     },
     "user_tz": -480
    },
    "id": "cmWxi4Hfoj8q",
    "outputId": "442c82e4-9c3a-42c5-d0e5-d883acc39934"
   },
   "outputs": [
    {
     "name": "stdout",
     "output_type": "stream",
     "text": [
      "1900-01-18 00:00:00 1900-02-01 00:00:00\n",
      "kalman0_rmse             0.16279895710701706\n",
      "kalman1_rmse             0.2867848662148205\n",
      "done 0\n",
      "1900-01-19 01:15:00 1900-02-02 01:15:00\n",
      "kalman0_rmse             0.12225157535374899\n",
      "kalman1_rmse             0.27175298924755803\n",
      "done 1\n",
      "1900-01-20 02:30:00 1900-02-03 02:30:00\n",
      "kalman0_rmse             0.10270915336589533\n",
      "kalman1_rmse             0.2888441468455182\n",
      "done 2\n",
      "1900-01-21 03:45:00 1900-02-04 03:45:00\n",
      "kalman0_rmse             0.1372366511844568\n",
      "kalman1_rmse             0.468456853276327\n",
      "done 3\n",
      "1900-01-22 05:00:00 1900-02-05 05:00:00\n",
      "kalman0_rmse             0.12674376112061847\n",
      "kalman1_rmse             0.5849692458002957\n",
      "done 4\n",
      "1900-01-23 06:15:00 1900-02-06 06:15:00\n",
      "kalman0_rmse             0.11579509027454302\n",
      "kalman1_rmse             0.6657780379853525\n",
      "done 5\n",
      "1900-01-24 07:30:00 1900-02-07 07:30:00\n",
      "kalman0_rmse             0.10720542203114902\n",
      "kalman1_rmse             0.7213590094223356\n",
      "done 6\n",
      "1900-01-25 08:45:00 1900-02-08 08:45:00\n",
      "kalman0_rmse             0.10028148981126664\n",
      "kalman1_rmse             0.7617401201396278\n",
      "done 7\n",
      "1900-01-26 10:00:00 1900-02-09 10:00:00\n",
      "kalman0_rmse             0.09454629529738176\n",
      "kalman1_rmse             0.7916124271094177\n",
      "done 8\n",
      "1900-01-27 11:15:00 1900-02-10 11:15:00\n",
      "kalman0_rmse             0.0896944912411779\n",
      "kalman1_rmse             0.8147683250687914\n",
      "done 9\n",
      "1900-01-28 12:30:00 1900-02-11 12:30:00\n",
      "kalman0_rmse             0.08552034203994999\n",
      "kalman1_rmse             0.8333107155608578\n",
      "done 10\n",
      "1900-01-29 13:45:00 1900-02-12 13:45:00\n",
      "kalman0_rmse             0.08187949373874832\n",
      "kalman1_rmse             0.848453211995906\n",
      "done 11\n",
      "1900-01-30 15:00:00 1900-02-13 15:00:00\n",
      "kalman0_rmse             0.07905926610459141\n",
      "kalman1_rmse             0.8599606569171605\n",
      "done 12\n",
      "1900-01-31 16:15:00 1900-02-14 16:15:00\n",
      "kalman0_rmse             0.08057913135139243\n",
      "kalman1_rmse             0.865654977680024\n",
      "done 13\n",
      "1900-02-01 17:30:00 1900-02-15 17:30:00\n",
      "kalman0_rmse             0.13303597929490402\n",
      "kalman1_rmse             0.8516072630241173\n",
      "done 14\n",
      "1900-02-02 18:45:00 1900-02-16 18:45:00\n",
      "kalman0_rmse             0.15591585852824444\n",
      "kalman1_rmse             0.8340389629795917\n",
      "done 15\n",
      "1900-02-03 20:00:00 1900-02-17 20:00:00\n",
      "kalman0_rmse             0.1556305673482131\n",
      "kalman1_rmse             0.810595692989066\n",
      "done 16\n",
      "1900-02-04 21:15:00 1900-02-18 21:15:00\n",
      "kalman0_rmse             0.1514159199749189\n",
      "kalman1_rmse             0.7880180381204611\n",
      "done 17\n",
      "1900-02-05 22:30:00 1900-02-19 22:30:00\n",
      "kalman0_rmse             0.14768823733876\n",
      "kalman1_rmse             0.7673508581736277\n",
      "done 18\n",
      "1900-02-06 23:45:00 1900-02-20 23:45:00\n",
      "kalman0_rmse             0.15017529334032673\n",
      "kalman1_rmse             0.7506321520437761\n",
      "done 19\n",
      "CPU times: user 1min 4s, sys: 177 ms, total: 1min 5s\n",
      "Wall time: 1min 5s\n"
     ]
    }
   ],
   "source": [
    "%%time\n",
    "for i in range(20):\n",
    "  # collect data from location \n",
    "  start_date = train_start + i*train_stepdelta\n",
    "  end_date   = train_start + i*train_stepdelta + train_horizon\n",
    "  print(start_date, end_date)\n",
    "  \n",
    "  df_loc = df[(start_date <= pd.to_datetime(df['ds'])) &\n",
    "              (pd.to_datetime(df['ds']) <= train_start + i*train_stepdelta + train_horizon) &\n",
    "              (df['geohash6'] == location)].reset_index().drop('index', axis=1)\n",
    "  df_loc = df_loc.rename(columns={'demand' : 'y'}).drop(['geohash6', 'in_raw',\n",
    "                                                       'weekday', 'hour', 'minutes',\n",
    "                                                       'latitude', 'longitude'], axis=1)\n",
    "  \n",
    "  # train-test split\n",
    "  df_train = df_loc.iloc[:-5]\n",
    "  df_test  = df_loc.iloc[-5:]\n",
    "  \n",
    "  kf = simdkalman.KalmanFilter(\n",
    "    state_transition = np.array([[1,1],[0,1]]),\n",
    "    process_noise = np.diag([0.1, 0.01]),\n",
    "    observation_model = np.array([[1,0]]),\n",
    "    observation_noise = 0.5)\n",
    "  \n",
    "  kalman_predictions = kf.predict(df_train['y'].values, 5)\n",
    "  \n",
    "  kalman0_pred = kalman_predictions.states.mean[:,0]\n",
    "  kalman1_pred = kalman_predictions.states.mean[:,1]\n",
    "  \n",
    "  kalman0_pred = np.clip(kalman0_pred, a_min=0.0, a_max=1.0)\n",
    "  kalman1_pred = np.clip(kalman1_pred, a_min=0.0, a_max=1.0)\n",
    "  \n",
    "  kalman0_mse_sum += mean_squared_error(kalman0_pred, df_test.y)\n",
    "  kalman1_mse_sum += mean_squared_error(kalman1_pred, df_test.y)\n",
    "  \n",
    "  print(\"kalman0_rmse            \", math.sqrt(kalman0_mse_sum           /(i+1)))\n",
    "  print(\"kalman1_rmse            \", math.sqrt(kalman1_mse_sum           /(i+1)))\n",
    "  print(\"done\", i)"
   ]
  },
  {
   "cell_type": "code",
   "execution_count": null,
   "metadata": {
    "colab": {},
    "colab_type": "code",
    "id": "KIVapdwHtZdx"
   },
   "outputs": [],
   "source": []
  }
 ],
 "metadata": {
  "colab": {
   "name": "7 - Kalman Filter.ipynb",
   "provenance": [],
   "version": "0.3.2"
  },
  "kernelspec": {
   "display_name": "Python 3",
   "language": "python",
   "name": "python3"
  },
  "language_info": {
   "codemirror_mode": {
    "name": "ipython",
    "version": 3
   },
   "file_extension": ".py",
   "mimetype": "text/x-python",
   "name": "python",
   "nbconvert_exporter": "python",
   "pygments_lexer": "ipython3",
   "version": "3.6.8"
  }
 },
 "nbformat": 4,
 "nbformat_minor": 2
}
