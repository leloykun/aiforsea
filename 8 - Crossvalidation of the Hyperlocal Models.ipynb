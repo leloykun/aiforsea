{
 "cells": [
  {
   "cell_type": "markdown",
   "metadata": {},
   "source": [
    "# Crossvalidation of the Hyperlocal Models"
   ]
  },
  {
   "cell_type": "code",
   "execution_count": 1,
   "metadata": {
    "colab": {},
    "colab_type": "code",
    "id": "sFRp0QrlQuLw"
   },
   "outputs": [],
   "source": [
    "# !pip3 install simdkalman fbprophet scipy==1.2 statsmodels --upgrade"
   ]
  },
  {
   "cell_type": "code",
   "execution_count": 2,
   "metadata": {
    "colab": {},
    "colab_type": "code",
    "id": "7ie9EoX2Qx2X"
   },
   "outputs": [],
   "source": [
    "import math\n",
    "import datetime\n",
    "import random\n",
    "import time\n",
    "import multiprocessing\n",
    "\n",
    "import numpy as np\n",
    "import pandas as pd\n",
    "\n",
    "import simdkalman\n",
    "\n",
    "import statsmodels.api as sm\n",
    "from statsmodels.tsa.holtwinters import SimpleExpSmoothing, ExponentialSmoothing\n",
    "\n",
    "from sklearn.linear_model import LinearRegression, Ridge, HuberRegressor\n",
    "from sklearn.metrics import mean_squared_error\n",
    "\n",
    "from fbprophet import Prophet\n",
    "from fbprophet.diagnostics import cross_validation, performance_metrics\n",
    "from fbprophet.plot import plot_cross_validation_metric\n",
    "\n",
    "import tensorflow.keras as tfk\n",
    "\n",
    "import _pickle as cPickle\n",
    "\n",
    "import seaborn as sns\n",
    "import matplotlib.pyplot as plt\n",
    "from matplotlib import animation\n",
    "sns.set(style=\"whitegrid\")\n",
    "\n",
    "import warnings\n",
    "warnings.filterwarnings('ignore')"
   ]
  },
  {
   "cell_type": "markdown",
   "metadata": {
    "colab_type": "text",
    "id": "9Mnnx2rURUxu"
   },
   "source": [
    "## The Data"
   ]
  },
  {
   "cell_type": "markdown",
   "metadata": {
    "colab_type": "text",
    "id": "NNiKTC-NRWO5"
   },
   "source": [
    "Load the preprocessed data"
   ]
  },
  {
   "cell_type": "code",
   "execution_count": 3,
   "metadata": {},
   "outputs": [],
   "source": [
    "# !gsutil cp gs://franzfiles/full_data.csv ."
   ]
  },
  {
   "cell_type": "code",
   "execution_count": 4,
   "metadata": {
    "colab": {
     "base_uri": "https://localhost:8080/",
     "height": 122
    },
    "colab_type": "code",
    "executionInfo": {
     "elapsed": 29273,
     "status": "ok",
     "timestamp": 1560078258425,
     "user": {
      "displayName": "Franz Louis Cesista",
      "photoUrl": "https://lh3.googleusercontent.com/-NquKeLt1770/AAAAAAAAAAI/AAAAAAAAAMo/RHnx0T1cGIk/s64/photo.jpg",
      "userId": "08273419339046628946"
     },
     "user_tz": -480
    },
    "id": "Ra89js2ZQ0D-",
    "outputId": "6b10e721-7a10-4eb1-aa4f-b742bf1c70af"
   },
   "outputs": [],
   "source": [
    "# from google.colab import drive\n",
    "# drive.mount('/content/gdrive')"
   ]
  },
  {
   "cell_type": "code",
   "execution_count": 5,
   "metadata": {
    "colab": {
     "base_uri": "https://localhost:8080/",
     "height": 34
    },
    "colab_type": "code",
    "executionInfo": {
     "elapsed": 30106,
     "status": "ok",
     "timestamp": 1560078259643,
     "user": {
      "displayName": "Franz Louis Cesista",
      "photoUrl": "https://lh3.googleusercontent.com/-NquKeLt1770/AAAAAAAAAAI/AAAAAAAAAMo/RHnx0T1cGIk/s64/photo.jpg",
      "userId": "08273419339046628946"
     },
     "user_tz": -480
    },
    "id": "xwYgMSETRYZT",
    "outputId": "b69cda4a-91e5-4b02-f59f-a9b255c6a808"
   },
   "outputs": [],
   "source": [
    "# cd '/content/gdrive/My Drive/Colab Notebooks/aiforsea'"
   ]
  },
  {
   "cell_type": "code",
   "execution_count": 6,
   "metadata": {
    "colab": {
     "base_uri": "https://localhost:8080/",
     "height": 204
    },
    "colab_type": "code",
    "executionInfo": {
     "elapsed": 49785,
     "status": "ok",
     "timestamp": 1560078279594,
     "user": {
      "displayName": "Franz Louis Cesista",
      "photoUrl": "https://lh3.googleusercontent.com/-NquKeLt1770/AAAAAAAAAAI/AAAAAAAAAMo/RHnx0T1cGIk/s64/photo.jpg",
      "userId": "08273419339046628946"
     },
     "user_tz": -480
    },
    "id": "UNjXqe3BReP1",
    "outputId": "8857f87c-fe6e-442c-9aed-172933d20bf1"
   },
   "outputs": [
    {
     "data": {
      "text/html": [
       "<div>\n",
       "<style scoped>\n",
       "    .dataframe tbody tr th:only-of-type {\n",
       "        vertical-align: middle;\n",
       "    }\n",
       "\n",
       "    .dataframe tbody tr th {\n",
       "        vertical-align: top;\n",
       "    }\n",
       "\n",
       "    .dataframe thead th {\n",
       "        text-align: right;\n",
       "    }\n",
       "</style>\n",
       "<table border=\"1\" class=\"dataframe\">\n",
       "  <thead>\n",
       "    <tr style=\"text-align: right;\">\n",
       "      <th></th>\n",
       "      <th>geohash6</th>\n",
       "      <th>day</th>\n",
       "      <th>demand</th>\n",
       "      <th>in_raw</th>\n",
       "      <th>weekday</th>\n",
       "      <th>hour</th>\n",
       "      <th>minutes</th>\n",
       "      <th>ds</th>\n",
       "      <th>latitude</th>\n",
       "      <th>longitude</th>\n",
       "    </tr>\n",
       "  </thead>\n",
       "  <tbody>\n",
       "    <tr>\n",
       "      <th>0</th>\n",
       "      <td>qp02yc</td>\n",
       "      <td>1</td>\n",
       "      <td>0.0</td>\n",
       "      <td>False</td>\n",
       "      <td>1</td>\n",
       "      <td>0</td>\n",
       "      <td>0</td>\n",
       "      <td>1900-01-01 00:00:00</td>\n",
       "      <td>-5.484924</td>\n",
       "      <td>90.653687</td>\n",
       "    </tr>\n",
       "    <tr>\n",
       "      <th>1</th>\n",
       "      <td>qp02z1</td>\n",
       "      <td>1</td>\n",
       "      <td>0.0</td>\n",
       "      <td>False</td>\n",
       "      <td>1</td>\n",
       "      <td>0</td>\n",
       "      <td>0</td>\n",
       "      <td>1900-01-01 00:00:00</td>\n",
       "      <td>-5.484924</td>\n",
       "      <td>90.664673</td>\n",
       "    </tr>\n",
       "    <tr>\n",
       "      <th>2</th>\n",
       "      <td>qp02z3</td>\n",
       "      <td>1</td>\n",
       "      <td>0.0</td>\n",
       "      <td>False</td>\n",
       "      <td>1</td>\n",
       "      <td>0</td>\n",
       "      <td>0</td>\n",
       "      <td>1900-01-01 00:00:00</td>\n",
       "      <td>-5.484924</td>\n",
       "      <td>90.675659</td>\n",
       "    </tr>\n",
       "    <tr>\n",
       "      <th>3</th>\n",
       "      <td>qp02z9</td>\n",
       "      <td>1</td>\n",
       "      <td>0.0</td>\n",
       "      <td>False</td>\n",
       "      <td>1</td>\n",
       "      <td>0</td>\n",
       "      <td>0</td>\n",
       "      <td>1900-01-01 00:00:00</td>\n",
       "      <td>-5.484924</td>\n",
       "      <td>90.686646</td>\n",
       "    </tr>\n",
       "    <tr>\n",
       "      <th>4</th>\n",
       "      <td>qp02zc</td>\n",
       "      <td>1</td>\n",
       "      <td>0.0</td>\n",
       "      <td>False</td>\n",
       "      <td>1</td>\n",
       "      <td>0</td>\n",
       "      <td>0</td>\n",
       "      <td>1900-01-01 00:00:00</td>\n",
       "      <td>-5.484924</td>\n",
       "      <td>90.697632</td>\n",
       "    </tr>\n",
       "  </tbody>\n",
       "</table>\n",
       "</div>"
      ],
      "text/plain": [
       "  geohash6  day  demand  in_raw  weekday  hour  minutes                   ds  \\\n",
       "0   qp02yc    1     0.0   False        1     0        0  1900-01-01 00:00:00   \n",
       "1   qp02z1    1     0.0   False        1     0        0  1900-01-01 00:00:00   \n",
       "2   qp02z3    1     0.0   False        1     0        0  1900-01-01 00:00:00   \n",
       "3   qp02z9    1     0.0   False        1     0        0  1900-01-01 00:00:00   \n",
       "4   qp02zc    1     0.0   False        1     0        0  1900-01-01 00:00:00   \n",
       "\n",
       "   latitude  longitude  \n",
       "0 -5.484924  90.653687  \n",
       "1 -5.484924  90.664673  \n",
       "2 -5.484924  90.675659  \n",
       "3 -5.484924  90.686646  \n",
       "4 -5.484924  90.697632  "
      ]
     },
     "execution_count": 6,
     "metadata": {},
     "output_type": "execute_result"
    }
   ],
   "source": [
    "df = pd.read_csv('full_data.csv')\n",
    "df.head()"
   ]
  },
  {
   "cell_type": "markdown",
   "metadata": {
    "colab_type": "text",
    "id": "sMc-JdHCRhPJ"
   },
   "source": [
    "### Add info for fbprophet"
   ]
  },
  {
   "cell_type": "code",
   "execution_count": 7,
   "metadata": {},
   "outputs": [],
   "source": [
    "# mask = np.load('temporal_anomaly_detection/density_mask.npy')\n",
    "# flat_mask = mask.reshape(-1).astype('float32')\n",
    "# mask_sum = mask.sum()"
   ]
  },
  {
   "cell_type": "code",
   "execution_count": 8,
   "metadata": {},
   "outputs": [],
   "source": [
    "# def scaled_loss(inputs, outputs):\n",
    "#   outputs *= flat_mask\n",
    "#   loss = tfk.metrics.mean_squared_error(inputs, outputs)\n",
    "#   return mask_sum * loss\n",
    "# \n",
    "# autoencoder = tfk.models.load_model('temporal_anomaly_detection/autoencoder.h5',\n",
    "#                                     custom_objects={'scaled_loss':scaled_loss})"
   ]
  },
  {
   "cell_type": "code",
   "execution_count": 9,
   "metadata": {},
   "outputs": [],
   "source": [
    "mahalanobis_dist = np.load('temporal_anomaly_detection/mahalanobis_dist.npy')\n",
    "# train_mu  = np.load('temporal_anomaly_detection/train_mu.npy')\n",
    "# train_std = np.load('temporal_anomaly_detection/train_std.npy')"
   ]
  },
  {
   "cell_type": "code",
   "execution_count": 10,
   "metadata": {},
   "outputs": [],
   "source": [
    "df['is_anomaly'] = (df['day'] - 1)*4*24 + df['hour']*4 + df['minutes']//15\n",
    "df['is_anomaly'] = df['is_anomaly'].apply(lambda x : mahalanobis_dist[x] > 4.0)"
   ]
  },
  {
   "cell_type": "code",
   "execution_count": 11,
   "metadata": {
    "colab": {
     "base_uri": "https://localhost:8080/",
     "height": 51
    },
    "colab_type": "code",
    "executionInfo": {
     "elapsed": 1041,
     "status": "ok",
     "timestamp": 1560078292899,
     "user": {
      "displayName": "Franz Louis Cesista",
      "photoUrl": "https://lh3.googleusercontent.com/-NquKeLt1770/AAAAAAAAAAI/AAAAAAAAAMo/RHnx0T1cGIk/s64/photo.jpg",
      "userId": "08273419339046628946"
     },
     "user_tz": -480
    },
    "id": "QHpgUqVMRiZp",
    "outputId": "aeb08a8f-1538-4c25-ecd8-6494504ee5f7"
   },
   "outputs": [
    {
     "data": {
      "text/html": [
       "<div>\n",
       "<style scoped>\n",
       "    .dataframe tbody tr th:only-of-type {\n",
       "        vertical-align: middle;\n",
       "    }\n",
       "\n",
       "    .dataframe tbody tr th {\n",
       "        vertical-align: top;\n",
       "    }\n",
       "\n",
       "    .dataframe thead th {\n",
       "        text-align: right;\n",
       "    }\n",
       "</style>\n",
       "<table border=\"1\" class=\"dataframe\">\n",
       "  <thead>\n",
       "    <tr style=\"text-align: right;\">\n",
       "      <th></th>\n",
       "      <th>geohash6</th>\n",
       "      <th>day</th>\n",
       "      <th>demand</th>\n",
       "      <th>in_raw</th>\n",
       "      <th>weekday</th>\n",
       "      <th>hour</th>\n",
       "      <th>minutes</th>\n",
       "      <th>ds</th>\n",
       "      <th>latitude</th>\n",
       "      <th>longitude</th>\n",
       "      <th>is_anomaly</th>\n",
       "      <th>is_weekend</th>\n",
       "      <th>is_weekday</th>\n",
       "      <th>cap</th>\n",
       "      <th>floor</th>\n",
       "    </tr>\n",
       "  </thead>\n",
       "  <tbody>\n",
       "    <tr>\n",
       "      <th>0</th>\n",
       "      <td>qp02yc</td>\n",
       "      <td>1</td>\n",
       "      <td>0.0</td>\n",
       "      <td>False</td>\n",
       "      <td>1</td>\n",
       "      <td>0</td>\n",
       "      <td>0</td>\n",
       "      <td>1900-01-01 00:00:00</td>\n",
       "      <td>-5.484924</td>\n",
       "      <td>90.653687</td>\n",
       "      <td>False</td>\n",
       "      <td>False</td>\n",
       "      <td>True</td>\n",
       "      <td>1.0</td>\n",
       "      <td>0.0</td>\n",
       "    </tr>\n",
       "    <tr>\n",
       "      <th>1</th>\n",
       "      <td>qp02z1</td>\n",
       "      <td>1</td>\n",
       "      <td>0.0</td>\n",
       "      <td>False</td>\n",
       "      <td>1</td>\n",
       "      <td>0</td>\n",
       "      <td>0</td>\n",
       "      <td>1900-01-01 00:00:00</td>\n",
       "      <td>-5.484924</td>\n",
       "      <td>90.664673</td>\n",
       "      <td>False</td>\n",
       "      <td>False</td>\n",
       "      <td>True</td>\n",
       "      <td>1.0</td>\n",
       "      <td>0.0</td>\n",
       "    </tr>\n",
       "    <tr>\n",
       "      <th>2</th>\n",
       "      <td>qp02z3</td>\n",
       "      <td>1</td>\n",
       "      <td>0.0</td>\n",
       "      <td>False</td>\n",
       "      <td>1</td>\n",
       "      <td>0</td>\n",
       "      <td>0</td>\n",
       "      <td>1900-01-01 00:00:00</td>\n",
       "      <td>-5.484924</td>\n",
       "      <td>90.675659</td>\n",
       "      <td>False</td>\n",
       "      <td>False</td>\n",
       "      <td>True</td>\n",
       "      <td>1.0</td>\n",
       "      <td>0.0</td>\n",
       "    </tr>\n",
       "    <tr>\n",
       "      <th>3</th>\n",
       "      <td>qp02z9</td>\n",
       "      <td>1</td>\n",
       "      <td>0.0</td>\n",
       "      <td>False</td>\n",
       "      <td>1</td>\n",
       "      <td>0</td>\n",
       "      <td>0</td>\n",
       "      <td>1900-01-01 00:00:00</td>\n",
       "      <td>-5.484924</td>\n",
       "      <td>90.686646</td>\n",
       "      <td>False</td>\n",
       "      <td>False</td>\n",
       "      <td>True</td>\n",
       "      <td>1.0</td>\n",
       "      <td>0.0</td>\n",
       "    </tr>\n",
       "    <tr>\n",
       "      <th>4</th>\n",
       "      <td>qp02zc</td>\n",
       "      <td>1</td>\n",
       "      <td>0.0</td>\n",
       "      <td>False</td>\n",
       "      <td>1</td>\n",
       "      <td>0</td>\n",
       "      <td>0</td>\n",
       "      <td>1900-01-01 00:00:00</td>\n",
       "      <td>-5.484924</td>\n",
       "      <td>90.697632</td>\n",
       "      <td>False</td>\n",
       "      <td>False</td>\n",
       "      <td>True</td>\n",
       "      <td>1.0</td>\n",
       "      <td>0.0</td>\n",
       "    </tr>\n",
       "  </tbody>\n",
       "</table>\n",
       "</div>"
      ],
      "text/plain": [
       "  geohash6  day  demand  in_raw  weekday  hour  minutes                   ds  \\\n",
       "0   qp02yc    1     0.0   False        1     0        0  1900-01-01 00:00:00   \n",
       "1   qp02z1    1     0.0   False        1     0        0  1900-01-01 00:00:00   \n",
       "2   qp02z3    1     0.0   False        1     0        0  1900-01-01 00:00:00   \n",
       "3   qp02z9    1     0.0   False        1     0        0  1900-01-01 00:00:00   \n",
       "4   qp02zc    1     0.0   False        1     0        0  1900-01-01 00:00:00   \n",
       "\n",
       "   latitude  longitude  is_anomaly  is_weekend  is_weekday  cap  floor  \n",
       "0 -5.484924  90.653687       False       False        True  1.0    0.0  \n",
       "1 -5.484924  90.664673       False       False        True  1.0    0.0  \n",
       "2 -5.484924  90.675659       False       False        True  1.0    0.0  \n",
       "3 -5.484924  90.686646       False       False        True  1.0    0.0  \n",
       "4 -5.484924  90.697632       False       False        True  1.0    0.0  "
      ]
     },
     "execution_count": 11,
     "metadata": {},
     "output_type": "execute_result"
    }
   ],
   "source": [
    "df['is_weekend'] = (4 <= (df['day'].values % 7 )) & ((df['day'].values % 7) <= 5)\n",
    "df['is_weekday'] = ~(df['is_weekend'])\n",
    "df['cap']   = 1.0\n",
    "df['floor'] = 0.0\n",
    "df.head()"
   ]
  },
  {
   "cell_type": "code",
   "execution_count": 12,
   "metadata": {},
   "outputs": [
    {
     "data": {
      "text/html": [
       "<div>\n",
       "<style scoped>\n",
       "    .dataframe tbody tr th:only-of-type {\n",
       "        vertical-align: middle;\n",
       "    }\n",
       "\n",
       "    .dataframe tbody tr th {\n",
       "        vertical-align: top;\n",
       "    }\n",
       "\n",
       "    .dataframe thead th {\n",
       "        text-align: right;\n",
       "    }\n",
       "</style>\n",
       "<table border=\"1\" class=\"dataframe\">\n",
       "  <thead>\n",
       "    <tr style=\"text-align: right;\">\n",
       "      <th></th>\n",
       "      <th>geohash6</th>\n",
       "      <th>day</th>\n",
       "      <th>y</th>\n",
       "      <th>ds</th>\n",
       "      <th>is_anomaly</th>\n",
       "      <th>is_weekend</th>\n",
       "      <th>is_weekday</th>\n",
       "      <th>cap</th>\n",
       "      <th>floor</th>\n",
       "    </tr>\n",
       "  </thead>\n",
       "  <tbody>\n",
       "    <tr>\n",
       "      <th>0</th>\n",
       "      <td>qp02yc</td>\n",
       "      <td>1</td>\n",
       "      <td>0.0</td>\n",
       "      <td>1900-01-01</td>\n",
       "      <td>False</td>\n",
       "      <td>False</td>\n",
       "      <td>True</td>\n",
       "      <td>1.0</td>\n",
       "      <td>0.0</td>\n",
       "    </tr>\n",
       "    <tr>\n",
       "      <th>1</th>\n",
       "      <td>qp02z1</td>\n",
       "      <td>1</td>\n",
       "      <td>0.0</td>\n",
       "      <td>1900-01-01</td>\n",
       "      <td>False</td>\n",
       "      <td>False</td>\n",
       "      <td>True</td>\n",
       "      <td>1.0</td>\n",
       "      <td>0.0</td>\n",
       "    </tr>\n",
       "    <tr>\n",
       "      <th>2</th>\n",
       "      <td>qp02z3</td>\n",
       "      <td>1</td>\n",
       "      <td>0.0</td>\n",
       "      <td>1900-01-01</td>\n",
       "      <td>False</td>\n",
       "      <td>False</td>\n",
       "      <td>True</td>\n",
       "      <td>1.0</td>\n",
       "      <td>0.0</td>\n",
       "    </tr>\n",
       "    <tr>\n",
       "      <th>3</th>\n",
       "      <td>qp02z9</td>\n",
       "      <td>1</td>\n",
       "      <td>0.0</td>\n",
       "      <td>1900-01-01</td>\n",
       "      <td>False</td>\n",
       "      <td>False</td>\n",
       "      <td>True</td>\n",
       "      <td>1.0</td>\n",
       "      <td>0.0</td>\n",
       "    </tr>\n",
       "    <tr>\n",
       "      <th>4</th>\n",
       "      <td>qp02zc</td>\n",
       "      <td>1</td>\n",
       "      <td>0.0</td>\n",
       "      <td>1900-01-01</td>\n",
       "      <td>False</td>\n",
       "      <td>False</td>\n",
       "      <td>True</td>\n",
       "      <td>1.0</td>\n",
       "      <td>0.0</td>\n",
       "    </tr>\n",
       "  </tbody>\n",
       "</table>\n",
       "</div>"
      ],
      "text/plain": [
       "  geohash6  day    y         ds  is_anomaly  is_weekend  is_weekday  cap  \\\n",
       "0   qp02yc    1  0.0 1900-01-01       False       False        True  1.0   \n",
       "1   qp02z1    1  0.0 1900-01-01       False       False        True  1.0   \n",
       "2   qp02z3    1  0.0 1900-01-01       False       False        True  1.0   \n",
       "3   qp02z9    1  0.0 1900-01-01       False       False        True  1.0   \n",
       "4   qp02zc    1  0.0 1900-01-01       False       False        True  1.0   \n",
       "\n",
       "   floor  \n",
       "0    0.0  \n",
       "1    0.0  \n",
       "2    0.0  \n",
       "3    0.0  \n",
       "4    0.0  "
      ]
     },
     "execution_count": 12,
     "metadata": {},
     "output_type": "execute_result"
    }
   ],
   "source": [
    "df = df.drop(['in_raw', 'weekday', 'hour', 'minutes', 'latitude', 'longitude'], axis=1)\n",
    "df = df.rename(columns={'demand' : 'y'})\n",
    "df['ds'] = pd.to_datetime(df['ds'])\n",
    "df.head()"
   ]
  },
  {
   "cell_type": "markdown",
   "metadata": {
    "colab_type": "text",
    "id": "3sAPce7nzl3O"
   },
   "source": [
    "### Collect info for each location"
   ]
  },
  {
   "cell_type": "code",
   "execution_count": 13,
   "metadata": {
    "colab": {
     "base_uri": "https://localhost:8080/",
     "height": 34
    },
    "colab_type": "code",
    "executionInfo": {
     "elapsed": 1486,
     "status": "ok",
     "timestamp": 1560078296010,
     "user": {
      "displayName": "Franz Louis Cesista",
      "photoUrl": "https://lh3.googleusercontent.com/-NquKeLt1770/AAAAAAAAAAI/AAAAAAAAAMo/RHnx0T1cGIk/s64/photo.jpg",
      "userId": "08273419339046628946"
     },
     "user_tz": -480
    },
    "id": "pTGenbdLzpOG",
    "outputId": "84172e20-7296-4134-f139-4047ac627c16"
   },
   "outputs": [
    {
     "name": "stdout",
     "output_type": "stream",
     "text": [
      "1329 ['qp02yc' 'qp02z1' 'qp02z3' ... 'qp0djw' 'qp0djy' 'qp0dnn']\n"
     ]
    }
   ],
   "source": [
    "locations = df['geohash6'].unique()\n",
    "print(len(locations), locations)"
   ]
  },
  {
   "cell_type": "code",
   "execution_count": 14,
   "metadata": {},
   "outputs": [
    {
     "name": "stdout",
     "output_type": "stream",
     "text": [
      "Wall time: 18.2 s\n"
     ]
    }
   ],
   "source": [
    "%%time\n",
    "gb = df.groupby('geohash6')    \n",
    "location_series = {}\n",
    "for x in gb.groups:\n",
    "    group = gb.get_group(x).reset_index().drop('index', axis=1)\n",
    "    location_series[x] = group"
   ]
  },
  {
   "cell_type": "markdown",
   "metadata": {
    "colab_type": "text",
    "id": "pqpfle8HSh7n"
   },
   "source": [
    "## Model Selection"
   ]
  },
  {
   "cell_type": "markdown",
   "metadata": {},
   "source": [
    "### Define training horizon and phase"
   ]
  },
  {
   "cell_type": "code",
   "execution_count": 15,
   "metadata": {
    "colab": {},
    "colab_type": "code",
    "id": "vLxzSVAaaaZP"
   },
   "outputs": [],
   "source": [
    "train_start = pd.to_datetime('1900-01-20 00:00:00')\n",
    "train_stepdelta = datetime.timedelta(days=1, hours=1, minutes=15)\n",
    "train_horizon = datetime.timedelta(days=14)"
   ]
  },
  {
   "cell_type": "code",
   "execution_count": 16,
   "metadata": {},
   "outputs": [],
   "source": [
    "TIMESTEPS = 20"
   ]
  },
  {
   "cell_type": "markdown",
   "metadata": {},
   "source": [
    "### Select locations"
   ]
  },
  {
   "cell_type": "code",
   "execution_count": 17,
   "metadata": {},
   "outputs": [],
   "source": [
    "locations_subset = np.random.choice(locations, size=len(locations)//10)"
   ]
  },
  {
   "cell_type": "markdown",
   "metadata": {},
   "source": [
    "### Test on a location"
   ]
  },
  {
   "cell_type": "code",
   "execution_count": 71,
   "metadata": {},
   "outputs": [
    {
     "data": {
      "text/plain": [
       "<fbprophet.forecaster.Prophet at 0x18b85620cc0>"
      ]
     },
     "execution_count": 71,
     "metadata": {},
     "output_type": "execute_result"
    }
   ],
   "source": [
    "series = location_series['qp09d9']\n",
    "# forecast using fbprophet's default settings\n",
    "fbm1 = Prophet(seasonality_mode='multiplicative',\n",
    "               weekly_seasonality=True,\n",
    "               yearly_seasonality=False)\n",
    "fbm1.add_regressor('is_anomaly')\n",
    "fbm1.fit(series)"
   ]
  },
  {
   "cell_type": "code",
   "execution_count": 72,
   "metadata": {},
   "outputs": [],
   "source": [
    "future = fbm1.make_future_dataframe(periods=5, freq='15min', include_history=True)\n",
    "future['is_anomaly'] = np.concatenate((series['is_anomaly'].values, np.zeros(5)), axis=None)\n",
    "forecast1 = fbm1.predict(future)"
   ]
  },
  {
   "cell_type": "code",
   "execution_count": 73,
   "metadata": {},
   "outputs": [
    {
     "data": {
      "image/png": "[encoded data removed]",
      "text/plain": [
       "<Figure size 648x864 with 4 Axes>"
      ]
     },
     "metadata": {},
     "output_type": "display_data"
    }
   ],
   "source": [
    "fig2 = fbm1.plot_components(forecast1)"
   ]
  },
  {
   "cell_type": "markdown",
   "metadata": {},
   "source": [
    "### Crossvalidate the models"
   ]
  },
  {
   "cell_type": "code",
   "execution_count": 18,
   "metadata": {},
   "outputs": [],
   "source": [
    "def worker(timestep, df_data, return_dict):\n",
    "    # train-test split\n",
    "    df_train = df_data.iloc[:-5]\n",
    "    df_test  = df_data.iloc[-5:]\n",
    "    X_train = np.arange(len(df_train)).reshape(-1, 1)\n",
    "    X_test  = (np.arange(5) + len(df_train)).reshape(-1, 1)\n",
    "\n",
    "    # forecast using data from previous cycle\n",
    "    prev_pred = df_train['y'].values[-4*24: -4*24+5]\n",
    "\n",
    "    # forecast using Keano Reeves\n",
    "    kf = simdkalman.KalmanFilter(\n",
    "      state_transition = np.array([[1,1],[0,1]]),\n",
    "      process_noise = np.diag([0.1, 0.01]),\n",
    "      observation_model = np.array([[1,0]]),\n",
    "      observation_noise = 0.5)\n",
    "    kalman_pred = kf.predict(df_train['y'].values, 5).states.mean[:,0]\n",
    "\n",
    "    # deseasonalize\n",
    "    decomposition = sm.tsa.seasonal_decompose(df_train['y'] + 1e-9,\n",
    "                                            model='multiplicative',\n",
    "                                            freq=4*24,\n",
    "                                            two_sided=False,\n",
    "                                            extrapolate_trend=1)\n",
    "    df_train['deseasonalized'] = df_train['y'].values / (decomposition.seasonal + 1e-9)\n",
    "    seasonal_test = decomposition.seasonal.values[-4*24:-4*24+5]\n",
    "\n",
    "    # forecast using theta = 0 (with linear regression)\n",
    "    linreg = HuberRegressor().fit(X_train, df_train['deseasonalized'].values)\n",
    "    theta0_pred = linreg.predict(X_test)\n",
    "    y0_pred = theta0_pred * seasonal_test\n",
    "\n",
    "    # forecast using theta = 2 (with simple exponential smoothing)\n",
    "    y_theta2 = 2*df_train['deseasonalized'].values - linreg.predict(X_train)\n",
    "    ses = SimpleExpSmoothing(y_theta2).fit()\n",
    "    theta2_pred = ses.forecast(5)\n",
    "    y2_pred = theta2_pred * seasonal_test\n",
    "\n",
    "    # forecast using fbprophet's default settings\n",
    "    fbm1 = Prophet(seasonality_mode='multiplicative',\n",
    "                   weekly_seasonality=True,\n",
    "                   yearly_seasonality=False)\n",
    "    fbm1.add_regressor('is_anomaly')\n",
    "    fbm1.fit(df_train)\n",
    "    \n",
    "    future = fbm1.make_future_dataframe(periods=5, freq='15min', include_history=False)\n",
    "    future['is_anomaly'] = 0\n",
    "    forecast1 = fbm1.predict(future)\n",
    "\n",
    "\n",
    "    # combinations\n",
    "    # all_pred            = (prev_pred + kalman_pred + y0_pred + y2_pred + forecast1['yhat'].values) / 5.0\n",
    "\n",
    "    # clip\n",
    "    # prev_pred           = np.clip(prev_pred               , a_min=0.0, a_max=1.0)\n",
    "    kalman_pred         = np.clip(kalman_pred             , a_min=0.0, a_max=1.0)\n",
    "    y0_pred             = np.clip(y0_pred                 , a_min=0.0, a_max=1.0)\n",
    "    y2_pred             = np.clip(y2_pred                 , a_min=0.0, a_max=1.0)\n",
    "    forecast1['yhat']   = np.clip(forecast1['yhat'].values, a_min=0.0, a_max=1.0)\n",
    "    # all_pred            = np.clip(all_pred                , a_min=0.0, a_max=1.0)\n",
    "\n",
    "    # save\n",
    "    predictions = np.asarray([prev_pred,\n",
    "                              kalman_pred,\n",
    "                              y0_pred,\n",
    "                              y2_pred,\n",
    "                              forecast1['yhat'].values])\n",
    "    actuals = df_test['y'].values\n",
    "    \n",
    "    return_dict[timestep] = {'predictions' : predictions,\n",
    "                             'actuals'     : actuals}"
   ]
  },
  {
   "cell_type": "code",
   "execution_count": 22,
   "metadata": {},
   "outputs": [
    {
     "name": "stdout",
     "output_type": "stream",
     "text": [
      "1900-01-20 00:00:00 1900-02-03 00:00:00\n",
      "1900-01-21 01:15:00 1900-02-04 01:15:00\n",
      "1900-01-22 02:30:00 1900-02-05 02:30:00\n",
      "1900-01-23 03:45:00 1900-02-06 03:45:00\n",
      "1900-01-24 05:00:00 1900-02-07 05:00:00\n",
      "1900-01-25 06:15:00 1900-02-08 06:15:00\n",
      "1900-01-26 07:30:00 1900-02-09 07:30:00\n",
      "1900-01-27 08:45:00 1900-02-10 08:45:00\n",
      "1900-01-28 10:00:00 1900-02-11 10:00:00\n",
      "1900-01-29 11:15:00 1900-02-12 11:15:00\n",
      "1900-01-30 12:30:00 1900-02-13 12:30:00\n",
      "1900-01-31 13:45:00 1900-02-14 13:45:00\n",
      "1900-02-01 15:00:00 1900-02-15 15:00:00\n",
      "1900-02-02 16:15:00 1900-02-16 16:15:00\n",
      "1900-02-03 17:30:00 1900-02-17 17:30:00\n",
      "1900-02-04 18:45:00 1900-02-18 18:45:00\n",
      "1900-02-05 20:00:00 1900-02-19 20:00:00\n",
      "1900-02-06 21:15:00 1900-02-20 21:15:00\n",
      "1900-02-07 22:30:00 1900-02-21 22:30:00\n",
      "1900-02-08 23:45:00 1900-02-22 23:45:00\n",
      "(1, 20, 5, 5) (1, 20, 5)\n",
      "Wall time: 2min 11s\n"
     ]
    }
   ],
   "source": [
    "%%time\n",
    "\n",
    "predictions = []\n",
    "actuals     = []\n",
    "for location in ['qp02zw']:\n",
    "    # location = locations_subset[iloc]\n",
    "    # print(\"{}/{} - currently processing location {}\".format(iloc+1, len(locations_subset), location))\n",
    "    \n",
    "    manager = multiprocessing.Manager()\n",
    "    return_dict = manager.dict()\n",
    "    jobs = []\n",
    "    for i in range(TIMESTEPS):      \n",
    "        start_date = train_start + i*train_stepdelta\n",
    "        end_date   = start_date + train_horizon\n",
    "        print(start_date, end_date)\n",
    "        \n",
    "        df_loc = location_series[location]\n",
    "        df_loc = df_loc[(start_date <= df_loc['ds']) & (df_loc['ds'] <= end_date)]\n",
    "        df_loc = df_loc.reset_index().drop('index', axis=1)\n",
    "        worker(i, df_loc, return_dict)\n",
    "#         \n",
    "#         df_loc = location_series[location]\n",
    "#         df_loc = df_loc[(start_date <= df_loc['ds']) & (df_loc['ds'] <= end_date)]\n",
    "#         df_loc = df_loc.reset_index().drop('index', axis=1)\n",
    "#         \n",
    "#         p = multiprocessing.Process(target=worker, args=(i, df_loc, return_dict))\n",
    "#         jobs.append(p)\n",
    "#         p.start()\n",
    "# \n",
    "#     for proc in jobs:\n",
    "#         proc.join()\n",
    "\n",
    "    predictions.append(np.stack([return_dict[i]['predictions'] for i in range(TIMESTEPS)], axis=0))\n",
    "    actuals.append(np.stack([return_dict[i]['actuals']     for i in range(TIMESTEPS)], axis=0))\n",
    "\n",
    "predictions = np.asarray(predictions)\n",
    "actuals     = np.asarray(actuals)\n",
    "print(predictions.shape, actuals.shape)"
   ]
  },
  {
   "cell_type": "markdown",
   "metadata": {},
   "source": [
    "### Evaluate the models"
   ]
  },
  {
   "cell_type": "code",
   "execution_count": 23,
   "metadata": {},
   "outputs": [],
   "source": [
    "prev_mse_sum           = 0\n",
    "kalman_mse_sum         = 0\n",
    "\n",
    "y0_mse_sum             = 0\n",
    "y2_mse_sum             = 0\n",
    "theta_mse_sum          = 0\n",
    "\n",
    "fbm1_mse_sum           = 0\n",
    "\n",
    "all_mse_sum            = 0"
   ]
  },
  {
   "cell_type": "code",
   "execution_count": 24,
   "metadata": {},
   "outputs": [],
   "source": [
    "for i in range(len(predictions)):\n",
    "    for t in range(TIMESTEPS):\n",
    "        prev_mse_sum   += mean_squared_error(predictions[i][t][0], actuals[i][t])\n",
    "        kalman_mse_sum += mean_squared_error(predictions[i][t][1], actuals[i][t])\n",
    "        y0_mse_sum     += mean_squared_error(predictions[i][t][2], actuals[i][t])\n",
    "        y2_mse_sum     += mean_squared_error(predictions[i][t][3], actuals[i][t])\n",
    "        fbm1_mse_sum   += mean_squared_error(predictions[i][t][4], actuals[i][t])\n",
    "        \n",
    "        theta_pred = (predictions[i][t][2] + predictions[i][t][3]) / 2.0\n",
    "        theta_pred = np.clip(theta_pred, a_min=0.0, a_max=1.0)\n",
    "        theta_mse_sum  += mean_squared_error(theta_pred, actuals[i][t])\n",
    "        \n",
    "        # all_pred   = predictions[i][t].mean(axis=0)\n",
    "        all_pred = (predictions[i][t][0] + predictions[i][t][1] + theta_pred + predictions[i][t][4]) / 4.0\n",
    "        all_mse_sum    += mean_squared_error(all_pred, actuals[i][t])"
   ]
  },
  {
   "cell_type": "code",
   "execution_count": 26,
   "metadata": {
    "colab": {
     "base_uri": "https://localhost:8080/",
     "height": 204
    },
    "colab_type": "code",
    "executionInfo": {
     "elapsed": 176636,
     "status": "ok",
     "timestamp": 1560079636633,
     "user": {
      "displayName": "Franz Louis Cesista",
      "photoUrl": "https://lh3.googleusercontent.com/-NquKeLt1770/AAAAAAAAAAI/AAAAAAAAAMo/RHnx0T1cGIk/s64/photo.jpg",
      "userId": "08273419339046628946"
     },
     "user_tz": -480
    },
    "id": "aWwIYT5tbLqE",
    "outputId": "18fcc4ae-b0b6-4eff-c031-f05fc5292aad"
   },
   "outputs": [
    {
     "name": "stdout",
     "output_type": "stream",
     "text": [
      "prev_rmse            0.07980296192739604\n",
      "kalman_rmse          0.09829175225854198\n",
      "y0_rmse              0.08463593714537263\n",
      "y2_rmse              0.1157874603786236\n",
      "fbm1_rmse            0.06820627883046501\n",
      "theta_rmse           0.07462596287235407\n",
      "all_rmse             0.05649223125013117\n"
     ]
    }
   ],
   "source": [
    "print(\"prev_rmse           \", math.sqrt(prev_mse_sum          /(TIMESTEPS * len(predictions))))\n",
    "print(\"kalman_rmse         \", math.sqrt(kalman_mse_sum        /(TIMESTEPS * len(predictions))))\n",
    "print(\"y0_rmse             \", math.sqrt(y0_mse_sum            /(TIMESTEPS * len(predictions))))\n",
    "print(\"y2_rmse             \", math.sqrt(y2_mse_sum            /(TIMESTEPS * len(predictions))))\n",
    "print(\"fbm1_rmse           \", math.sqrt(fbm1_mse_sum          /(TIMESTEPS * len(predictions))))\n",
    "# print(\"fbm2_rmse           \", math.sqrt(fbm2_mse_sum          /(TIMESTEPS * len(predictions))))\n",
    "# print(\"theta_fb1_rmse      \", math.sqrt(theta_fb1_mse_sum     /(TIMESTEPS * len(predictions))))\n",
    "# print(\"theta_fb2_rmse      \", math.sqrt(theta_fb2_mse_sum     /(TIMESTEPS * len(predictions))))\n",
    "# print(\"theta_fb1_prev_rmse \", math.sqrt(theta_fb1_prev_mse_sum/(TIMESTEPS * len(predictions))))\n",
    "# print(\"theta_fb2_prev_rmse \", math.sqrt(theta_fb2_prev_mse_sum/(TIMESTEPS * len(predictions))))\n",
    "print(\"theta_rmse          \", math.sqrt(theta_mse_sum         /(TIMESTEPS * len(predictions))))\n",
    "print(\"all_rmse            \", math.sqrt(all_mse_sum           /(TIMESTEPS * len(predictions))))"
   ]
  },
  {
   "cell_type": "code",
   "execution_count": 25,
   "metadata": {},
   "outputs": [
    {
     "ename": "SyntaxError",
     "evalue": "invalid syntax (<ipython-input-25-6b57b8d4bbe1>, line 1)",
     "output_type": "error",
     "traceback": [
      "\u001b[1;36m  File \u001b[1;32m\"<ipython-input-25-6b57b8d4bbe1>\"\u001b[1;36m, line \u001b[1;32m1\u001b[0m\n\u001b[1;33m    prev_rmse            0.07980296192739604\u001b[0m\n\u001b[1;37m                                           ^\u001b[0m\n\u001b[1;31mSyntaxError\u001b[0m\u001b[1;31m:\u001b[0m invalid syntax\n"
     ]
    }
   ],
   "source": [
    "prev_rmse            0.07980296192739604\n",
    "kalman_rmse          0.09829175225854198\n",
    "y0_rmse              0.08463594529766318\n",
    "y2_rmse              0.11578745803879455\n",
    "fbm1_rmse            0.0685048706433476\n",
    "theta_rmse           0.07462596399847413\n",
    "all_rmse             0.05658998701722148"
   ]
  },
  {
   "cell_type": "markdown",
   "metadata": {},
   "source": [
    "### Save "
   ]
  },
  {
   "cell_type": "code",
   "execution_count": null,
   "metadata": {
    "colab": {},
    "colab_type": "code",
    "id": "crW0fL2acFB8"
   },
   "outputs": [],
   "source": [
    "np.save('predictions.npy', predictions)"
   ]
  },
  {
   "cell_type": "code",
   "execution_count": null,
   "metadata": {},
   "outputs": [],
   "source": [
    "np.save('actuals.npy', actuals)"
   ]
  },
  {
   "cell_type": "code",
   "execution_count": null,
   "metadata": {},
   "outputs": [],
   "source": [
    "np.save('locations_subset.npy', locations_subset)"
   ]
  },
  {
   "cell_type": "code",
   "execution_count": null,
   "metadata": {},
   "outputs": [],
   "source": []
  }
 ],
 "metadata": {
  "colab": {
   "name": "6.5 - Theta + FBProphet Model Selection (unfinished).ipynb",
   "provenance": [],
   "version": "0.3.2"
  },
  "kernelspec": {
   "display_name": "Python 3",
   "language": "python",
   "name": "python3"
  },
  "language_info": {
   "codemirror_mode": {
    "name": "ipython",
    "version": 3
   },
   "file_extension": ".py",
   "mimetype": "text/x-python",
   "name": "python",
   "nbconvert_exporter": "python",
   "pygments_lexer": "ipython3",
   "version": "3.6.8"
  }
 },
 "nbformat": 4,
 "nbformat_minor": 2
}
