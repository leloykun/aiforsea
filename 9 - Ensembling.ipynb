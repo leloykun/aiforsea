{
 "cells": [
  {
   "cell_type": "markdown",
   "metadata": {},
   "source": [
    "# Ensembling"
   ]
  },
  {
   "cell_type": "code",
   "execution_count": 164,
   "metadata": {},
   "outputs": [],
   "source": [
    "import math\n",
    "\n",
    "import numpy as np\n",
    "import pandas as pd\n",
    "\n",
    "from sklearn.metrics import mean_squared_error\n",
    "from sklearn.linear_model import LinearRegression, HuberRegressor\n",
    "\n",
    "import tensorflow.keras as tfk\n",
    "\n",
    "import matplotlib.pyplot as plt"
   ]
  },
  {
   "cell_type": "markdown",
   "metadata": {},
   "source": [
    "## The Data"
   ]
  },
  {
   "cell_type": "markdown",
   "metadata": {},
   "source": [
    "### Load the preprocessed data"
   ]
  },
  {
   "cell_type": "code",
   "execution_count": 2,
   "metadata": {},
   "outputs": [],
   "source": [
    "# !gsutil cp gs://franzfiles/full_data.csv ."
   ]
  },
  {
   "cell_type": "code",
   "execution_count": 3,
   "metadata": {},
   "outputs": [],
   "source": [
    "# from google.colab import drive\n",
    "# drive.mount('/content/gdrive')"
   ]
  },
  {
   "cell_type": "code",
   "execution_count": 4,
   "metadata": {},
   "outputs": [],
   "source": [
    "# cd '/content/gdrive/My Drive/Colab Notebooks/aiforsea'"
   ]
  },
  {
   "cell_type": "code",
   "execution_count": 5,
   "metadata": {},
   "outputs": [
    {
     "data": {
      "text/html": [
       "<div>\n",
       "<style scoped>\n",
       "    .dataframe tbody tr th:only-of-type {\n",
       "        vertical-align: middle;\n",
       "    }\n",
       "\n",
       "    .dataframe tbody tr th {\n",
       "        vertical-align: top;\n",
       "    }\n",
       "\n",
       "    .dataframe thead th {\n",
       "        text-align: right;\n",
       "    }\n",
       "</style>\n",
       "<table border=\"1\" class=\"dataframe\">\n",
       "  <thead>\n",
       "    <tr style=\"text-align: right;\">\n",
       "      <th></th>\n",
       "      <th>geohash6</th>\n",
       "      <th>day</th>\n",
       "      <th>demand</th>\n",
       "      <th>in_raw</th>\n",
       "      <th>weekday</th>\n",
       "      <th>hour</th>\n",
       "      <th>minutes</th>\n",
       "      <th>ds</th>\n",
       "      <th>latitude</th>\n",
       "      <th>longitude</th>\n",
       "    </tr>\n",
       "  </thead>\n",
       "  <tbody>\n",
       "    <tr>\n",
       "      <th>0</th>\n",
       "      <td>qp02yc</td>\n",
       "      <td>1</td>\n",
       "      <td>0.0</td>\n",
       "      <td>False</td>\n",
       "      <td>1</td>\n",
       "      <td>0</td>\n",
       "      <td>0</td>\n",
       "      <td>1900-01-01 00:00:00</td>\n",
       "      <td>-5.484924</td>\n",
       "      <td>90.653687</td>\n",
       "    </tr>\n",
       "    <tr>\n",
       "      <th>1</th>\n",
       "      <td>qp02z1</td>\n",
       "      <td>1</td>\n",
       "      <td>0.0</td>\n",
       "      <td>False</td>\n",
       "      <td>1</td>\n",
       "      <td>0</td>\n",
       "      <td>0</td>\n",
       "      <td>1900-01-01 00:00:00</td>\n",
       "      <td>-5.484924</td>\n",
       "      <td>90.664673</td>\n",
       "    </tr>\n",
       "    <tr>\n",
       "      <th>2</th>\n",
       "      <td>qp02z3</td>\n",
       "      <td>1</td>\n",
       "      <td>0.0</td>\n",
       "      <td>False</td>\n",
       "      <td>1</td>\n",
       "      <td>0</td>\n",
       "      <td>0</td>\n",
       "      <td>1900-01-01 00:00:00</td>\n",
       "      <td>-5.484924</td>\n",
       "      <td>90.675659</td>\n",
       "    </tr>\n",
       "    <tr>\n",
       "      <th>3</th>\n",
       "      <td>qp02z9</td>\n",
       "      <td>1</td>\n",
       "      <td>0.0</td>\n",
       "      <td>False</td>\n",
       "      <td>1</td>\n",
       "      <td>0</td>\n",
       "      <td>0</td>\n",
       "      <td>1900-01-01 00:00:00</td>\n",
       "      <td>-5.484924</td>\n",
       "      <td>90.686646</td>\n",
       "    </tr>\n",
       "    <tr>\n",
       "      <th>4</th>\n",
       "      <td>qp02zc</td>\n",
       "      <td>1</td>\n",
       "      <td>0.0</td>\n",
       "      <td>False</td>\n",
       "      <td>1</td>\n",
       "      <td>0</td>\n",
       "      <td>0</td>\n",
       "      <td>1900-01-01 00:00:00</td>\n",
       "      <td>-5.484924</td>\n",
       "      <td>90.697632</td>\n",
       "    </tr>\n",
       "  </tbody>\n",
       "</table>\n",
       "</div>"
      ],
      "text/plain": [
       "  geohash6  day  demand  in_raw  weekday  hour  minutes                   ds  \\\n",
       "0   qp02yc    1     0.0   False        1     0        0  1900-01-01 00:00:00   \n",
       "1   qp02z1    1     0.0   False        1     0        0  1900-01-01 00:00:00   \n",
       "2   qp02z3    1     0.0   False        1     0        0  1900-01-01 00:00:00   \n",
       "3   qp02z9    1     0.0   False        1     0        0  1900-01-01 00:00:00   \n",
       "4   qp02zc    1     0.0   False        1     0        0  1900-01-01 00:00:00   \n",
       "\n",
       "   latitude  longitude  \n",
       "0 -5.484924  90.653687  \n",
       "1 -5.484924  90.664673  \n",
       "2 -5.484924  90.675659  \n",
       "3 -5.484924  90.686646  \n",
       "4 -5.484924  90.697632  "
      ]
     },
     "execution_count": 5,
     "metadata": {},
     "output_type": "execute_result"
    }
   ],
   "source": [
    "df = pd.read_csv('full_data.csv')\n",
    "df.head()"
   ]
  },
  {
   "cell_type": "markdown",
   "metadata": {},
   "source": [
    "### Get info on the locations"
   ]
  },
  {
   "cell_type": "code",
   "execution_count": 6,
   "metadata": {},
   "outputs": [],
   "source": [
    "locations = df['geohash6'].unique()"
   ]
  },
  {
   "cell_type": "code",
   "execution_count": 7,
   "metadata": {},
   "outputs": [
    {
     "data": {
      "text/plain": [
       "array(['qp02yc', 'qp02z1', 'qp02z3', ..., 'qp0djw', 'qp0djy', 'qp0dnn'],\n",
       "      dtype=object)"
      ]
     },
     "execution_count": 7,
     "metadata": {},
     "output_type": "execute_result"
    }
   ],
   "source": [
    "locations"
   ]
  },
  {
   "cell_type": "code",
   "execution_count": 8,
   "metadata": {},
   "outputs": [],
   "source": [
    "location_idx = {}\n",
    "for i, location in enumerate(locations):\n",
    "    location_idx[location] = i"
   ]
  },
  {
   "cell_type": "code",
   "execution_count": 36,
   "metadata": {},
   "outputs": [
    {
     "name": "stdout",
     "output_type": "stream",
     "text": [
      "Wall time: 13.5 s\n"
     ]
    }
   ],
   "source": [
    "%%time\n",
    "gb = df.groupby('geohash6')    \n",
    "location_series = {}\n",
    "for x in gb.groups:\n",
    "    group = gb.get_group(x).reset_index().drop('index', axis=1)\n",
    "    location_series[x] = group"
   ]
  },
  {
   "cell_type": "markdown",
   "metadata": {},
   "source": [
    "### Load the results"
   ]
  },
  {
   "cell_type": "code",
   "execution_count": 19,
   "metadata": {},
   "outputs": [],
   "source": [
    "predictions      = np.load('predictions.npy')\n",
    "actuals          = np.load('actuals.npy')\n",
    "locations_subset = np.load('locations_subset.npy', allow_pickle=True)"
   ]
  },
  {
   "cell_type": "code",
   "execution_count": 20,
   "metadata": {},
   "outputs": [
    {
     "name": "stdout",
     "output_type": "stream",
     "text": [
      "(332, 20, 5, 5) (332, 20, 5) (332,)\n"
     ]
    }
   ],
   "source": [
    "print(predictions.shape, actuals.shape, locations_subset.shape)"
   ]
  },
  {
   "cell_type": "code",
   "execution_count": 21,
   "metadata": {},
   "outputs": [
    {
     "data": {
      "text/plain": [
       "20"
      ]
     },
     "execution_count": 21,
     "metadata": {},
     "output_type": "execute_result"
    }
   ],
   "source": [
    "TIMESTEPS = predictions.shape[1]\n",
    "TIMESTEPS"
   ]
  },
  {
   "cell_type": "markdown",
   "metadata": {},
   "source": [
    "### Load mahalanobis distances"
   ]
  },
  {
   "cell_type": "code",
   "execution_count": null,
   "metadata": {},
   "outputs": [],
   "source": [
    "# mean_mahalanobis_dist = np.load('mean_mahalanobis_dist.npy')\n",
    "# print(mean_mahalanobis_dist.shape)"
   ]
  },
  {
   "cell_type": "code",
   "execution_count": 12,
   "metadata": {},
   "outputs": [
    {
     "name": "stdout",
     "output_type": "stream",
     "text": [
      "(1329,)\n"
     ]
    }
   ],
   "source": [
    "freq_mahalanobis_dist = np.load('freq_mahalanobis_dist.npy')\n",
    "print(freq_mahalanobis_dist.shape)"
   ]
  },
  {
   "cell_type": "markdown",
   "metadata": {},
   "source": [
    "## Compare Errors"
   ]
  },
  {
   "cell_type": "code",
   "execution_count": 33,
   "metadata": {},
   "outputs": [],
   "source": [
    "prev_mse_sum           = 0\n",
    "kalman_mse_sum         = 0\n",
    "y0_mse_sum             = 0\n",
    "y2_mse_sum             = 0\n",
    "fbm1_mse_sum           = 0\n",
    "theta_mse_sum          = 0\n",
    "theta_fb_mse_sum       = 0\n",
    "all_naive_mse_sum      = 0\n",
    "all_mse_sum            = 0"
   ]
  },
  {
   "cell_type": "code",
   "execution_count": 34,
   "metadata": {},
   "outputs": [],
   "source": [
    "for i in range(len(predictions)):\n",
    "    for t in range(TIMESTEPS):\n",
    "        prev_mse_sum      += mean_squared_error(predictions[i][t][0], actuals[i][t])\n",
    "        kalman_mse_sum    += mean_squared_error(predictions[i][t][1], actuals[i][t])\n",
    "        y0_mse_sum        += mean_squared_error(predictions[i][t][2], actuals[i][t])\n",
    "        y2_mse_sum        += mean_squared_error(predictions[i][t][3], actuals[i][t])\n",
    "        fbm1_mse_sum      += mean_squared_error(predictions[i][t][4], actuals[i][t])\n",
    "        \n",
    "        theta_pred         = (predictions[i][t][2] + predictions[i][t][3]) / 2.0\n",
    "        theta_fb_pred      = (theta_pred + predictions[i][t][4]) / 2.0\n",
    "        all_naive_pred     = predictions[i][t].mean(axis=0)\n",
    "        # all_pred           = (predictions[i][t][0] + predictions[i][t][1] + theta_pred + predictions[i][t][4]) / 4.0\n",
    "        all_pred           = (predictions[i][t][1] + theta_pred + predictions[i][t][4]) / 3.0\n",
    "        \n",
    "        theta_pred         = np.clip(theta_pred    , a_min=0.0, a_max=1.0)\n",
    "        theta_fb_pred      = np.clip(theta_fb_pred , a_min=0.0, a_max=1.0)\n",
    "        all_naive_pred     = np.clip(all_naive_pred, a_min=0.0, a_max=1.0)\n",
    "        all_pred           = np.clip(all_pred      , a_min=0.0, a_max=1.0)\n",
    "        \n",
    "        theta_mse_sum     += mean_squared_error(theta_pred, actuals[i][t])\n",
    "        theta_fb_mse_sum  += mean_squared_error(theta_fb_pred, actuals[i][t])\n",
    "        all_naive_mse_sum += mean_squared_error(all_naive_pred, actuals[i][t])\n",
    "        all_mse_sum       += mean_squared_error(all_pred, actuals[i][t])"
   ]
  },
  {
   "cell_type": "code",
   "execution_count": 35,
   "metadata": {},
   "outputs": [
    {
     "name": "stdout",
     "output_type": "stream",
     "text": [
      "prev_rmse            0.053936077913443244\n",
      "kalman_rmse          0.03900183400744959\n",
      "y0_rmse              0.04821238328426944\n",
      "y2_rmse              0.05208619646605197\n",
      "fbm1_rmse            0.03973981575859182\n",
      "theta_rmse           0.035792962736291206\n",
      "theta_fb_rmse        0.033800964516169284\n",
      "all_naive_rmse       0.03154250809608945\n",
      "all_rmse             0.030120535060712182\n"
     ]
    }
   ],
   "source": [
    "print(\"prev_rmse           \", math.sqrt(prev_mse_sum          /(TIMESTEPS * len(predictions))))\n",
    "print(\"kalman_rmse         \", math.sqrt(kalman_mse_sum        /(TIMESTEPS * len(predictions))))\n",
    "print(\"y0_rmse             \", math.sqrt(y0_mse_sum            /(TIMESTEPS * len(predictions))))\n",
    "print(\"y2_rmse             \", math.sqrt(y2_mse_sum            /(TIMESTEPS * len(predictions))))\n",
    "print(\"fbm1_rmse           \", math.sqrt(fbm1_mse_sum          /(TIMESTEPS * len(predictions))))\n",
    "print(\"theta_rmse          \", math.sqrt(theta_mse_sum         /(TIMESTEPS * len(predictions))))\n",
    "print(\"theta_fb_rmse       \", math.sqrt(theta_fb_mse_sum      /(TIMESTEPS * len(predictions))))\n",
    "print(\"all_naive_rmse      \", math.sqrt(all_naive_mse_sum     /(TIMESTEPS * len(predictions))))\n",
    "print(\"all_rmse            \", math.sqrt(all_mse_sum           /(TIMESTEPS * len(predictions))))"
   ]
  },
  {
   "cell_type": "markdown",
   "metadata": {},
   "source": [
    "## Compare Errors to Various Variables"
   ]
  },
  {
   "cell_type": "code",
   "execution_count": 25,
   "metadata": {},
   "outputs": [],
   "source": [
    "Y_prev   = []\n",
    "Y_kalman = []\n",
    "Y_theta  = []\n",
    "Y_fb     = []\n",
    "\n",
    "for i in range(len(predictions)):\n",
    "    prev_rmse   = 0\n",
    "    kalman_rmse = 0\n",
    "    theta_rmse  = 0\n",
    "    fb_rmse     = 0\n",
    "    for t in range(TIMESTEPS):\n",
    "        theta_pred = (predictions[i][t][2] + predictions[i][t][3]) / 2.0\n",
    "        theta_pred = np.clip(theta_pred    , a_min=0.0, a_max=1.0)\n",
    "        \n",
    "        prev_rmse   += mean_squared_error(predictions[i][t][0], actuals[i][t])\n",
    "        kalman_rmse += mean_squared_error(predictions[i][t][1], actuals[i][t])\n",
    "        theta_rmse  += mean_squared_error(theta_pred, actuals[i][t])\n",
    "        fb_rmse     += mean_squared_error(predictions[i][t][4], actuals[i][t])\n",
    "    \n",
    "    prev_rmse   = math.sqrt(prev_rmse/TIMESTEPS)\n",
    "    kalman_rmse = math.sqrt(kalman_rmse/TIMESTEPS)\n",
    "    theta_rmse  = math.sqrt(theta_rmse/TIMESTEPS)\n",
    "    fb_rmse     = math.sqrt(fb_rmse/TIMESTEPS)\n",
    "    \n",
    "    Y_prev.append([prev_rmse   ])\n",
    "    Y_kalman.append([kalman_rmse ])\n",
    "    Y_theta.append([theta_rmse  ])\n",
    "    Y_fb.append([fb_rmse     ])"
   ]
  },
  {
   "cell_type": "markdown",
   "metadata": {},
   "source": [
    "### Compare errors to the mahalanobis distance of the frequency"
   ]
  },
  {
   "cell_type": "code",
   "execution_count": 42,
   "metadata": {},
   "outputs": [],
   "source": [
    "X_dist   = []\n",
    "\n",
    "for i in range(len(predictions)):\n",
    "    location = locations_subset[i]\n",
    "    dist = freq_mahalanobis_dist[location_idx[location]]\n",
    "    X_dist.append(dist)"
   ]
  },
  {
   "cell_type": "code",
   "execution_count": 26,
   "metadata": {},
   "outputs": [
    {
     "data": {
      "image/png": "[encoded data removed]",
      "text/plain": [
       "<Figure size 432x288 with 1 Axes>"
      ]
     },
     "metadata": {
      "needs_background": "light"
     },
     "output_type": "display_data"
    }
   ],
   "source": [
    "plt.scatter(X_dist, Y_prev, label='prev')\n",
    "plt.scatter(X_dist, Y_kalman, label='kalman')\n",
    "plt.scatter(X_dist, Y_theta, label='theta')\n",
    "plt.scatter(X_dist, Y_fb, label='fb')\n",
    "plt.legend()\n",
    "plt.xlabel('freq_mahalanobis_dist')\n",
    "plt.ylabel('rmse')\n",
    "plt.show()"
   ]
  },
  {
   "cell_type": "markdown",
   "metadata": {},
   "source": [
    "### Compare Errors to Demand Means"
   ]
  },
  {
   "cell_type": "code",
   "execution_count": 40,
   "metadata": {},
   "outputs": [],
   "source": [
    "X_mean   = []\n",
    "\n",
    "for i in range(len(predictions)):\n",
    "    location = locations_subset[i]\n",
    "    mean_ = location_series[location]['demand'].mean()\n",
    "    X_mean.append(mean_)"
   ]
  },
  {
   "cell_type": "code",
   "execution_count": 41,
   "metadata": {},
   "outputs": [
    {
     "data": {
      "image/png": "[encoded data removed]",
      "text/plain": [
       "<Figure size 432x288 with 1 Axes>"
      ]
     },
     "metadata": {
      "needs_background": "light"
     },
     "output_type": "display_data"
    }
   ],
   "source": [
    "plt.scatter(X_mean, Y_prev, label='prev')\n",
    "plt.scatter(X_mean, Y_kalman, label='kalman')\n",
    "plt.scatter(X_mean, Y_theta, label='theta')\n",
    "plt.scatter(X_mean, Y_fb, label='fb')\n",
    "plt.legend()\n",
    "plt.xlabel('freq_mahalanobis_dist')\n",
    "plt.ylabel('mean')\n",
    "plt.show()"
   ]
  },
  {
   "cell_type": "markdown",
   "metadata": {},
   "source": [
    "### Compare errors to time of the day"
   ]
  },
  {
   "cell_type": "code",
   "execution_count": 49,
   "metadata": {},
   "outputs": [
    {
     "data": {
      "text/plain": [
       "array([ 0,  1,  2,  3,  4,  5,  6,  7,  8,  9, 10, 11, 12, 13, 14, 15, 16,\n",
       "       17, 18, 19])"
      ]
     },
     "execution_count": 49,
     "metadata": {},
     "output_type": "execute_result"
    }
   ],
   "source": [
    "X_time = np.arange(TIMESTEPS)\n",
    "X_time"
   ]
  },
  {
   "cell_type": "code",
   "execution_count": 46,
   "metadata": {},
   "outputs": [],
   "source": [
    "Y_prev   = np.zeros(TIMESTEPS)\n",
    "Y_kalman = np.zeros(TIMESTEPS)\n",
    "Y_theta  = np.zeros(TIMESTEPS)\n",
    "Y_fb     = np.zeros(TIMESTEPS)\n",
    "\n",
    "for i in range(len(predictions)):\n",
    "    for t in range(TIMESTEPS):\n",
    "        theta_pred = (predictions[i][t][2] + predictions[i][t][3]) / 2.0\n",
    "        theta_pred = np.clip(theta_pred    , a_min=0.0, a_max=1.0)\n",
    "        \n",
    "        Y_prev[t]   += mean_squared_error(predictions[i][t][0], actuals[i][t])\n",
    "        Y_kalman[t] += mean_squared_error(predictions[i][t][1], actuals[i][t])\n",
    "        Y_theta[t]  += mean_squared_error(theta_pred, actuals[i][t])\n",
    "        Y_fb[t]     += mean_squared_error(predictions[i][t][4], actuals[i][t])\n",
    "\n",
    "Y_prev   = np.sqrt(Y_prev   / len(predictions))\n",
    "Y_kalman = np.sqrt(Y_kalman / len(predictions))\n",
    "Y_theta  = np.sqrt(Y_theta  / len(predictions))\n",
    "Y_fb     = np.sqrt(Y_fb     / len(predictions))"
   ]
  },
  {
   "cell_type": "code",
   "execution_count": 50,
   "metadata": {},
   "outputs": [
    {
     "data": {
      "image/png": "[encoded data removed]",
      "text/plain": [
       "<Figure size 432x288 with 1 Axes>"
      ]
     },
     "metadata": {
      "needs_background": "light"
     },
     "output_type": "display_data"
    }
   ],
   "source": [
    "plt.scatter(X_time, Y_prev, label='prev')\n",
    "plt.scatter(X_time, Y_kalman, label='kalman')\n",
    "plt.scatter(X_time, Y_theta, label='theta')\n",
    "plt.scatter(X_time, Y_fb, label='fb')\n",
    "plt.legend()\n",
    "plt.xlabel('freq_mahalanobis_dist')\n",
    "plt.ylabel('mean')\n",
    "plt.show()"
   ]
  },
  {
   "cell_type": "markdown",
   "metadata": {},
   "source": [
    "## Linear Regression for the Weights"
   ]
  },
  {
   "cell_type": "markdown",
   "metadata": {},
   "source": [
    "### Stage 1 (Kalman filter + Theta method)"
   ]
  },
  {
   "cell_type": "code",
   "execution_count": 171,
   "metadata": {},
   "outputs": [],
   "source": [
    "predictions_ = predictions.transpose((0, 1, 3, 2)).reshape(-1, 5)\n",
    "predictions_ = np.stack([predictions_[:,1], (predictions_[:,2] + predictions_[:,3])/2.0], axis=0)\n",
    "predictions_ = predictions_.T\n",
    "actuals_     = actuals.reshape(-1)"
   ]
  },
  {
   "cell_type": "code",
   "execution_count": 172,
   "metadata": {},
   "outputs": [
    {
     "data": {
      "text/plain": [
       "array([0.2969419 , 0.67783948])"
      ]
     },
     "execution_count": 172,
     "metadata": {},
     "output_type": "execute_result"
    }
   ],
   "source": [
    "# lin_reg = LinearRegression(fit_intercept=False)\n",
    "lin_reg = HuberRegressor(fit_intercept=False)\n",
    "lin_reg = lin_reg.fit(predictions_, actuals_)\n",
    "\n",
    "lin_reg.coef_"
   ]
  },
  {
   "cell_type": "markdown",
   "metadata": {},
   "source": [
    "### Stage 2 (Kalman filter + Theta method + FBProphet)"
   ]
  },
  {
   "cell_type": "code",
   "execution_count": 175,
   "metadata": {},
   "outputs": [],
   "source": [
    "predictions_ = predictions.transpose((0, 1, 3, 2)).reshape(-1, 5)\n",
    "predictions_ = np.stack([predictions_[:,1], (predictions_[:,2] + predictions_[:,3])/2.0, predictions_[:,4]], axis=0)\n",
    "predictions_ = predictions_.T\n",
    "actuals_     = actuals.reshape(-1)"
   ]
  },
  {
   "cell_type": "code",
   "execution_count": 176,
   "metadata": {},
   "outputs": [
    {
     "data": {
      "text/plain": [
       "array([0.309658  , 0.38132017, 0.29395973])"
      ]
     },
     "execution_count": 176,
     "metadata": {},
     "output_type": "execute_result"
    }
   ],
   "source": [
    "# lin_reg = LinearRegression(fit_intercept=False)\n",
    "lin_reg = HuberRegressor(fit_intercept=False)\n",
    "lin_reg = lin_reg.fit(predictions_, actuals_)\n",
    "\n",
    "lin_reg.coef_"
   ]
  },
  {
   "cell_type": "markdown",
   "metadata": {},
   "source": [
    "### Check"
   ]
  },
  {
   "cell_type": "code",
   "execution_count": 195,
   "metadata": {},
   "outputs": [],
   "source": [
    "optimized_stage1_mse_sum = 0\n",
    "optimized_stage2_mse_sum = 0"
   ]
  },
  {
   "cell_type": "code",
   "execution_count": 196,
   "metadata": {},
   "outputs": [],
   "source": [
    "for i in range(len(predictions)):\n",
    "    for t in range(TIMESTEPS):\n",
    "        theta_pred         = (predictions[i][t][2] + predictions[i][t][3]) / 2.0\n",
    "        \n",
    "        optimized_stage1_pred = 0.2969419   * predictions[i][t][1] + \\\n",
    "                                0.67783948  * theta_pred\n",
    "        \n",
    "        optimized_stage2_pred = 0.309658   * predictions[i][t][1] + \\\n",
    "                                0.38132017 * theta_pred + \\\n",
    "                                0.29395973 * predictions[i][t][4]\n",
    "        \n",
    "        optimized_stage1_pred = np.clip(optimized_stage1_pred, a_min=0.0, a_max=1.0)\n",
    "        optimized_stage2_pred = np.clip(optimized_stage2_pred, a_min=0.0, a_max=1.0)\n",
    "        \n",
    "        optimized_stage1_mse_sum += mean_squared_error(optimized_stage1_pred, actuals[i][t])\n",
    "        optimized_stage2_mse_sum += mean_squared_error(optimized_stage2_pred, actuals[i][t])"
   ]
  },
  {
   "cell_type": "code",
   "execution_count": 197,
   "metadata": {},
   "outputs": [
    {
     "name": "stdout",
     "output_type": "stream",
     "text": [
      "all_rmse                0.030120535060712182\n",
      "optimized_stage1_rmse   0.03202539470029315\n",
      "optimized_stage2_rmse   0.030230689041774075\n"
     ]
    }
   ],
   "source": [
    "print(\"all_rmse               \", math.sqrt(all_mse_sum              / (TIMESTEPS * len(predictions))))\n",
    "\n",
    "print(\"optimized_stage1_rmse  \", math.sqrt(optimized_stage1_mse_sum / (TIMESTEPS * len(predictions))))\n",
    "print(\"optimized_stage2_rmse  \", math.sqrt(optimized_stage2_mse_sum / (TIMESTEPS * len(predictions))))"
   ]
  },
  {
   "cell_type": "markdown",
   "metadata": {},
   "source": [
    "note the ~5% decrease of rmse from stage 1 to stage 2"
   ]
  },
  {
   "cell_type": "code",
   "execution_count": null,
   "metadata": {},
   "outputs": [],
   "source": []
  }
 ],
 "metadata": {
  "kernelspec": {
   "display_name": "Python [conda env:py36]",
   "language": "python",
   "name": "conda-env-py36-py"
  },
  "language_info": {
   "codemirror_mode": {
    "name": "ipython",
    "version": 3
   },
   "file_extension": ".py",
   "mimetype": "text/x-python",
   "name": "python",
   "nbconvert_exporter": "python",
   "pygments_lexer": "ipython3",
   "version": "3.6.8"
  }
 },
 "nbformat": 4,
 "nbformat_minor": 2
}
